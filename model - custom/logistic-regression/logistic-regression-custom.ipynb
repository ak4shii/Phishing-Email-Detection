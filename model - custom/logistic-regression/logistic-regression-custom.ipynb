{
 "cells": [
  {
   "cell_type": "code",
   "execution_count": 2,
   "id": "322df4df-b3dc-474d-a314-83b97b46cbfd",
   "metadata": {},
   "outputs": [],
   "source": [
    "import numpy as np\n",
    "import pandas as pd\n",
    "\n",
    "from sklearn.model_selection import train_test_split\n",
    "from sklearn.feature_extraction.text import TfidfVectorizer"
   ]
  },
  {
   "cell_type": "code",
   "execution_count": 4,
   "id": "3b7e8a76-7495-411e-9e18-d91bcef06635",
   "metadata": {},
   "outputs": [],
   "source": [
    "def convert_to_dense_if_sparse(X):\n",
    "    if hasattr(X, 'toarray'):\n",
    "        return X.toarray()\n",
    "    return X"
   ]
  },
  {
   "cell_type": "code",
   "execution_count": 6,
   "id": "52e02d58-9148-4c88-aa68-127be226a209",
   "metadata": {},
   "outputs": [],
   "source": [
    "class LogisticRegression_Custom:\n",
    "    def __init__(self, learning_rate=0.01, nums_of_iteration=1000, C=None):\n",
    "        self.learning_rate = learning_rate\n",
    "        self.nums_of_iteration = nums_of_iteration\n",
    "        self.C = C\n",
    "    \n",
    "    def fit(self, X, y):\n",
    "        self.X = convert_to_dense_if_sparse(X)\n",
    "        self.y = y.to_numpy()\n",
    "\n",
    "        m, n = self.X.shape\n",
    "        self.w = np.zeros(n)\n",
    "        self.b = 0\n",
    "\n",
    "        for i in range(self.nums_of_iteration):\n",
    "            z = self.X.dot(self.w) + self.b\n",
    "            y_hat = self.sigmoid(z)\n",
    "        \n",
    "            dw = (1 / m) * np.dot(self.X.T, (y_hat - self.y)) + ((1 / self.C) / m) * self.w\n",
    "            db = (1 / m) * np.sum(y_hat - self.y)\n",
    "\n",
    "            self.w = self.w - (self.learning_rate * dw)\n",
    "            self.b = self.b - (self.learning_rate * db)\n",
    "        \n",
    "        return self\n",
    "\n",
    "    def sigmoid(self, z):\n",
    "        return 1 / (1 + np.exp(-z))\n",
    "        \n",
    "    def predict(self, X):\n",
    "        X = convert_to_dense_if_sparse(X)\n",
    "        y_pred = 1 / (1 + np.exp(-(X.dot(self.w) + self.b)))\n",
    "        return np.where(y_pred >= 0.5, 1, 0) \n",
    "\n",
    "    def evaluate(self, X, y):\n",
    "        y_pred = self.predict(X)\n",
    "        \n",
    "        true_positive = np.sum((y_pred == 1) & (y == 1))\n",
    "        true_negative = np.sum((y_pred == 0) & (y == 0))\n",
    "        false_positive = np.sum((y_pred == 1) & (y == 0))\n",
    "        false_negative = np.sum((y_pred == 0) & (y == 1))\n",
    "\n",
    "        accuracy_score = (true_positive + true_negative) / y.shape[0]\n",
    "        precision_score = true_positive / (true_positive + false_positive)\n",
    "        recall_score = true_positive / (true_positive + false_negative)\n",
    "        f1_score = (2 * precision_score * recall_score / (precision_score + recall_score))\n",
    "        \n",
    "        return {\n",
    "        \"accuracy_score\": accuracy_score,\n",
    "        \"precision_score\": precision_score,\n",
    "        \"recall_score\": recall_score,\n",
    "        \"f1_score\": f1_score\n",
    "        }"
   ]
  },
  {
   "cell_type": "code",
   "execution_count": 8,
   "id": "db5d3fe5-f126-4e77-88e5-4224ea8a502a",
   "metadata": {},
   "outputs": [],
   "source": [
    "C = np.logspace(-2, 2, 10)\n",
    "C_ = C[7]"
   ]
  },
  {
   "cell_type": "code",
   "execution_count": 10,
   "id": "336c7ad4-99ba-4e79-b79c-bb953e5cc2bc",
   "metadata": {},
   "outputs": [],
   "source": [
    "algo_lr_custom = LogisticRegression_Custom(learning_rate=1.0, nums_of_iteration=2000, C=C_)"
   ]
  },
  {
   "cell_type": "markdown",
   "id": "13b837b8-a74b-4852-88fd-a1b2bd1f7e71",
   "metadata": {},
   "source": [
    "DATASET 1"
   ]
  },
  {
   "cell_type": "code",
   "execution_count": 13,
   "id": "a8d03b72-cbc6-4c93-a5e6-9e8cfd7d6a6a",
   "metadata": {},
   "outputs": [
    {
     "data": {
      "text/html": [
       "<div>\n",
       "<style scoped>\n",
       "    .dataframe tbody tr th:only-of-type {\n",
       "        vertical-align: middle;\n",
       "    }\n",
       "\n",
       "    .dataframe tbody tr th {\n",
       "        vertical-align: top;\n",
       "    }\n",
       "\n",
       "    .dataframe thead th {\n",
       "        text-align: right;\n",
       "    }\n",
       "</style>\n",
       "<table border=\"1\" class=\"dataframe\">\n",
       "  <thead>\n",
       "    <tr style=\"text-align: right;\">\n",
       "      <th></th>\n",
       "      <th>cleaned text</th>\n",
       "      <th>label enc</th>\n",
       "    </tr>\n",
       "  </thead>\n",
       "  <tbody>\n",
       "    <tr>\n",
       "      <th>0</th>\n",
       "      <td>6 1100 disc uniformitarian 1086 sex lang dick ...</td>\n",
       "      <td>0</td>\n",
       "    </tr>\n",
       "    <tr>\n",
       "      <th>1</th>\n",
       "      <td>side galicismo galicismo spanish term name imp...</td>\n",
       "      <td>0</td>\n",
       "    </tr>\n",
       "    <tr>\n",
       "      <th>2</th>\n",
       "      <td>equistar deal ticket still avail assist robert...</td>\n",
       "      <td>0</td>\n",
       "    </tr>\n",
       "    <tr>\n",
       "      <th>3</th>\n",
       "      <td>hello hot lil horni toy one dream open mind pe...</td>\n",
       "      <td>1</td>\n",
       "    </tr>\n",
       "    <tr>\n",
       "      <th>4</th>\n",
       "      <td>softwar incred low price 86 lower draperi seve...</td>\n",
       "      <td>1</td>\n",
       "    </tr>\n",
       "  </tbody>\n",
       "</table>\n",
       "</div>"
      ],
      "text/plain": [
       "                                        cleaned text  label enc\n",
       "0  6 1100 disc uniformitarian 1086 sex lang dick ...          0\n",
       "1  side galicismo galicismo spanish term name imp...          0\n",
       "2  equistar deal ticket still avail assist robert...          0\n",
       "3  hello hot lil horni toy one dream open mind pe...          1\n",
       "4  softwar incred low price 86 lower draperi seve...          1"
      ]
     },
     "execution_count": 13,
     "metadata": {},
     "output_type": "execute_result"
    }
   ],
   "source": [
    "cleaned_df_1 = pd.read_csv(\"cleaned_kaggle_phishing_email.csv\")\n",
    "cleaned_df_1.head()"
   ]
  },
  {
   "cell_type": "code",
   "execution_count": 14,
   "id": "57a51fb7-3e80-4636-8ccd-9c696f2e720d",
   "metadata": {},
   "outputs": [
    {
     "name": "stdout",
     "output_type": "stream",
     "text": [
      "X_train Shape: (12667,) - y_train Shape: (12667,)\n",
      "X_test Shape: (5429,) - y_test Shape: (5429,)\n"
     ]
    }
   ],
   "source": [
    "X, y = cleaned_df_1[\"cleaned text\"], cleaned_df_1[\"label enc\"]\n",
    "\n",
    "X_train, X_test, y_train, y_test = train_test_split(\n",
    "    X, y, test_size=0.3, random_state=15\n",
    ")\n",
    "\n",
    "print(f\"X_train Shape: {X_train.shape} - y_train Shape: {y_train.shape}\")\n",
    "print(f\"X_test Shape: {X_test.shape} - y_test Shape: {y_test.shape}\")"
   ]
  },
  {
   "cell_type": "code",
   "execution_count": 15,
   "id": "c05bbde8-916d-4d97-b5ab-6a5b81e6d8dd",
   "metadata": {},
   "outputs": [
    {
     "data": {
      "text/plain": [
       "((12667, 10000), (5429, 10000))"
      ]
     },
     "execution_count": 15,
     "metadata": {},
     "output_type": "execute_result"
    }
   ],
   "source": [
    "tfidf = TfidfVectorizer(ngram_range=(1, 2), max_features=10000)\n",
    "\n",
    "X_train_tfidf = tfidf.fit_transform(X_train)\n",
    "\n",
    "X_test_tfidf = tfidf.transform(X_test)\n",
    "\n",
    "X_train_tfidf.shape, X_test_tfidf.shape"
   ]
  },
  {
   "cell_type": "code",
   "execution_count": 17,
   "id": "7a872027-d997-4cad-8584-1be5287b69f0",
   "metadata": {},
   "outputs": [
    {
     "name": "stdout",
     "output_type": "stream",
     "text": [
      "Sparsity Percentage of the TF-IDF Matrix: 99.00%\n"
     ]
    }
   ],
   "source": [
    "sparsity = (1.0 - (X_train_tfidf.nnz / float(X_train_tfidf.shape[0] * X_train_tfidf.shape[1]))) * 100\n",
    "print(f\"Sparsity Percentage of the TF-IDF Matrix: {sparsity:.2f}%\")"
   ]
  },
  {
   "cell_type": "code",
   "execution_count": 19,
   "id": "1676d4e9-0978-47e5-bafe-eecd98539288",
   "metadata": {},
   "outputs": [
    {
     "name": "stdout",
     "output_type": "stream",
     "text": [
      "[[0.         0.         0.         ... 0.         0.         0.        ]\n",
      " [0.02782431 0.         0.         ... 0.         0.         0.        ]\n",
      " [0.         0.         0.         ... 0.         0.         0.        ]\n",
      " ...\n",
      " [0.         0.         0.         ... 0.         0.         0.        ]\n",
      " [0.         0.         0.         ... 0.         0.         0.        ]\n",
      " [0.         0.         0.         ... 0.         0.         0.        ]]\n"
     ]
    }
   ],
   "source": [
    "print(X_train_tfidf.toarray())"
   ]
  },
  {
   "cell_type": "code",
   "execution_count": 20,
   "id": "8a926b58-3d5f-45d0-a24b-2a64317c4282",
   "metadata": {},
   "outputs": [],
   "source": [
    "model_lr_custom_1 = algo_lr_custom.fit(X_train_tfidf, y_train)"
   ]
  },
  {
   "cell_type": "code",
   "execution_count": 21,
   "id": "546e767a-72f6-4659-ae64-16fa0c5ff024",
   "metadata": {},
   "outputs": [
    {
     "data": {
      "text/plain": [
       "{'accuracy_score': 0.9563455516669737,\n",
       " 'precision_score': 0.9728779507785033,\n",
       " 'recall_score': 0.9136792452830189,\n",
       " 'f1_score': 0.9423497932376551}"
      ]
     },
     "execution_count": 21,
     "metadata": {},
     "output_type": "execute_result"
    }
   ],
   "source": [
    "model_lr_custom_1.evaluate(X_test_tfidf, y_test)"
   ]
  },
  {
   "cell_type": "markdown",
   "id": "7f3fa9ef-ff43-4a40-8f05-8c3a81ecd84e",
   "metadata": {},
   "source": [
    "DATASET 2"
   ]
  },
  {
   "cell_type": "code",
   "execution_count": 23,
   "id": "83a4cc5c-24fc-4187-9840-4f422bcea7dd",
   "metadata": {},
   "outputs": [
    {
     "data": {
      "text/html": [
       "<div>\n",
       "<style scoped>\n",
       "    .dataframe tbody tr th:only-of-type {\n",
       "        vertical-align: middle;\n",
       "    }\n",
       "\n",
       "    .dataframe tbody tr th {\n",
       "        vertical-align: top;\n",
       "    }\n",
       "\n",
       "    .dataframe thead th {\n",
       "        text-align: right;\n",
       "    }\n",
       "</style>\n",
       "<table border=\"1\" class=\"dataframe\">\n",
       "  <thead>\n",
       "    <tr style=\"text-align: right;\">\n",
       "      <th></th>\n",
       "      <th>cleaned text</th>\n",
       "      <th>label enc</th>\n",
       "    </tr>\n",
       "  </thead>\n",
       "  <tbody>\n",
       "    <tr>\n",
       "      <th>0</th>\n",
       "      <td>buck troubl caus small dimens soon becom lover...</td>\n",
       "      <td>1</td>\n",
       "    </tr>\n",
       "    <tr>\n",
       "      <th>1</th>\n",
       "      <td>upgrad sex pleasur techniqu</td>\n",
       "      <td>1</td>\n",
       "    </tr>\n",
       "    <tr>\n",
       "      <th>2</th>\n",
       "      <td>daili top 10 cnn com top video stori aug 1 200...</td>\n",
       "      <td>1</td>\n",
       "    </tr>\n",
       "    <tr>\n",
       "      <th>3</th>\n",
       "      <td>would anyon object remov list tld basic dead f...</td>\n",
       "      <td>0</td>\n",
       "    </tr>\n",
       "    <tr>\n",
       "      <th>4</th>\n",
       "      <td>welcomefastshippingcustomersupport</td>\n",
       "      <td>1</td>\n",
       "    </tr>\n",
       "  </tbody>\n",
       "</table>\n",
       "</div>"
      ],
      "text/plain": [
       "                                        cleaned text  label enc\n",
       "0  buck troubl caus small dimens soon becom lover...          1\n",
       "1                        upgrad sex pleasur techniqu          1\n",
       "2  daili top 10 cnn com top video stori aug 1 200...          1\n",
       "3  would anyon object remov list tld basic dead f...          0\n",
       "4                 welcomefastshippingcustomersupport          1"
      ]
     },
     "execution_count": 23,
     "metadata": {},
     "output_type": "execute_result"
    }
   ],
   "source": [
    "cleaned_df_2 = pd.read_csv(\"cleaned_CEAS-08.csv\")\n",
    "cleaned_df_2.head()"
   ]
  },
  {
   "cell_type": "code",
   "execution_count": 24,
   "id": "ec1f4139-07dd-4a1f-817d-000c71a66073",
   "metadata": {},
   "outputs": [
    {
     "name": "stdout",
     "output_type": "stream",
     "text": [
      "X_train Shape: (27406,) - y_train Shape: (27406,)\n",
      "X_test Shape: (11746,) - y_test Shape: (11746,)\n"
     ]
    }
   ],
   "source": [
    "X, y = cleaned_df_2[\"cleaned text\"], cleaned_df_2[\"label enc\"]\n",
    "\n",
    "X_train, X_test, y_train, y_test = train_test_split(\n",
    "    X, y, test_size=0.3, random_state=15\n",
    ")\n",
    "\n",
    "print(f\"X_train Shape: {X_train.shape} - y_train Shape: {y_train.shape}\")\n",
    "print(f\"X_test Shape: {X_test.shape} - y_test Shape: {y_test.shape}\")"
   ]
  },
  {
   "cell_type": "code",
   "execution_count": 25,
   "id": "55b27381-167e-4592-99d2-41e0afc36f1e",
   "metadata": {},
   "outputs": [
    {
     "data": {
      "text/plain": [
       "((27406, 10000), (11746, 10000))"
      ]
     },
     "execution_count": 25,
     "metadata": {},
     "output_type": "execute_result"
    }
   ],
   "source": [
    "tfidf = TfidfVectorizer(ngram_range=(1, 2), max_features=10000)\n",
    "\n",
    "X_train_tfidf = tfidf.fit_transform(X_train)\n",
    "\n",
    "X_test_tfidf = tfidf.transform(X_test)\n",
    "\n",
    "X_train_tfidf.shape, X_test_tfidf.shape"
   ]
  },
  {
   "cell_type": "code",
   "execution_count": 26,
   "id": "8266a398-e306-40b9-bbba-09948024d1c7",
   "metadata": {},
   "outputs": [
    {
     "name": "stdout",
     "output_type": "stream",
     "text": [
      "Sparsity Percentage of the TF-IDF Matrix: 99.09%\n"
     ]
    }
   ],
   "source": [
    "sparsity = (1.0 - (X_train_tfidf.nnz / float(X_train_tfidf.shape[0] * X_train_tfidf.shape[1]))) * 100\n",
    "print(f\"Sparsity Percentage of the TF-IDF Matrix: {sparsity:.2f}%\")"
   ]
  },
  {
   "cell_type": "code",
   "execution_count": 27,
   "id": "8fb46b17-1b22-4206-b1ec-f301fea5d6e5",
   "metadata": {},
   "outputs": [
    {
     "name": "stdout",
     "output_type": "stream",
     "text": [
      "[[0. 0. 0. ... 0. 0. 0.]\n",
      " [0. 0. 0. ... 0. 0. 0.]\n",
      " [0. 0. 0. ... 0. 0. 0.]\n",
      " ...\n",
      " [0. 0. 0. ... 0. 0. 0.]\n",
      " [0. 0. 0. ... 0. 0. 0.]\n",
      " [0. 0. 0. ... 0. 0. 0.]]\n"
     ]
    }
   ],
   "source": [
    "print(X_train_tfidf.toarray())"
   ]
  },
  {
   "cell_type": "code",
   "execution_count": 28,
   "id": "0bc8b46c-b9f3-483c-adfd-de730c865eef",
   "metadata": {},
   "outputs": [],
   "source": [
    "model_lr_custom_2 = algo_lr_custom.fit(X_train_tfidf, y_train)"
   ]
  },
  {
   "cell_type": "code",
   "execution_count": 29,
   "id": "f01ad445-8294-484a-9c62-795c1809b886",
   "metadata": {},
   "outputs": [
    {
     "data": {
      "text/plain": [
       "{'accuracy_score': 0.9811850842840116,\n",
       " 'precision_score': 0.9803454437164979,\n",
       " 'recall_score': 0.9866626704630601,\n",
       " 'f1_score': 0.9834939129135857}"
      ]
     },
     "execution_count": 29,
     "metadata": {},
     "output_type": "execute_result"
    }
   ],
   "source": [
    "model_lr_custom_2.evaluate(X_test_tfidf, y_test)"
   ]
  },
  {
   "cell_type": "markdown",
   "id": "3c3fe8c4-fe04-4f4a-9bdc-2e0877a119dd",
   "metadata": {},
   "source": [
    "DATASET 3"
   ]
  },
  {
   "cell_type": "code",
   "execution_count": 37,
   "id": "bf47f72a-5dbd-494b-899c-d64ec22063b2",
   "metadata": {},
   "outputs": [
    {
     "data": {
      "text/html": [
       "<div>\n",
       "<style scoped>\n",
       "    .dataframe tbody tr th:only-of-type {\n",
       "        vertical-align: middle;\n",
       "    }\n",
       "\n",
       "    .dataframe tbody tr th {\n",
       "        vertical-align: top;\n",
       "    }\n",
       "\n",
       "    .dataframe thead th {\n",
       "        text-align: right;\n",
       "    }\n",
       "</style>\n",
       "<table border=\"1\" class=\"dataframe\">\n",
       "  <thead>\n",
       "    <tr style=\"text-align: right;\">\n",
       "      <th></th>\n",
       "      <th>cleaned text</th>\n",
       "      <th>label enc</th>\n",
       "    </tr>\n",
       "  </thead>\n",
       "  <tbody>\n",
       "    <tr>\n",
       "      <th>0</th>\n",
       "      <td>perform origin messag issuealert scientech com...</td>\n",
       "      <td>0</td>\n",
       "    </tr>\n",
       "    <tr>\n",
       "      <th>1</th>\n",
       "      <td>w w highhest qualiti medd great offfer v codin...</td>\n",
       "      <td>1</td>\n",
       "    </tr>\n",
       "    <tr>\n",
       "      <th>2</th>\n",
       "      <td>make r cher might need bundi 1 w ndow x p pro ...</td>\n",
       "      <td>1</td>\n",
       "    </tr>\n",
       "    <tr>\n",
       "      <th>3</th>\n",
       "      <td>drug chemic ident brand name equival except pr...</td>\n",
       "      <td>1</td>\n",
       "    </tr>\n",
       "    <tr>\n",
       "      <th>4</th>\n",
       "      <td>team project request spreadsheet develop facil...</td>\n",
       "      <td>0</td>\n",
       "    </tr>\n",
       "  </tbody>\n",
       "</table>\n",
       "</div>"
      ],
      "text/plain": [
       "                                        cleaned text  label enc\n",
       "0  perform origin messag issuealert scientech com...          0\n",
       "1  w w highhest qualiti medd great offfer v codin...          1\n",
       "2  make r cher might need bundi 1 w ndow x p pro ...          1\n",
       "3  drug chemic ident brand name equival except pr...          1\n",
       "4  team project request spreadsheet develop facil...          0"
      ]
     },
     "execution_count": 37,
     "metadata": {},
     "output_type": "execute_result"
    }
   ],
   "source": [
    "cleaned_df_3 = pd.read_csv(\"cleaned_Enron.csv\")\n",
    "cleaned_df_3.head()"
   ]
  },
  {
   "cell_type": "code",
   "execution_count": 38,
   "id": "7e724388-3ff4-4b72-90ad-6b37acc78089",
   "metadata": {},
   "outputs": [
    {
     "name": "stdout",
     "output_type": "stream",
     "text": [
      "X_train Shape: (20827,) - y_train Shape: (20827,)\n",
      "X_test Shape: (8926,) - y_test Shape: (8926,)\n"
     ]
    }
   ],
   "source": [
    "X, y = cleaned_df_3[\"cleaned text\"], cleaned_df_3[\"label enc\"]\n",
    "\n",
    "X_train, X_test, y_train, y_test = train_test_split(\n",
    "    X, y, test_size=0.3, random_state=15\n",
    ")\n",
    "\n",
    "print(f\"X_train Shape: {X_train.shape} - y_train Shape: {y_train.shape}\")\n",
    "print(f\"X_test Shape: {X_test.shape} - y_test Shape: {y_test.shape}\")"
   ]
  },
  {
   "cell_type": "code",
   "execution_count": 39,
   "id": "988a2889-9914-480c-8f0b-dbdb13338efc",
   "metadata": {},
   "outputs": [
    {
     "data": {
      "text/plain": [
       "((20827, 10000), (8926, 10000))"
      ]
     },
     "execution_count": 39,
     "metadata": {},
     "output_type": "execute_result"
    }
   ],
   "source": [
    "tfidf = TfidfVectorizer(ngram_range=(1, 2), max_features=10000)\n",
    "\n",
    "X_train_tfidf = tfidf.fit_transform(X_train)\n",
    "\n",
    "X_test_tfidf = tfidf.transform(X_test)\n",
    "\n",
    "X_train_tfidf.shape, X_test_tfidf.shape"
   ]
  },
  {
   "cell_type": "code",
   "execution_count": 40,
   "id": "188d6312-5bb6-4aa3-a1d3-b480b2ea4588",
   "metadata": {},
   "outputs": [
    {
     "name": "stdout",
     "output_type": "stream",
     "text": [
      "Sparsity Percentage of the TF-IDF Matrix: 99.09%\n"
     ]
    }
   ],
   "source": [
    "sparsity = (1.0 - (X_train_tfidf.nnz / float(X_train_tfidf.shape[0] * X_train_tfidf.shape[1]))) * 100\n",
    "print(f\"Sparsity Percentage of the TF-IDF Matrix: {sparsity:.2f}%\")"
   ]
  },
  {
   "cell_type": "code",
   "execution_count": 42,
   "id": "a220d24a-34cc-45b1-ae80-66467398cae9",
   "metadata": {},
   "outputs": [
    {
     "name": "stdout",
     "output_type": "stream",
     "text": [
      "[[0.0292113  0.         0.         ... 0.         0.         0.        ]\n",
      " [0.         0.         0.         ... 0.         0.         0.        ]\n",
      " [0.00989535 0.         0.         ... 0.         0.         0.        ]\n",
      " ...\n",
      " [0.         0.         0.         ... 0.         0.         0.        ]\n",
      " [0.         0.         0.         ... 0.         0.         0.        ]\n",
      " [0.         0.         0.         ... 0.         0.         0.        ]]\n"
     ]
    }
   ],
   "source": [
    "print(X_train_tfidf.toarray())"
   ]
  },
  {
   "cell_type": "code",
   "execution_count": 44,
   "id": "b0bad715-8dc7-4d5e-ba81-ec1b8eb154d5",
   "metadata": {},
   "outputs": [],
   "source": [
    "model_lr_custom_3 = algo_lr_custom.fit(X_train_tfidf, y_train)"
   ]
  },
  {
   "cell_type": "code",
   "execution_count": 45,
   "id": "a75b4550-b637-45f0-bf9d-d167d910cc0d",
   "metadata": {},
   "outputs": [
    {
     "data": {
      "text/plain": [
       "{'accuracy_score': 0.9758010306968407,\n",
       " 'precision_score': 0.9573778086634237,\n",
       " 'recall_score': 0.9923169267707083,\n",
       " 'f1_score': 0.9745343079462392}"
      ]
     },
     "execution_count": 45,
     "metadata": {},
     "output_type": "execute_result"
    }
   ],
   "source": [
    "model_lr_custom_3.evaluate(X_test_tfidf, y_test)"
   ]
  }
 ],
 "metadata": {
  "kernelspec": {
   "display_name": "Python 3 (ipykernel)",
   "language": "python",
   "name": "python3"
  },
  "language_info": {
   "codemirror_mode": {
    "name": "ipython",
    "version": 3
   },
   "file_extension": ".py",
   "mimetype": "text/x-python",
   "name": "python",
   "nbconvert_exporter": "python",
   "pygments_lexer": "ipython3",
   "version": "3.12.7"
  }
 },
 "nbformat": 4,
 "nbformat_minor": 5
}
