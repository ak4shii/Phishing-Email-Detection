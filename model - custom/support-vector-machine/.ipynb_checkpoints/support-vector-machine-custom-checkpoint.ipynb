{
  "cells": [
    {
      "cell_type": "code",
      "execution_count": 2,
      "id": "9381ce07-7601-471f-ae48-e22bdb4fee80",
      "metadata": {
        "id": "9381ce07-7601-471f-ae48-e22bdb4fee80"
      },
      "outputs": [],
      "source": [
        "import numpy as np\n",
        "import pandas as pd\n",
        "\n",
        "from sklearn.model_selection import train_test_split\n",
        "from sklearn.feature_extraction.text import TfidfVectorizer"
      ]
    },
    {
      "cell_type": "code",
      "execution_count": 3,
      "id": "8VNVvY3aVdx5",
      "metadata": {
        "colab": {
          "base_uri": "https://localhost:8080/"
        },
        "id": "8VNVvY3aVdx5",
        "outputId": "d4bdf39d-25b9-4ea8-b8ef-11c9b44ed617"
      },
      "outputs": [
        {
          "output_type": "stream",
          "name": "stdout",
          "text": [
            "Drive already mounted at /content/drive; to attempt to forcibly remount, call drive.mount(\"/content/drive\", force_remount=True).\n"
          ]
        }
      ],
      "source": [
        "# Import dataset\n",
        "from google.colab import drive\n",
        "drive.mount('/content/drive')"
      ]
    },
    {
      "cell_type": "code",
      "execution_count": 4,
      "id": "lDMKZC33Vl83",
      "metadata": {
        "colab": {
          "base_uri": "https://localhost:8080/",
          "height": 206
        },
        "id": "lDMKZC33Vl83",
        "outputId": "66bbc19d-49ee-4942-ccc1-6eec541a6f0f"
      },
      "outputs": [
        {
          "output_type": "execute_result",
          "data": {
            "text/plain": [
              "                                        cleaned text  label enc\n",
              "0  6 1100 disc uniformitarian 1086 sex lang dick ...          0\n",
              "1  side galicismo galicismo spanish term name imp...          0\n",
              "2  equistar deal ticket still avail assist robert...          0\n",
              "3  hello hot lil horni toy one dream open mind pe...          1\n",
              "4  softwar incred low price 86 lower draperi seve...          1"
            ],
            "text/html": [
              "\n",
              "  <div id=\"df-f68bb0e9-cfb4-4dae-bb4d-faf8f42d4871\" class=\"colab-df-container\">\n",
              "    <div>\n",
              "<style scoped>\n",
              "    .dataframe tbody tr th:only-of-type {\n",
              "        vertical-align: middle;\n",
              "    }\n",
              "\n",
              "    .dataframe tbody tr th {\n",
              "        vertical-align: top;\n",
              "    }\n",
              "\n",
              "    .dataframe thead th {\n",
              "        text-align: right;\n",
              "    }\n",
              "</style>\n",
              "<table border=\"1\" class=\"dataframe\">\n",
              "  <thead>\n",
              "    <tr style=\"text-align: right;\">\n",
              "      <th></th>\n",
              "      <th>cleaned text</th>\n",
              "      <th>label enc</th>\n",
              "    </tr>\n",
              "  </thead>\n",
              "  <tbody>\n",
              "    <tr>\n",
              "      <th>0</th>\n",
              "      <td>6 1100 disc uniformitarian 1086 sex lang dick ...</td>\n",
              "      <td>0</td>\n",
              "    </tr>\n",
              "    <tr>\n",
              "      <th>1</th>\n",
              "      <td>side galicismo galicismo spanish term name imp...</td>\n",
              "      <td>0</td>\n",
              "    </tr>\n",
              "    <tr>\n",
              "      <th>2</th>\n",
              "      <td>equistar deal ticket still avail assist robert...</td>\n",
              "      <td>0</td>\n",
              "    </tr>\n",
              "    <tr>\n",
              "      <th>3</th>\n",
              "      <td>hello hot lil horni toy one dream open mind pe...</td>\n",
              "      <td>1</td>\n",
              "    </tr>\n",
              "    <tr>\n",
              "      <th>4</th>\n",
              "      <td>softwar incred low price 86 lower draperi seve...</td>\n",
              "      <td>1</td>\n",
              "    </tr>\n",
              "  </tbody>\n",
              "</table>\n",
              "</div>\n",
              "    <div class=\"colab-df-buttons\">\n",
              "\n",
              "  <div class=\"colab-df-container\">\n",
              "    <button class=\"colab-df-convert\" onclick=\"convertToInteractive('df-f68bb0e9-cfb4-4dae-bb4d-faf8f42d4871')\"\n",
              "            title=\"Convert this dataframe to an interactive table.\"\n",
              "            style=\"display:none;\">\n",
              "\n",
              "  <svg xmlns=\"http://www.w3.org/2000/svg\" height=\"24px\" viewBox=\"0 -960 960 960\">\n",
              "    <path d=\"M120-120v-720h720v720H120Zm60-500h600v-160H180v160Zm220 220h160v-160H400v160Zm0 220h160v-160H400v160ZM180-400h160v-160H180v160Zm440 0h160v-160H620v160ZM180-180h160v-160H180v160Zm440 0h160v-160H620v160Z\"/>\n",
              "  </svg>\n",
              "    </button>\n",
              "\n",
              "  <style>\n",
              "    .colab-df-container {\n",
              "      display:flex;\n",
              "      gap: 12px;\n",
              "    }\n",
              "\n",
              "    .colab-df-convert {\n",
              "      background-color: #E8F0FE;\n",
              "      border: none;\n",
              "      border-radius: 50%;\n",
              "      cursor: pointer;\n",
              "      display: none;\n",
              "      fill: #1967D2;\n",
              "      height: 32px;\n",
              "      padding: 0 0 0 0;\n",
              "      width: 32px;\n",
              "    }\n",
              "\n",
              "    .colab-df-convert:hover {\n",
              "      background-color: #E2EBFA;\n",
              "      box-shadow: 0px 1px 2px rgba(60, 64, 67, 0.3), 0px 1px 3px 1px rgba(60, 64, 67, 0.15);\n",
              "      fill: #174EA6;\n",
              "    }\n",
              "\n",
              "    .colab-df-buttons div {\n",
              "      margin-bottom: 4px;\n",
              "    }\n",
              "\n",
              "    [theme=dark] .colab-df-convert {\n",
              "      background-color: #3B4455;\n",
              "      fill: #D2E3FC;\n",
              "    }\n",
              "\n",
              "    [theme=dark] .colab-df-convert:hover {\n",
              "      background-color: #434B5C;\n",
              "      box-shadow: 0px 1px 3px 1px rgba(0, 0, 0, 0.15);\n",
              "      filter: drop-shadow(0px 1px 2px rgba(0, 0, 0, 0.3));\n",
              "      fill: #FFFFFF;\n",
              "    }\n",
              "  </style>\n",
              "\n",
              "    <script>\n",
              "      const buttonEl =\n",
              "        document.querySelector('#df-f68bb0e9-cfb4-4dae-bb4d-faf8f42d4871 button.colab-df-convert');\n",
              "      buttonEl.style.display =\n",
              "        google.colab.kernel.accessAllowed ? 'block' : 'none';\n",
              "\n",
              "      async function convertToInteractive(key) {\n",
              "        const element = document.querySelector('#df-f68bb0e9-cfb4-4dae-bb4d-faf8f42d4871');\n",
              "        const dataTable =\n",
              "          await google.colab.kernel.invokeFunction('convertToInteractive',\n",
              "                                                    [key], {});\n",
              "        if (!dataTable) return;\n",
              "\n",
              "        const docLinkHtml = 'Like what you see? Visit the ' +\n",
              "          '<a target=\"_blank\" href=https://colab.research.google.com/notebooks/data_table.ipynb>data table notebook</a>'\n",
              "          + ' to learn more about interactive tables.';\n",
              "        element.innerHTML = '';\n",
              "        dataTable['output_type'] = 'display_data';\n",
              "        await google.colab.output.renderOutput(dataTable, element);\n",
              "        const docLink = document.createElement('div');\n",
              "        docLink.innerHTML = docLinkHtml;\n",
              "        element.appendChild(docLink);\n",
              "      }\n",
              "    </script>\n",
              "  </div>\n",
              "\n",
              "\n",
              "<div id=\"df-c2f87dae-2ea9-4232-91ad-e511c79bc384\">\n",
              "  <button class=\"colab-df-quickchart\" onclick=\"quickchart('df-c2f87dae-2ea9-4232-91ad-e511c79bc384')\"\n",
              "            title=\"Suggest charts\"\n",
              "            style=\"display:none;\">\n",
              "\n",
              "<svg xmlns=\"http://www.w3.org/2000/svg\" height=\"24px\"viewBox=\"0 0 24 24\"\n",
              "     width=\"24px\">\n",
              "    <g>\n",
              "        <path d=\"M19 3H5c-1.1 0-2 .9-2 2v14c0 1.1.9 2 2 2h14c1.1 0 2-.9 2-2V5c0-1.1-.9-2-2-2zM9 17H7v-7h2v7zm4 0h-2V7h2v10zm4 0h-2v-4h2v4z\"/>\n",
              "    </g>\n",
              "</svg>\n",
              "  </button>\n",
              "\n",
              "<style>\n",
              "  .colab-df-quickchart {\n",
              "      --bg-color: #E8F0FE;\n",
              "      --fill-color: #1967D2;\n",
              "      --hover-bg-color: #E2EBFA;\n",
              "      --hover-fill-color: #174EA6;\n",
              "      --disabled-fill-color: #AAA;\n",
              "      --disabled-bg-color: #DDD;\n",
              "  }\n",
              "\n",
              "  [theme=dark] .colab-df-quickchart {\n",
              "      --bg-color: #3B4455;\n",
              "      --fill-color: #D2E3FC;\n",
              "      --hover-bg-color: #434B5C;\n",
              "      --hover-fill-color: #FFFFFF;\n",
              "      --disabled-bg-color: #3B4455;\n",
              "      --disabled-fill-color: #666;\n",
              "  }\n",
              "\n",
              "  .colab-df-quickchart {\n",
              "    background-color: var(--bg-color);\n",
              "    border: none;\n",
              "    border-radius: 50%;\n",
              "    cursor: pointer;\n",
              "    display: none;\n",
              "    fill: var(--fill-color);\n",
              "    height: 32px;\n",
              "    padding: 0;\n",
              "    width: 32px;\n",
              "  }\n",
              "\n",
              "  .colab-df-quickchart:hover {\n",
              "    background-color: var(--hover-bg-color);\n",
              "    box-shadow: 0 1px 2px rgba(60, 64, 67, 0.3), 0 1px 3px 1px rgba(60, 64, 67, 0.15);\n",
              "    fill: var(--button-hover-fill-color);\n",
              "  }\n",
              "\n",
              "  .colab-df-quickchart-complete:disabled,\n",
              "  .colab-df-quickchart-complete:disabled:hover {\n",
              "    background-color: var(--disabled-bg-color);\n",
              "    fill: var(--disabled-fill-color);\n",
              "    box-shadow: none;\n",
              "  }\n",
              "\n",
              "  .colab-df-spinner {\n",
              "    border: 2px solid var(--fill-color);\n",
              "    border-color: transparent;\n",
              "    border-bottom-color: var(--fill-color);\n",
              "    animation:\n",
              "      spin 1s steps(1) infinite;\n",
              "  }\n",
              "\n",
              "  @keyframes spin {\n",
              "    0% {\n",
              "      border-color: transparent;\n",
              "      border-bottom-color: var(--fill-color);\n",
              "      border-left-color: var(--fill-color);\n",
              "    }\n",
              "    20% {\n",
              "      border-color: transparent;\n",
              "      border-left-color: var(--fill-color);\n",
              "      border-top-color: var(--fill-color);\n",
              "    }\n",
              "    30% {\n",
              "      border-color: transparent;\n",
              "      border-left-color: var(--fill-color);\n",
              "      border-top-color: var(--fill-color);\n",
              "      border-right-color: var(--fill-color);\n",
              "    }\n",
              "    40% {\n",
              "      border-color: transparent;\n",
              "      border-right-color: var(--fill-color);\n",
              "      border-top-color: var(--fill-color);\n",
              "    }\n",
              "    60% {\n",
              "      border-color: transparent;\n",
              "      border-right-color: var(--fill-color);\n",
              "    }\n",
              "    80% {\n",
              "      border-color: transparent;\n",
              "      border-right-color: var(--fill-color);\n",
              "      border-bottom-color: var(--fill-color);\n",
              "    }\n",
              "    90% {\n",
              "      border-color: transparent;\n",
              "      border-bottom-color: var(--fill-color);\n",
              "    }\n",
              "  }\n",
              "</style>\n",
              "\n",
              "  <script>\n",
              "    async function quickchart(key) {\n",
              "      const quickchartButtonEl =\n",
              "        document.querySelector('#' + key + ' button');\n",
              "      quickchartButtonEl.disabled = true;  // To prevent multiple clicks.\n",
              "      quickchartButtonEl.classList.add('colab-df-spinner');\n",
              "      try {\n",
              "        const charts = await google.colab.kernel.invokeFunction(\n",
              "            'suggestCharts', [key], {});\n",
              "      } catch (error) {\n",
              "        console.error('Error during call to suggestCharts:', error);\n",
              "      }\n",
              "      quickchartButtonEl.classList.remove('colab-df-spinner');\n",
              "      quickchartButtonEl.classList.add('colab-df-quickchart-complete');\n",
              "    }\n",
              "    (() => {\n",
              "      let quickchartButtonEl =\n",
              "        document.querySelector('#df-c2f87dae-2ea9-4232-91ad-e511c79bc384 button');\n",
              "      quickchartButtonEl.style.display =\n",
              "        google.colab.kernel.accessAllowed ? 'block' : 'none';\n",
              "    })();\n",
              "  </script>\n",
              "</div>\n",
              "\n",
              "    </div>\n",
              "  </div>\n"
            ],
            "application/vnd.google.colaboratory.intrinsic+json": {
              "type": "dataframe",
              "variable_name": "cleaned_df",
              "summary": "{\n  \"name\": \"cleaned_df\",\n  \"rows\": 18096,\n  \"fields\": [\n    {\n      \"column\": \"cleaned text\",\n      \"properties\": {\n        \"dtype\": \"string\",\n        \"num_unique_values\": 17417,\n        \"samples\": [\n          \"spring 2001 modul calendar schedul attach spring 2001 faculti attach spring 2001 modul calendar schedul review pleas note jone graduat school follow tradit univers calendar spring break year question pleas contact kathi kathi spradl mba program coordin jess h jone graduat school manag rice univers 6100 main street ms 531 houston texa 77005 1892 phone 713 348 3313 fax 713 348 5251 email spradlin rice edu http www rice edu jg e mail spradlin rice edu http www ruf rice edu jg spring modul 2001 sch doc spring modul 2001 cal doc\",\n          \"machin translat mt summit vi machin translat past present futur catamaran resort hotel san diego 29 octob 1 novemb 1997 lifetim opportun seriou mt ite afford miss mt summit vi san diego next octob host associ machin translat america amta behalf intern associ machin translat iamt year summit coincid 50th anniversari machin translat celebr truli memor amta cooper host institut inform scienc institut univers southern california take great pleasur invit join us commemor event schedul follow schedul give overview event plan tuesday 28 octob 12 hour excurs ensenada day workshop wednesday 29 octob 3 hour tutori morn afternoon registr open exhibit recept 6 30 p thursday 30 octob plenari parallel session 9 00 5 30 p exhibit 10 30 5 30 p boat cruis 6 00 7 30 p beach luau 7 30 p friday 31 octob plenari parallel session 9 00 5 30 p exhibit 10 30 5 30 p banquet boat leav 6 30 p saturday 1 novemb plenari parallel session 9 00 5 30 p exhibit 10 30 3 00 p program rich menu invit talk submit paper theater style system present togeth panel reunit earli mt pioneer give special mean confer theme machin translat past present futur format combin plenari parallel session three day program includ day saturday cover trajectori mt across decad perspect research develop user session topic address expert around world includ earli mt histori current state mt mt r around world shape commerci mt system product mt market perspect user need whither mt parallel main topic second track session includ submit paper live system present theater style set session audiotap copi tape avail purchas site shortli session end tutori workshop wednesday 29 octob particip offer select four 3 hour tutori morn 9 12 gentl introduct mt theori current practic eduard hovi make mt work marjori le a2n afternoon 5 p mt evalu old new recycl john white postedit mt strategi method karin spalink addit two workshop one subject interlingua standard offer tuesday 28 octob outsid framework confer attende wish come day earlier nomin charg interest contact organ directli steve helmreich shelmrei crl nmsu edu coordin workshop interlingua alan melbi melbya byu edu respons one standard exhibit addit theater style system present regular program throughout confer mt develop also showcas latest breakthrough exhibit hall exhibit coordin kim belvin kbelvin ucsd edu put call exhibitor expect record break array product system one stop shop best mt ite whether interest purchas licens mt system view understand compar also tabletop exhibit space avail lower fee publish nonprofit research group anyon interest exhibit contact kim e mail address soon possibl booth assign first come first serv basi may enough room want exhibit relat event celebratori natur year summit number excit activ round rest confer schedul day excurs ensenada major mexican seaport tourist center plan tuesday 28 octob spectacular 50 mile ride baja california coast includ stop rosarito beach typic mexican lunch restaur breathtak view tour ensenada follow time shop wine tast museum go stroll eleg gourmet dinner ocean sunset us 65 00 tutori registr take place day wednesday 29 octob confer proper open 50th anniversari recept 6 30 p exhibit area recept complimentari sponsor part logo corpor box lunch avail three day confer ticket three lunch may purchas total us 18 00 morn thursday 30 octob welcom breakfast particip spous travel companion time given suggest variou thing san diego area thursday even doubl header 6 00 p hotel magnific detail tripl deck sternwheel wm evan take particip companion complimentari cruis mission bay sponsor part systran softwar cruis entertain includ draw excit mt orient raffl see separ stori emce bill fri disembark 7 30 p hawaiian luau beach us 20 00 per person final banquet us 50 00 per person held friday 31 octob top floor bahia hotel sister properti catamaran also mission bay site chosen spectacular nighttim view stretch mexico south la jolla north transport provid bahia bell hotel smaller sternwheel later even bahia bell open public live band danc return banquet may choos remain board extra cost continu cruis around bay site accommod catamaran resort hotel tropic paradis wedg beach mission bay public boardwalk pacif ocean step away confer center perfect mt summit vi bright airi room open terrac garden patio beach bay hotel pool jacuzzi fit center busi center bicycl skate variou type boat avail rent immedi vicin offer mani shop restaur well groceri store carri out hotel park pass avail special confer rate us 10 three night guest room luxuri appoint door open onto either terrac balconi special confer rate us 99 00 interior garden view us 109 00 view bay ocean room tower kitchenett sweep view particip make reserv directli catamaran 1 800 288 0770 canada 800 233 8172 elsewher 1 619 488 1081 fax 1 619 488 1619 neither space rate guarante 28 septemb make reserv earli get less convent america summit offici travel agenc offer discount american airlin alamo rent car lowest avail fare airlin call 1 800 929 4242 unit state canada 1 619 453 3686 elsewher fax 1 619 453 7976 e mail flycia scitravel com sure mention group 547 addit inform complet registr packet mail begin june member aamt amta eamt includ preliminari program flier hotel registr form assort flier member one region associ may obtain packet contact mt summit vi registrar phone fax 1 703 716 0912 e mail amta clark net may also regist line websit coordin gener chair muriel vasconcello presid iamt phone 1 619 272 3360 fax 1 619 272 3361 e mail murielvasconcello compuserv com program chair winfield scott bennett logo corpor phone 1 201 398 8710 x 104 fax 1 201 398 6102 e mail wsben ibm net local arrang chair lauri gerber systran softwar phone 1 619 459 6700 x 119 fax 1 619 459 8487 e mail lgerber systransoft com exhibit coordin kim belvin phone 1 619 481 8446 fax 1 619 350 8613 e mail kbelvin ucsd edu registrar deborah becker amta iamt focal point phone fax 703 716 0912 e mail amta clark net\",\n          \"world english school english univers leed leed ls2 9jt uk english languag world english new first intak 1998 innov offer opportun studi modern english languag intern context excit grow area english languag studi particular relev britain outsid britain interest broaden background english languag studi cours accommod need whose interest academ educ media orient two core modul modern english languag english world languag wide rang option avail student may choos two modul modul e g commun mean languag polit style discours rhetor design especi cours addit cours link ma school english e g american studi literatur commonwealth countri depart linguist phonet student take approv option primarili languag orient literatur orient mani cours also avail offer school educ part med program mani especi relev interest teach english second languag admiss cours may depend student fulfil requir made depart concern student also requir follow modul research method semest dissert durat cours one academ year core modul offer daytim option avail daytim class other e g dialectolog sociolinguist lexicolog histori english educ modul studi alongsid servic teacher taught even 6 8pm student wish background studi english languag normal admiss would requir minimum good second class ba degre english languag literatur linguist student good honour degre combin studi subject may also consid relev subject taken student whose degre univers medium instruct english requir give evid high standard english profici inform contact professor kati wale k wale leed ac uk anthea fraser gupta http www leed ac uk english staff afg school english univers leed leed ls2 9jt uk\"\n        ],\n        \"semantic_type\": \"\",\n        \"description\": \"\"\n      }\n    },\n    {\n      \"column\": \"label enc\",\n      \"properties\": {\n        \"dtype\": \"number\",\n        \"std\": 0,\n        \"min\": 0,\n        \"max\": 1,\n        \"num_unique_values\": 2,\n        \"samples\": [\n          1,\n          0\n        ],\n        \"semantic_type\": \"\",\n        \"description\": \"\"\n      }\n    }\n  ]\n}"
            }
          },
          "metadata": {},
          "execution_count": 4
        }
      ],
      "source": [
        "cleaned_df = pd.read_csv(\"/content/drive/MyDrive/Dataset/cleaned_phishing_email.csv\")\n",
        "cleaned_df.head()"
      ]
    },
    {
      "cell_type": "code",
      "execution_count": 5,
      "id": "31ae4c39-043b-4ffd-bb2c-0be43b62970e",
      "metadata": {
        "colab": {
          "base_uri": "https://localhost:8080/",
          "height": 35
        },
        "id": "31ae4c39-043b-4ffd-bb2c-0be43b62970e",
        "outputId": "4787180d-55bc-43ea-ff27-b0c81025c0cf"
      },
      "outputs": [
        {
          "output_type": "execute_result",
          "data": {
            "text/plain": [
              "'\\ncleaned_df = pd.read_csv(\"kaggle_cleaned_phishing_email.csv\")\\ncleaned_df.head()\\n'"
            ],
            "application/vnd.google.colaboratory.intrinsic+json": {
              "type": "string"
            }
          },
          "metadata": {},
          "execution_count": 5
        }
      ],
      "source": [
        "\"\"\"\n",
        "cleaned_df = pd.read_csv(\"kaggle_cleaned_phishing_email.csv\")\n",
        "cleaned_df.head()\n",
        "\"\"\""
      ]
    },
    {
      "cell_type": "code",
      "execution_count": 6,
      "id": "8477b373-ad3b-4eb9-9223-4b08701650e3",
      "metadata": {
        "colab": {
          "base_uri": "https://localhost:8080/"
        },
        "id": "8477b373-ad3b-4eb9-9223-4b08701650e3",
        "outputId": "444453f0-f029-4297-92e2-9a171383596c"
      },
      "outputs": [
        {
          "output_type": "stream",
          "name": "stdout",
          "text": [
            "X_train Shape: (12667,) - y_train Shape: (12667,)\n",
            "X_test Shape: (5429,) - y_test Shape: (5429,)\n"
          ]
        }
      ],
      "source": [
        "X, y = cleaned_df[\"cleaned text\"], cleaned_df[\"label enc\"]\n",
        "\n",
        "X_train, X_test, y_train, y_test = train_test_split(\n",
        "    X, y, test_size=0.3, random_state=15\n",
        ")\n",
        "\n",
        "print(f\"X_train Shape: {X_train.shape} - y_train Shape: {y_train.shape}\")\n",
        "print(f\"X_test Shape: {X_test.shape} - y_test Shape: {y_test.shape}\")"
      ]
    },
    {
      "cell_type": "code",
      "execution_count": 7,
      "id": "5201a64a-e423-4c48-a4ef-3fba0fd51894",
      "metadata": {
        "colab": {
          "base_uri": "https://localhost:8080/"
        },
        "id": "5201a64a-e423-4c48-a4ef-3fba0fd51894",
        "outputId": "d7f8f2c5-e694-4261-a73a-9f677a863f3a"
      },
      "outputs": [
        {
          "output_type": "execute_result",
          "data": {
            "text/plain": [
              "((12667, 10000), (5429, 10000))"
            ]
          },
          "metadata": {},
          "execution_count": 7
        }
      ],
      "source": [
        "tfidf = TfidfVectorizer(ngram_range=(1, 2), max_features=10000)\n",
        "\n",
        "X_train_tfidf = tfidf.fit_transform(X_train)\n",
        "\n",
        "X_test_tfidf = tfidf.transform(X_test)\n",
        "\n",
        "X_train_tfidf.shape, X_test_tfidf.shape"
      ]
    },
    {
      "cell_type": "code",
      "execution_count": 8,
      "id": "1d9a0c86-08e2-4225-9ae7-b18b3779c397",
      "metadata": {
        "colab": {
          "base_uri": "https://localhost:8080/"
        },
        "id": "1d9a0c86-08e2-4225-9ae7-b18b3779c397",
        "outputId": "f7f99bfc-2340-4784-eb03-229e0f7308ea"
      },
      "outputs": [
        {
          "output_type": "stream",
          "name": "stdout",
          "text": [
            "Sparsity Percentage of the TF-IDF Matrix: 99.00%\n"
          ]
        }
      ],
      "source": [
        "sparsity = (1.0 - (X_train_tfidf.nnz / float(X_train_tfidf.shape[0] * X_train_tfidf.shape[1]))) * 100\n",
        "print(f\"Sparsity Percentage of the TF-IDF Matrix: {sparsity:.2f}%\")"
      ]
    },
    {
      "cell_type": "code",
      "execution_count": 9,
      "id": "feb8a066-8395-4321-80ad-b608a863a1ae",
      "metadata": {
        "colab": {
          "base_uri": "https://localhost:8080/"
        },
        "id": "feb8a066-8395-4321-80ad-b608a863a1ae",
        "outputId": "30a4987d-bcc7-407f-f5dc-73e1e958c2ee"
      },
      "outputs": [
        {
          "output_type": "stream",
          "name": "stdout",
          "text": [
            "[[0.         0.         0.         ... 0.         0.         0.        ]\n",
            " [0.02782431 0.         0.         ... 0.         0.         0.        ]\n",
            " [0.         0.         0.         ... 0.         0.         0.        ]\n",
            " ...\n",
            " [0.         0.         0.         ... 0.         0.         0.        ]\n",
            " [0.         0.         0.         ... 0.         0.         0.        ]\n",
            " [0.         0.         0.         ... 0.         0.         0.        ]]\n"
          ]
        }
      ],
      "source": [
        "print(X_train_tfidf.toarray())"
      ]
    },
    {
      "cell_type": "code",
      "execution_count": 10,
      "id": "e5WvVcBanCW1",
      "metadata": {
        "id": "e5WvVcBanCW1"
      },
      "outputs": [],
      "source": [
        "def convert_to_dense_if_sparse(X):\n",
        "    if hasattr(X, 'toarray'):\n",
        "        return X.toarray()\n",
        "    return X"
      ]
    },
    {
      "cell_type": "code",
      "execution_count": 11,
      "id": "74a6e475-c3af-40e3-a4f7-0695e4f1bda9",
      "metadata": {
        "id": "74a6e475-c3af-40e3-a4f7-0695e4f1bda9"
      },
      "outputs": [],
      "source": [
        "class SVC_Custom:\n",
        "    def __init__(self, nums_of_iteration=1000, kernel='linear', degree=3, C=1.0, gamma=1.0, costs=None):\n",
        "        self.nums_of_iteration = nums_of_iteration\n",
        "        self.kernel = {\n",
        "            'linear':lambda x,y: np.dot(x, y.T),\n",
        "            'poly':lambda x,y: np.dot(x, y.T)**degree,\n",
        "            'rbf': lambda x, y: np.exp(-gamma * np.linalg.norm(x[:, np.newaxis] - y, axis=-1)**2)\n",
        "        }[kernel]\n",
        "        self.C = C\n",
        "        self.gamma = gamma\n",
        "        self.costs = costs if costs is not None else []\n",
        "\n",
        "    def restrict_to_square(self, t, v0, u):\n",
        "        t = (np.clip(v0 + (t * u), 0, self.C) - v0)[1] / u[1]\n",
        "        return (np.clip(v0 + (t * u), 0, self.C) - v0)[0] / u[0]\n",
        "\n",
        "    def fit(self, X, y):\n",
        "        self.X = convert_to_dense_if_sparse(X)\n",
        "        self.y = 2 * y.to_numpy() - 1\n",
        "        self.lambdas = np.zeros_like(self.y, dtype=float)\n",
        "        self.K = self.kernel(self.X, self.X) * self.y[:, np.newaxis] * self.y\n",
        "\n",
        "        for i in range(self.nums_of_iteration):\n",
        "            for idxM in range(len(self.lambdas)):\n",
        "                idxL = np.random.randint(0, len(self.lambdas))\n",
        "                Q = self.K[[[idxM, idxM], [idxL, idxL]], [[idxM, idxL], [idxM, idxL]]]\n",
        "                v0 = self.lambdas[[idxM, idxL]]\n",
        "                k0 = 1 - np.sum(self.lambdas * self.K[[idxM, idxL]], axis=1)\n",
        "                u = np.array([-self.y[idxL], self.y[idxM]])\n",
        "                t_max = np.dot(k0, u) / (np.dot(np.dot(Q, u), u) + 1e-15)\n",
        "                self.lambdas[[idxM, idxL]] = v0 + u * self.restrict_to_square(t_max, v0, u)\n",
        "\n",
        "        idx, = np.nonzero(self.lambdas > 1e-15)\n",
        "        self.b = np.sum((1 - np.sum(self.K[idx] * self.lambdas, axis=1)) * self.y[idx]) / len(idx)\n",
        "\n",
        "        return self\n",
        "\n",
        "    def compute_cost(self):\n",
        "        return 0.5 * np.sum(self.lambdas[:, np.newaxis] * self.lambdas * self.y[:, np.newaxis] * self.y * self.K) - np.sum(self.lambdas)\n",
        "\n",
        "    def decision_function(self, X):\n",
        "        return np.sum(self.kernel(X, self.X) * self.y * self.lambdas, axis=1) + self.b\n",
        "\n",
        "    def predict(self, X):\n",
        "        X = convert_to_dense_if_sparse(X)\n",
        "        y_pred = self.decision_function(X)\n",
        "        return np.sign(y_pred)\n",
        "\n",
        "    def evaluate(self, X, y):\n",
        "        y_pred = self.predict(X)\n",
        "        y = 2 * y.to_numpy() - 1\n",
        "\n",
        "        true_positive = np.sum((y_pred == 1) & (y == 1))\n",
        "        true_negative = np.sum((y_pred == -1) & (y == -1))\n",
        "        false_positive = np.sum((y_pred == 1) & (y == -1))\n",
        "        false_negative = np.sum((y_pred == -1) & (y == 1))\n",
        "\n",
        "        accuracy_score = (true_positive + true_negative) / y.shape[0]\n",
        "        precision_score = true_positive / (true_positive + false_positive)\n",
        "        recall_score = true_positive / (true_positive + false_negative)\n",
        "        f1_score = (2 * precision_score * recall_score / (precision_score + recall_score))\n",
        "\n",
        "        return {\n",
        "        \"accuracy_score\": accuracy_score,\n",
        "        \"precision_score\": precision_score,\n",
        "        \"recall_score\": recall_score,\n",
        "        \"f1_score\": f1_score\n",
        "        }"
      ]
    },
    {
      "cell_type": "code",
      "execution_count": 12,
      "id": "TQyaU9jKuQhK",
      "metadata": {
        "id": "TQyaU9jKuQhK"
      },
      "outputs": [],
      "source": [
        "def compute_gamma(X):\n",
        "    n_features = X.shape[1]\n",
        "    variance = np.var(convert_to_dense_if_sparse(X), axis=0).mean()\n",
        "    return 1 / (n_features * variance)"
      ]
    },
    {
      "cell_type": "code",
      "execution_count": 13,
      "id": "212d4b8f-025d-461d-ac69-001a07553bfe",
      "metadata": {
        "id": "212d4b8f-025d-461d-ac69-001a07553bfe"
      },
      "outputs": [],
      "source": [
        "gamma_ = compute_gamma(X_train_tfidf)\n",
        "algo_svc_2 = SVC_Custom(C=10.0, gamma=gamma_)"
      ]
    },
    {
      "cell_type": "code",
      "execution_count": null,
      "id": "a27dce00-2048-48fa-ba25-8befd5b0db1c",
      "metadata": {
        "id": "a27dce00-2048-48fa-ba25-8befd5b0db1c"
      },
      "outputs": [],
      "source": [
        "model_svc_2 = algo_svc_2.fit(X_train_tfidf, y_train)"
      ]
    },
    {
      "cell_type": "code",
      "execution_count": null,
      "id": "TF994hvMPkA5",
      "metadata": {
        "id": "TF994hvMPkA5"
      },
      "outputs": [],
      "source": [
        "model_svc_2.evaluate(X_test_tfidf, y_test)"
      ]
    }
  ],
  "metadata": {
    "colab": {
      "provenance": []
    },
    "kernelspec": {
      "display_name": "Python 3 (ipykernel)",
      "language": "python",
      "name": "python3"
    },
    "language_info": {
      "codemirror_mode": {
        "name": "ipython",
        "version": 3
      },
      "file_extension": ".py",
      "mimetype": "text/x-python",
      "name": "python",
      "nbconvert_exporter": "python",
      "pygments_lexer": "ipython3",
      "version": "3.12.7"
    }
  },
  "nbformat": 4,
  "nbformat_minor": 5
}