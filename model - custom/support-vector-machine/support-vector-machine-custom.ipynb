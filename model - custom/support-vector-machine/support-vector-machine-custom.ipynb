{
 "cells": [
  {
   "cell_type": "code",
   "execution_count": 2,
   "id": "9381ce07-7601-471f-ae48-e22bdb4fee80",
   "metadata": {
    "id": "9381ce07-7601-471f-ae48-e22bdb4fee80"
   },
   "outputs": [],
   "source": [
    "import numpy as np\n",
    "import pandas as pd\n",
    "\n",
    "from sklearn.model_selection import train_test_split\n",
    "from sklearn.feature_extraction.text import TfidfVectorizer"
   ]
  },
  {
   "cell_type": "code",
   "execution_count": 3,
   "id": "90da9553-08cb-4d97-9d15-86279ccf2cc8",
   "metadata": {},
   "outputs": [],
   "source": [
    "def convert_to_dense_if_sparse(X):\n",
    "    if hasattr(X, 'toarray'):\n",
    "        return X.toarray()\n",
    "    return X"
   ]
  },
  {
   "cell_type": "code",
   "execution_count": 4,
   "id": "5651921f-84cb-43d1-a8ed-cc1a25e5873d",
   "metadata": {},
   "outputs": [],
   "source": [
    "class SVC_Custom:\n",
    "    def __init__(self, learning_rate=1.0, nums_of_iteration=1000, kernel='linear', degree=3, C=1.0, gamma=1.0):\n",
    "        self.learning_rate = learning_rate\n",
    "        self.nums_of_iteration = nums_of_iteration\n",
    "        self.kernel = {\n",
    "            'linear':lambda x, y: np.dot(x, y.T),\n",
    "            'poly': lambda x, y: np.dot(x, y.T)**degree,\n",
    "            'rbf': lambda x, y: np.exp(-gamma * (np.sum(x**2, axis=1)[:, np.newaxis] + np.sum(y**2, axis=1) - 2 * np.dot(x, y.T)))\n",
    "        }[kernel]\n",
    "        self.C = C\n",
    "\n",
    "    def restrict_to_square(self, t, v0, u):\n",
    "        t = (np.clip(v0 + (t * u), 0, self.C) - v0)[1] / u[1]\n",
    "        return (np.clip(v0 + (t * u), 0, self.C) - v0)[0] / u[0]\n",
    "\n",
    "    def fit(self, X, y):\n",
    "        self.X = convert_to_dense_if_sparse(X)\n",
    "        self.y = 2 * y.to_numpy() - 1\n",
    "        \n",
    "        self.lambdas = np.zeros_like(self.y, dtype=float)\n",
    "        self.K = self.kernel(self.X, self.X) * self.y[:, np.newaxis] * self.y\n",
    "\n",
    "        for i in range(self.nums_of_iteration):\n",
    "            for idxM in range(len(self.lambdas)):\n",
    "                idxL = np.random.randint(0, len(self.lambdas))\n",
    "                Q = self.K[[[idxM, idxM], [idxL, idxL]], [[idxM, idxL], [idxM, idxL]]]\n",
    "                v0 = self.lambdas[[idxM, idxL]]\n",
    "                k0 = 1 - np.sum(self.lambdas * self.K[[idxM, idxL]], axis=1)\n",
    "                u = np.array([-self.y[idxL], self.y[idxM]])\n",
    "                t_max = np.dot(k0, u) / (np.dot(np.dot(Q, u), u) + 1e-15)\n",
    "                self.lambdas[[idxM, idxL]] = v0 + self.learning_rate * u * self.restrict_to_square(t_max, v0, u)\n",
    "\n",
    "        idx, = np.nonzero(self.lambdas > 1e-15)\n",
    "        self.b = np.sum((1 - np.sum(self.K[idx] * self.lambdas, axis=1)) * self.y[idx]) / len(idx)\n",
    "\n",
    "        return self\n",
    "\n",
    "    def decision_function(self, X):\n",
    "        return np.sum(self.kernel(X, self.X) * self.y * self.lambdas, axis=1) + self.b\n",
    "\n",
    "    def predict(self, X):\n",
    "        X = convert_to_dense_if_sparse(X)\n",
    "        y_pred = self.decision_function(X)\n",
    "        return np.sign(y_pred)\n",
    "\n",
    "    def evaluate(self, X, y):\n",
    "        y_pred = self.predict(X)\n",
    "        y = 2 * y.to_numpy() - 1\n",
    "\n",
    "        true_positive = np.sum((y_pred == 1) & (y == 1))\n",
    "        true_negative = np.sum((y_pred == -1) & (y == -1))\n",
    "        false_positive = np.sum((y_pred == 1) & (y == -1))\n",
    "        false_negative = np.sum((y_pred == -1) & (y == 1))\n",
    "\n",
    "        accuracy_score = (true_positive + true_negative) / y.shape[0]\n",
    "        precision_score = true_positive / (true_positive + false_positive)\n",
    "        recall_score = true_positive / (true_positive + false_negative)\n",
    "        f1_score = (2 * precision_score * recall_score / (precision_score + recall_score))\n",
    "\n",
    "        return {\n",
    "        \"accuracy_score\": accuracy_score,\n",
    "        \"precision_score\": precision_score,\n",
    "        \"recall_score\": recall_score,\n",
    "        \"f1_score\": f1_score\n",
    "        }"
   ]
  },
  {
   "cell_type": "code",
   "execution_count": 8,
   "id": "160179e7-8b54-480f-9db2-16c4d06f1311",
   "metadata": {},
   "outputs": [],
   "source": [
    "def compute_gamma(X):\n",
    "    n_features = X.shape[1]\n",
    "    variance = np.var(convert_to_dense_if_sparse(X), axis=0).mean()\n",
    "    return 1 / (n_features * variance)"
   ]
  },
  {
   "cell_type": "markdown",
   "id": "09267d4e-16f5-41fa-9420-ceda2fbc3b2d",
   "metadata": {},
   "source": [
    "DATASET 1"
   ]
  },
  {
   "cell_type": "code",
   "execution_count": 11,
   "id": "31ae4c39-043b-4ffd-bb2c-0be43b62970e",
   "metadata": {
    "colab": {
     "base_uri": "https://localhost:8080/",
     "height": 35
    },
    "id": "31ae4c39-043b-4ffd-bb2c-0be43b62970e",
    "outputId": "4787180d-55bc-43ea-ff27-b0c81025c0cf",
    "scrolled": true
   },
   "outputs": [
    {
     "data": {
      "text/html": [
       "<div>\n",
       "<style scoped>\n",
       "    .dataframe tbody tr th:only-of-type {\n",
       "        vertical-align: middle;\n",
       "    }\n",
       "\n",
       "    .dataframe tbody tr th {\n",
       "        vertical-align: top;\n",
       "    }\n",
       "\n",
       "    .dataframe thead th {\n",
       "        text-align: right;\n",
       "    }\n",
       "</style>\n",
       "<table border=\"1\" class=\"dataframe\">\n",
       "  <thead>\n",
       "    <tr style=\"text-align: right;\">\n",
       "      <th></th>\n",
       "      <th>cleaned text</th>\n",
       "      <th>label enc</th>\n",
       "    </tr>\n",
       "  </thead>\n",
       "  <tbody>\n",
       "    <tr>\n",
       "      <th>0</th>\n",
       "      <td>6 1100 disc uniformitarian 1086 sex lang dick ...</td>\n",
       "      <td>0</td>\n",
       "    </tr>\n",
       "    <tr>\n",
       "      <th>1</th>\n",
       "      <td>side galicismo galicismo spanish term name imp...</td>\n",
       "      <td>0</td>\n",
       "    </tr>\n",
       "    <tr>\n",
       "      <th>2</th>\n",
       "      <td>equistar deal ticket still avail assist robert...</td>\n",
       "      <td>0</td>\n",
       "    </tr>\n",
       "    <tr>\n",
       "      <th>3</th>\n",
       "      <td>hello hot lil horni toy one dream open mind pe...</td>\n",
       "      <td>1</td>\n",
       "    </tr>\n",
       "    <tr>\n",
       "      <th>4</th>\n",
       "      <td>softwar incred low price 86 lower draperi seve...</td>\n",
       "      <td>1</td>\n",
       "    </tr>\n",
       "  </tbody>\n",
       "</table>\n",
       "</div>"
      ],
      "text/plain": [
       "                                        cleaned text  label enc\n",
       "0  6 1100 disc uniformitarian 1086 sex lang dick ...          0\n",
       "1  side galicismo galicismo spanish term name imp...          0\n",
       "2  equistar deal ticket still avail assist robert...          0\n",
       "3  hello hot lil horni toy one dream open mind pe...          1\n",
       "4  softwar incred low price 86 lower draperi seve...          1"
      ]
     },
     "execution_count": 11,
     "metadata": {},
     "output_type": "execute_result"
    }
   ],
   "source": [
    "cleaned_df_1 = pd.read_csv(\"cleaned_kaggle_phishing_email.csv\")\n",
    "cleaned_df_1.head()"
   ]
  },
  {
   "cell_type": "code",
   "execution_count": 12,
   "id": "8477b373-ad3b-4eb9-9223-4b08701650e3",
   "metadata": {
    "colab": {
     "base_uri": "https://localhost:8080/"
    },
    "id": "8477b373-ad3b-4eb9-9223-4b08701650e3",
    "outputId": "444453f0-f029-4297-92e2-9a171383596c"
   },
   "outputs": [
    {
     "name": "stdout",
     "output_type": "stream",
     "text": [
      "X_train Shape: (12667,) - y_train Shape: (12667,)\n",
      "X_test Shape: (5429,) - y_test Shape: (5429,)\n"
     ]
    }
   ],
   "source": [
    "X, y = cleaned_df_1[\"cleaned text\"], cleaned_df_1[\"label enc\"]\n",
    "\n",
    "X_train, X_test, y_train, y_test = train_test_split(\n",
    "    X, y, test_size=0.3, random_state=15\n",
    ")\n",
    "\n",
    "print(f\"X_train Shape: {X_train.shape} - y_train Shape: {y_train.shape}\")\n",
    "print(f\"X_test Shape: {X_test.shape} - y_test Shape: {y_test.shape}\")"
   ]
  },
  {
   "cell_type": "code",
   "execution_count": 13,
   "id": "5201a64a-e423-4c48-a4ef-3fba0fd51894",
   "metadata": {
    "colab": {
     "base_uri": "https://localhost:8080/"
    },
    "id": "5201a64a-e423-4c48-a4ef-3fba0fd51894",
    "outputId": "d7f8f2c5-e694-4261-a73a-9f677a863f3a"
   },
   "outputs": [
    {
     "data": {
      "text/plain": [
       "((12667, 10000), (5429, 10000))"
      ]
     },
     "execution_count": 13,
     "metadata": {},
     "output_type": "execute_result"
    }
   ],
   "source": [
    "tfidf = TfidfVectorizer(ngram_range=(1, 2), max_features=10000)\n",
    "\n",
    "X_train_tfidf = tfidf.fit_transform(X_train)\n",
    "\n",
    "X_test_tfidf = tfidf.transform(X_test)\n",
    "\n",
    "X_train_tfidf.shape, X_test_tfidf.shape"
   ]
  },
  {
   "cell_type": "code",
   "execution_count": 14,
   "id": "1d9a0c86-08e2-4225-9ae7-b18b3779c397",
   "metadata": {
    "colab": {
     "base_uri": "https://localhost:8080/"
    },
    "id": "1d9a0c86-08e2-4225-9ae7-b18b3779c397",
    "outputId": "f7f99bfc-2340-4784-eb03-229e0f7308ea"
   },
   "outputs": [
    {
     "name": "stdout",
     "output_type": "stream",
     "text": [
      "Sparsity Percentage of the TF-IDF Matrix: 99.00%\n"
     ]
    }
   ],
   "source": [
    "sparsity = (1.0 - (X_train_tfidf.nnz / float(X_train_tfidf.shape[0] * X_train_tfidf.shape[1]))) * 100\n",
    "print(f\"Sparsity Percentage of the TF-IDF Matrix: {sparsity:.2f}%\")"
   ]
  },
  {
   "cell_type": "code",
   "execution_count": 17,
   "id": "feb8a066-8395-4321-80ad-b608a863a1ae",
   "metadata": {
    "colab": {
     "base_uri": "https://localhost:8080/"
    },
    "id": "feb8a066-8395-4321-80ad-b608a863a1ae",
    "outputId": "30a4987d-bcc7-407f-f5dc-73e1e958c2ee"
   },
   "outputs": [
    {
     "name": "stdout",
     "output_type": "stream",
     "text": [
      "[[0.         0.         0.         ... 0.         0.         0.        ]\n",
      " [0.02782431 0.         0.         ... 0.         0.         0.        ]\n",
      " [0.         0.         0.         ... 0.         0.         0.        ]\n",
      " ...\n",
      " [0.         0.         0.         ... 0.         0.         0.        ]\n",
      " [0.         0.         0.         ... 0.         0.         0.        ]\n",
      " [0.         0.         0.         ... 0.         0.         0.        ]]\n"
     ]
    }
   ],
   "source": [
    "print(X_train_tfidf.toarray())"
   ]
  },
  {
   "cell_type": "code",
   "execution_count": 18,
   "id": "8fad0e69-7a6a-4f29-8314-88d3ab299d98",
   "metadata": {},
   "outputs": [],
   "source": [
    "gamma_ = compute_gamma(X_train_tfidf)"
   ]
  },
  {
   "cell_type": "code",
   "execution_count": 19,
   "id": "88015bdc-f7ea-45e8-acd5-58a78347a57e",
   "metadata": {},
   "outputs": [],
   "source": [
    "algo_svc_custom_1 = SVC_Custom(kernel='rbf', C=10.0, gamma=gamma_)"
   ]
  },
  {
   "cell_type": "code",
   "execution_count": 20,
   "id": "a27dce00-2048-48fa-ba25-8befd5b0db1c",
   "metadata": {
    "id": "a27dce00-2048-48fa-ba25-8befd5b0db1c"
   },
   "outputs": [],
   "source": [
    "model_svc_custom_1 = algo_svc_custom_1.fit(X_train_tfidf, y_train)"
   ]
  },
  {
   "cell_type": "code",
   "execution_count": 21,
   "id": "TF994hvMPkA5",
   "metadata": {
    "id": "TF994hvMPkA5"
   },
   "outputs": [
    {
     "data": {
      "text/plain": [
       "{'accuracy_score': 0.9786332657948057,\n",
       " 'precision_score': 0.9775977121067684,\n",
       " 'recall_score': 0.9674528301886792,\n",
       " 'f1_score': 0.9724988146040778}"
      ]
     },
     "execution_count": 21,
     "metadata": {},
     "output_type": "execute_result"
    }
   ],
   "source": [
    "model_svc_custom_1.evaluate(X_test_tfidf, y_test)"
   ]
  },
  {
   "cell_type": "markdown",
   "id": "12033d7f-9363-437a-b946-10add7da8b31",
   "metadata": {},
   "source": [
    "DATASET 2"
   ]
  },
  {
   "cell_type": "code",
   "execution_count": 10,
   "id": "e2a67cc3-e27b-4db2-ac02-dd8bef7f53d0",
   "metadata": {},
   "outputs": [
    {
     "data": {
      "text/html": [
       "<div>\n",
       "<style scoped>\n",
       "    .dataframe tbody tr th:only-of-type {\n",
       "        vertical-align: middle;\n",
       "    }\n",
       "\n",
       "    .dataframe tbody tr th {\n",
       "        vertical-align: top;\n",
       "    }\n",
       "\n",
       "    .dataframe thead th {\n",
       "        text-align: right;\n",
       "    }\n",
       "</style>\n",
       "<table border=\"1\" class=\"dataframe\">\n",
       "  <thead>\n",
       "    <tr style=\"text-align: right;\">\n",
       "      <th></th>\n",
       "      <th>cleaned text</th>\n",
       "      <th>label enc</th>\n",
       "    </tr>\n",
       "  </thead>\n",
       "  <tbody>\n",
       "    <tr>\n",
       "      <th>0</th>\n",
       "      <td>buck troubl caus small dimens soon becom lover...</td>\n",
       "      <td>1</td>\n",
       "    </tr>\n",
       "    <tr>\n",
       "      <th>1</th>\n",
       "      <td>upgrad sex pleasur techniqu</td>\n",
       "      <td>1</td>\n",
       "    </tr>\n",
       "    <tr>\n",
       "      <th>2</th>\n",
       "      <td>daili top 10 cnn com top video stori aug 1 200...</td>\n",
       "      <td>1</td>\n",
       "    </tr>\n",
       "    <tr>\n",
       "      <th>3</th>\n",
       "      <td>would anyon object remov list tld basic dead f...</td>\n",
       "      <td>0</td>\n",
       "    </tr>\n",
       "    <tr>\n",
       "      <th>4</th>\n",
       "      <td>welcomefastshippingcustomersupport</td>\n",
       "      <td>1</td>\n",
       "    </tr>\n",
       "  </tbody>\n",
       "</table>\n",
       "</div>"
      ],
      "text/plain": [
       "                                        cleaned text  label enc\n",
       "0  buck troubl caus small dimens soon becom lover...          1\n",
       "1                        upgrad sex pleasur techniqu          1\n",
       "2  daili top 10 cnn com top video stori aug 1 200...          1\n",
       "3  would anyon object remov list tld basic dead f...          0\n",
       "4                 welcomefastshippingcustomersupport          1"
      ]
     },
     "execution_count": 10,
     "metadata": {},
     "output_type": "execute_result"
    }
   ],
   "source": [
    "cleaned_df_2 = pd.read_csv(\"cleaned_CEAS-08.csv\")\n",
    "cleaned_df_2.head()"
   ]
  },
  {
   "cell_type": "code",
   "execution_count": 12,
   "id": "f9a65312-74ab-4bcf-b95b-2960a051ce5b",
   "metadata": {},
   "outputs": [
    {
     "name": "stdout",
     "output_type": "stream",
     "text": [
      "X_train Shape: (27406,) - y_train Shape: (27406,)\n",
      "X_test Shape: (11746,) - y_test Shape: (11746,)\n"
     ]
    }
   ],
   "source": [
    "X, y = cleaned_df_2[\"cleaned text\"], cleaned_df_2[\"label enc\"]\n",
    "\n",
    "X_train, X_test, y_train, y_test = train_test_split(\n",
    "    X, y, test_size=0.3, random_state=15\n",
    ")\n",
    "\n",
    "print(f\"X_train Shape: {X_train.shape} - y_train Shape: {y_train.shape}\")\n",
    "print(f\"X_test Shape: {X_test.shape} - y_test Shape: {y_test.shape}\")"
   ]
  },
  {
   "cell_type": "code",
   "execution_count": 14,
   "id": "9852dbe7-ae8d-4760-a405-aea4b6dff009",
   "metadata": {},
   "outputs": [
    {
     "data": {
      "text/plain": [
       "((27406, 10000), (11746, 10000))"
      ]
     },
     "execution_count": 14,
     "metadata": {},
     "output_type": "execute_result"
    }
   ],
   "source": [
    "tfidf = TfidfVectorizer(ngram_range=(1, 2), max_features=10000)\n",
    "\n",
    "X_train_tfidf = tfidf.fit_transform(X_train)\n",
    "\n",
    "X_test_tfidf = tfidf.transform(X_test)\n",
    "\n",
    "X_train_tfidf.shape, X_test_tfidf.shape"
   ]
  },
  {
   "cell_type": "code",
   "execution_count": 15,
   "id": "d02d310a-7323-475a-8055-24b89c67c352",
   "metadata": {},
   "outputs": [
    {
     "name": "stdout",
     "output_type": "stream",
     "text": [
      "Sparsity Percentage of the TF-IDF Matrix: 99.09%\n"
     ]
    }
   ],
   "source": [
    "sparsity = (1.0 - (X_train_tfidf.nnz / float(X_train_tfidf.shape[0] * X_train_tfidf.shape[1]))) * 100\n",
    "print(f\"Sparsity Percentage of the TF-IDF Matrix: {sparsity:.2f}%\")"
   ]
  },
  {
   "cell_type": "code",
   "execution_count": 16,
   "id": "63aff4f5-177c-4bbd-8fba-8b40238566a9",
   "metadata": {},
   "outputs": [
    {
     "name": "stdout",
     "output_type": "stream",
     "text": [
      "[[0. 0. 0. ... 0. 0. 0.]\n",
      " [0. 0. 0. ... 0. 0. 0.]\n",
      " [0. 0. 0. ... 0. 0. 0.]\n",
      " ...\n",
      " [0. 0. 0. ... 0. 0. 0.]\n",
      " [0. 0. 0. ... 0. 0. 0.]\n",
      " [0. 0. 0. ... 0. 0. 0.]]\n"
     ]
    }
   ],
   "source": [
    "print(X_train_tfidf.toarray())"
   ]
  },
  {
   "cell_type": "code",
   "execution_count": 17,
   "id": "401078bd-ec5f-4685-abd2-c0e948d13884",
   "metadata": {},
   "outputs": [],
   "source": [
    "gamma_ = compute_gamma(X_train_tfidf)"
   ]
  },
  {
   "cell_type": "code",
   "execution_count": 18,
   "id": "c3efd5fa-a121-45da-ac78-2d26b194a71f",
   "metadata": {},
   "outputs": [],
   "source": [
    "algo_svc_custom_2 = SVC_Custom(kernel='rbf', C=10.0, gamma=gamma_)"
   ]
  },
  {
   "cell_type": "code",
   "execution_count": 24,
   "id": "7e677a74-c435-47f5-ac6e-807862ef0ae7",
   "metadata": {},
   "outputs": [],
   "source": [
    "model_svc_custom_2 = algo_svc_custom_2.fit(X_train_tfidf, y_train)"
   ]
  },
  {
   "cell_type": "code",
   "execution_count": 25,
   "id": "8f25fcb0-d21c-4d6a-bcd6-64b7b0fa9bdc",
   "metadata": {},
   "outputs": [
    {
     "data": {
      "text/plain": [
       "{'accuracy_score': 0.994295930529542,\n",
       " 'precision_score': 0.9938696172248804,\n",
       " 'recall_score': 0.9961037014835906,\n",
       " 'f1_score': 0.9949854052840357}"
      ]
     },
     "execution_count": 25,
     "metadata": {},
     "output_type": "execute_result"
    }
   ],
   "source": [
    "model_svc_custom_2.evaluate(X_test_tfidf, y_test)"
   ]
  },
  {
   "cell_type": "markdown",
   "id": "cc22613f-fc1d-4da4-a281-64bf3f5c426f",
   "metadata": {},
   "source": [
    "DATASET 3"
   ]
  },
  {
   "cell_type": "code",
   "execution_count": 29,
   "id": "d9812c73-6337-4c56-bcee-4b850091a7a2",
   "metadata": {},
   "outputs": [
    {
     "data": {
      "text/html": [
       "<div>\n",
       "<style scoped>\n",
       "    .dataframe tbody tr th:only-of-type {\n",
       "        vertical-align: middle;\n",
       "    }\n",
       "\n",
       "    .dataframe tbody tr th {\n",
       "        vertical-align: top;\n",
       "    }\n",
       "\n",
       "    .dataframe thead th {\n",
       "        text-align: right;\n",
       "    }\n",
       "</style>\n",
       "<table border=\"1\" class=\"dataframe\">\n",
       "  <thead>\n",
       "    <tr style=\"text-align: right;\">\n",
       "      <th></th>\n",
       "      <th>cleaned text</th>\n",
       "      <th>label enc</th>\n",
       "    </tr>\n",
       "  </thead>\n",
       "  <tbody>\n",
       "    <tr>\n",
       "      <th>0</th>\n",
       "      <td>perform origin messag issuealert scientech com...</td>\n",
       "      <td>0</td>\n",
       "    </tr>\n",
       "    <tr>\n",
       "      <th>1</th>\n",
       "      <td>w w highhest qualiti medd great offfer v codin...</td>\n",
       "      <td>1</td>\n",
       "    </tr>\n",
       "    <tr>\n",
       "      <th>2</th>\n",
       "      <td>make r cher might need bundi 1 w ndow x p pro ...</td>\n",
       "      <td>1</td>\n",
       "    </tr>\n",
       "    <tr>\n",
       "      <th>3</th>\n",
       "      <td>drug chemic ident brand name equival except pr...</td>\n",
       "      <td>1</td>\n",
       "    </tr>\n",
       "    <tr>\n",
       "      <th>4</th>\n",
       "      <td>team project request spreadsheet develop facil...</td>\n",
       "      <td>0</td>\n",
       "    </tr>\n",
       "  </tbody>\n",
       "</table>\n",
       "</div>"
      ],
      "text/plain": [
       "                                        cleaned text  label enc\n",
       "0  perform origin messag issuealert scientech com...          0\n",
       "1  w w highhest qualiti medd great offfer v codin...          1\n",
       "2  make r cher might need bundi 1 w ndow x p pro ...          1\n",
       "3  drug chemic ident brand name equival except pr...          1\n",
       "4  team project request spreadsheet develop facil...          0"
      ]
     },
     "execution_count": 29,
     "metadata": {},
     "output_type": "execute_result"
    }
   ],
   "source": [
    "cleaned_df_3 = pd.read_csv(\"cleaned_Enron.csv\")\n",
    "cleaned_df_3.head()"
   ]
  },
  {
   "cell_type": "code",
   "execution_count": 30,
   "id": "e87a427f-eb44-4630-b9af-4af372b298ec",
   "metadata": {},
   "outputs": [
    {
     "name": "stdout",
     "output_type": "stream",
     "text": [
      "X_train Shape: (20827,) - y_train Shape: (20827,)\n",
      "X_test Shape: (8926,) - y_test Shape: (8926,)\n"
     ]
    }
   ],
   "source": [
    "X, y = cleaned_df_3[\"cleaned text\"], cleaned_df_3[\"label enc\"]\n",
    "\n",
    "X_train, X_test, y_train, y_test = train_test_split(\n",
    "    X, y, test_size=0.3, random_state=15\n",
    ")\n",
    "\n",
    "print(f\"X_train Shape: {X_train.shape} - y_train Shape: {y_train.shape}\")\n",
    "print(f\"X_test Shape: {X_test.shape} - y_test Shape: {y_test.shape}\")"
   ]
  },
  {
   "cell_type": "code",
   "execution_count": 31,
   "id": "afc32cef-447a-484b-aa0a-92825fa9c61f",
   "metadata": {},
   "outputs": [
    {
     "data": {
      "text/plain": [
       "((20827, 10000), (8926, 10000))"
      ]
     },
     "execution_count": 31,
     "metadata": {},
     "output_type": "execute_result"
    }
   ],
   "source": [
    "tfidf = TfidfVectorizer(ngram_range=(1, 2), max_features=10000)\n",
    "\n",
    "X_train_tfidf = tfidf.fit_transform(X_train)\n",
    "\n",
    "X_test_tfidf = tfidf.transform(X_test)\n",
    "\n",
    "X_train_tfidf.shape, X_test_tfidf.shape"
   ]
  },
  {
   "cell_type": "code",
   "execution_count": 32,
   "id": "046bfa30-a3c8-4af7-a64f-8d6c4bb6f369",
   "metadata": {},
   "outputs": [
    {
     "name": "stdout",
     "output_type": "stream",
     "text": [
      "Sparsity Percentage of the TF-IDF Matrix: 99.09%\n"
     ]
    }
   ],
   "source": [
    "sparsity = (1.0 - (X_train_tfidf.nnz / float(X_train_tfidf.shape[0] * X_train_tfidf.shape[1]))) * 100\n",
    "print(f\"Sparsity Percentage of the TF-IDF Matrix: {sparsity:.2f}%\")"
   ]
  },
  {
   "cell_type": "code",
   "execution_count": 33,
   "id": "bab2a166-adb9-4861-80fb-afe6a9e9ad2f",
   "metadata": {},
   "outputs": [
    {
     "name": "stdout",
     "output_type": "stream",
     "text": [
      "[[0.0292113  0.         0.         ... 0.         0.         0.        ]\n",
      " [0.         0.         0.         ... 0.         0.         0.        ]\n",
      " [0.00989535 0.         0.         ... 0.         0.         0.        ]\n",
      " ...\n",
      " [0.         0.         0.         ... 0.         0.         0.        ]\n",
      " [0.         0.         0.         ... 0.         0.         0.        ]\n",
      " [0.         0.         0.         ... 0.         0.         0.        ]]\n"
     ]
    }
   ],
   "source": [
    "print(X_train_tfidf.toarray())"
   ]
  },
  {
   "cell_type": "code",
   "execution_count": 36,
   "id": "fced0384-2a69-4ad7-8be0-6395fe35fd58",
   "metadata": {},
   "outputs": [],
   "source": [
    "gamma_ = compute_gamma(X_train_tfidf)"
   ]
  },
  {
   "cell_type": "code",
   "execution_count": 37,
   "id": "69de9182-d0bd-4794-a2c8-e4b9799a6368",
   "metadata": {},
   "outputs": [],
   "source": [
    "algo_svc_custom_3 = SVC_Custom(kernel='rbf', C=10.0, gamma=gamma_)"
   ]
  },
  {
   "cell_type": "code",
   "execution_count": 38,
   "id": "5dfe947a-ff18-4bc4-8ec3-381ce9e58b95",
   "metadata": {},
   "outputs": [],
   "source": [
    "model_svc_custom_3 = algo_svc_custom_3.fit(X_train_tfidf, y_train)"
   ]
  },
  {
   "cell_type": "code",
   "execution_count": 39,
   "id": "7ed68246-2b15-4730-913b-e37e26d6a70a",
   "metadata": {},
   "outputs": [
    {
     "data": {
      "text/plain": [
       "{'accuracy_score': 0.988908805736052,\n",
       " 'precision_score': 0.983357108892059,\n",
       " 'recall_score': 0.9930372148859544,\n",
       " 'f1_score': 0.9881734559789751}"
      ]
     },
     "execution_count": 39,
     "metadata": {},
     "output_type": "execute_result"
    }
   ],
   "source": [
    "model_svc_custom_3.evaluate(X_test_tfidf, y_test)"
   ]
  }
 ],
 "metadata": {
  "colab": {
   "provenance": []
  },
  "kernelspec": {
   "display_name": "Python 3 (ipykernel)",
   "language": "python",
   "name": "python3"
  },
  "language_info": {
   "codemirror_mode": {
    "name": "ipython",
    "version": 3
   },
   "file_extension": ".py",
   "mimetype": "text/x-python",
   "name": "python",
   "nbconvert_exporter": "python",
   "pygments_lexer": "ipython3",
   "version": "3.12.7"
  }
 },
 "nbformat": 4,
 "nbformat_minor": 5
}
