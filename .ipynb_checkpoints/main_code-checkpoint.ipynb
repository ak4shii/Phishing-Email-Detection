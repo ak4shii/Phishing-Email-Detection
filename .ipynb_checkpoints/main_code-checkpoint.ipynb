{
  "cells": [
    {
      "cell_type": "code",
      "execution_count": null,
      "metadata": {
        "id": "qfxhd6pLXUSl"
      },
      "outputs": [],
      "source": [
        "# Basic Importation\n",
        "import numpy as np\n",
        "import pandas as pd\n",
        "import matplotlib.pyplot as plt\n",
        "import seaborn as sns\n",
        "\n",
        "# Supress Warnings\n",
        "import warnings\n",
        "warnings.filterwarnings(\"ignore\")"
      ]
    },
    {
      "cell_type": "markdown",
      "metadata": {
        "id": "cQ8x_bFLo5-e"
      },
      "source": [
        "**DATA LOADING**"
      ]
    },
    {
      "cell_type": "code",
      "execution_count": null,
      "metadata": {
        "colab": {
          "base_uri": "https://localhost:8080/"
        },
        "id": "Gkq2mH4dCvb9",
        "outputId": "b55fee8f-2833-49b4-b823-64701a05f792"
      },
      "outputs": [
        {
          "name": "stdout",
          "output_type": "stream",
          "text": [
            "Mounted at /content/drive\n"
          ]
        }
      ],
      "source": [
        "# Import dataset\n",
        "from google.colab import drive\n",
        "drive.mount('/content/drive')"
      ]
    },
    {
      "cell_type": "code",
      "execution_count": null,
      "metadata": {
        "colab": {
          "base_uri": "https://localhost:8080/",
          "height": 206
        },
        "id": "fYOErIts2IZI",
        "outputId": "e5891b27-d089-4ce6-8884-fbfaa268c597"
      },
      "outputs": [
        {
          "data": {
            "application/vnd.google.colaboratory.intrinsic+json": {
              "summary": "{\n  \"name\": \"phishing_df\",\n  \"rows\": 18650,\n  \"fields\": [\n    {\n      \"column\": \"Unnamed: 0\",\n      \"properties\": {\n        \"dtype\": \"number\",\n        \"std\": 5384,\n        \"min\": 0,\n        \"max\": 18650,\n        \"num_unique_values\": 18650,\n        \"samples\": [\n          14470,\n          3014,\n          16942\n        ],\n        \"semantic_type\": \"\",\n        \"description\": \"\"\n      }\n    },\n    {\n      \"column\": \"Email Text\",\n      \"properties\": {\n        \"dtype\": \"string\",\n        \"num_unique_values\": 17537,\n        \"samples\": [\n          \"available for review : massaro 98 - the book listed below is in the linguist office and now available for review . if you are interested in reviewing a book ( or leading a discussion of the book ) ; please contact our book review editor , andrew carnie , at : carnie @ linguistlist . org please include in your request message a brief statement about your research interests , background , affiliation and other information that might be valuable to help us select a suitable reviewer . speech perception massaro , dominic ( 1998 ) perceiving talking faces : from speech perception to a behavioral principle . cambridge : mit press . pattern recognition is deemed central to cognition . it appears to follow an optimal algorithm in a wide variety of behaviors and situations . _ perceiving talking faces _ proposes an invariant law of pattern recognition to describe how multiple sources of continuously perceived information , such as auditory and visual speech input are processed to achieve perception of a category . the book details the author 's extensive series of experiments on the use of multiple cues in speech perception and other domains , and unifies teh results under the fuzzy logical model of perception . the volume includes a cd rom . the reviewer of this volume will be expected to review both the book and the cd rom .\",\n          \"lng contracts i am seeking information on where to find copies of lng contracts that were previously in the domain of the old enron international company . enron north america will be establishing a risk book to manage lng positions on a worldwide basis and we need copies of all contracts to set this up . these contracts may or may not be related to the dabhol project . if you can provide guidance or information as to where to find these contracts , i would appreciate it . you may respond via email or call me at 713 - 853 - 6079 in houston . thank you for your attention .\",\n          \"citizens homelink online banking and investing email dear citizens customer , as a customer of citizens bank , the security of your personal and account information is extremely important to us . by practicing good security habits , you can help us ensure that your private information is protected . our new security system will help you to avoid frequently fraud transactions and to keep your investments in safety . due to technical update we recommend you to reactivate your account . to reactivate your account please start by clicking on this webpage : we appreciate your business . it ' s truly our pleasure to serve you . citizens bank customer care this email is intended for citizens bank users only . ignore it if has been arrived by mistake . member fdic equal housing lender \\u00a9 2003 citizens financial group . all rights reserved .\"\n        ],\n        \"semantic_type\": \"\",\n        \"description\": \"\"\n      }\n    },\n    {\n      \"column\": \"Email Type\",\n      \"properties\": {\n        \"dtype\": \"category\",\n        \"num_unique_values\": 2,\n        \"samples\": [\n          \"Phishing Email\",\n          \"Safe Email\"\n        ],\n        \"semantic_type\": \"\",\n        \"description\": \"\"\n      }\n    }\n  ]\n}",
              "type": "dataframe",
              "variable_name": "phishing_df"
            },
            "text/html": [
              "\n",
              "  <div id=\"df-e0481dc4-d587-480f-90ef-dfd8ef6d548f\" class=\"colab-df-container\">\n",
              "    <div>\n",
              "<style scoped>\n",
              "    .dataframe tbody tr th:only-of-type {\n",
              "        vertical-align: middle;\n",
              "    }\n",
              "\n",
              "    .dataframe tbody tr th {\n",
              "        vertical-align: top;\n",
              "    }\n",
              "\n",
              "    .dataframe thead th {\n",
              "        text-align: right;\n",
              "    }\n",
              "</style>\n",
              "<table border=\"1\" class=\"dataframe\">\n",
              "  <thead>\n",
              "    <tr style=\"text-align: right;\">\n",
              "      <th></th>\n",
              "      <th>Unnamed: 0</th>\n",
              "      <th>Email Text</th>\n",
              "      <th>Email Type</th>\n",
              "    </tr>\n",
              "  </thead>\n",
              "  <tbody>\n",
              "    <tr>\n",
              "      <th>0</th>\n",
              "      <td>0</td>\n",
              "      <td>re : 6 . 1100 , disc : uniformitarianism , re ...</td>\n",
              "      <td>Safe Email</td>\n",
              "    </tr>\n",
              "    <tr>\n",
              "      <th>1</th>\n",
              "      <td>1</td>\n",
              "      <td>the other side of * galicismos * * galicismo *...</td>\n",
              "      <td>Safe Email</td>\n",
              "    </tr>\n",
              "    <tr>\n",
              "      <th>2</th>\n",
              "      <td>2</td>\n",
              "      <td>re : equistar deal tickets are you still avail...</td>\n",
              "      <td>Safe Email</td>\n",
              "    </tr>\n",
              "    <tr>\n",
              "      <th>3</th>\n",
              "      <td>3</td>\n",
              "      <td>\\nHello I am your hot lil horny toy.\\n    I am...</td>\n",
              "      <td>Phishing Email</td>\n",
              "    </tr>\n",
              "    <tr>\n",
              "      <th>4</th>\n",
              "      <td>4</td>\n",
              "      <td>software at incredibly low prices ( 86 % lower...</td>\n",
              "      <td>Phishing Email</td>\n",
              "    </tr>\n",
              "  </tbody>\n",
              "</table>\n",
              "</div>\n",
              "    <div class=\"colab-df-buttons\">\n",
              "\n",
              "  <div class=\"colab-df-container\">\n",
              "    <button class=\"colab-df-convert\" onclick=\"convertToInteractive('df-e0481dc4-d587-480f-90ef-dfd8ef6d548f')\"\n",
              "            title=\"Convert this dataframe to an interactive table.\"\n",
              "            style=\"display:none;\">\n",
              "\n",
              "  <svg xmlns=\"http://www.w3.org/2000/svg\" height=\"24px\" viewBox=\"0 -960 960 960\">\n",
              "    <path d=\"M120-120v-720h720v720H120Zm60-500h600v-160H180v160Zm220 220h160v-160H400v160Zm0 220h160v-160H400v160ZM180-400h160v-160H180v160Zm440 0h160v-160H620v160ZM180-180h160v-160H180v160Zm440 0h160v-160H620v160Z\"/>\n",
              "  </svg>\n",
              "    </button>\n",
              "\n",
              "  <style>\n",
              "    .colab-df-container {\n",
              "      display:flex;\n",
              "      gap: 12px;\n",
              "    }\n",
              "\n",
              "    .colab-df-convert {\n",
              "      background-color: #E8F0FE;\n",
              "      border: none;\n",
              "      border-radius: 50%;\n",
              "      cursor: pointer;\n",
              "      display: none;\n",
              "      fill: #1967D2;\n",
              "      height: 32px;\n",
              "      padding: 0 0 0 0;\n",
              "      width: 32px;\n",
              "    }\n",
              "\n",
              "    .colab-df-convert:hover {\n",
              "      background-color: #E2EBFA;\n",
              "      box-shadow: 0px 1px 2px rgba(60, 64, 67, 0.3), 0px 1px 3px 1px rgba(60, 64, 67, 0.15);\n",
              "      fill: #174EA6;\n",
              "    }\n",
              "\n",
              "    .colab-df-buttons div {\n",
              "      margin-bottom: 4px;\n",
              "    }\n",
              "\n",
              "    [theme=dark] .colab-df-convert {\n",
              "      background-color: #3B4455;\n",
              "      fill: #D2E3FC;\n",
              "    }\n",
              "\n",
              "    [theme=dark] .colab-df-convert:hover {\n",
              "      background-color: #434B5C;\n",
              "      box-shadow: 0px 1px 3px 1px rgba(0, 0, 0, 0.15);\n",
              "      filter: drop-shadow(0px 1px 2px rgba(0, 0, 0, 0.3));\n",
              "      fill: #FFFFFF;\n",
              "    }\n",
              "  </style>\n",
              "\n",
              "    <script>\n",
              "      const buttonEl =\n",
              "        document.querySelector('#df-e0481dc4-d587-480f-90ef-dfd8ef6d548f button.colab-df-convert');\n",
              "      buttonEl.style.display =\n",
              "        google.colab.kernel.accessAllowed ? 'block' : 'none';\n",
              "\n",
              "      async function convertToInteractive(key) {\n",
              "        const element = document.querySelector('#df-e0481dc4-d587-480f-90ef-dfd8ef6d548f');\n",
              "        const dataTable =\n",
              "          await google.colab.kernel.invokeFunction('convertToInteractive',\n",
              "                                                    [key], {});\n",
              "        if (!dataTable) return;\n",
              "\n",
              "        const docLinkHtml = 'Like what you see? Visit the ' +\n",
              "          '<a target=\"_blank\" href=https://colab.research.google.com/notebooks/data_table.ipynb>data table notebook</a>'\n",
              "          + ' to learn more about interactive tables.';\n",
              "        element.innerHTML = '';\n",
              "        dataTable['output_type'] = 'display_data';\n",
              "        await google.colab.output.renderOutput(dataTable, element);\n",
              "        const docLink = document.createElement('div');\n",
              "        docLink.innerHTML = docLinkHtml;\n",
              "        element.appendChild(docLink);\n",
              "      }\n",
              "    </script>\n",
              "  </div>\n",
              "\n",
              "\n",
              "<div id=\"df-f3db1626-091c-4239-95c0-2650f5cbbe98\">\n",
              "  <button class=\"colab-df-quickchart\" onclick=\"quickchart('df-f3db1626-091c-4239-95c0-2650f5cbbe98')\"\n",
              "            title=\"Suggest charts\"\n",
              "            style=\"display:none;\">\n",
              "\n",
              "<svg xmlns=\"http://www.w3.org/2000/svg\" height=\"24px\"viewBox=\"0 0 24 24\"\n",
              "     width=\"24px\">\n",
              "    <g>\n",
              "        <path d=\"M19 3H5c-1.1 0-2 .9-2 2v14c0 1.1.9 2 2 2h14c1.1 0 2-.9 2-2V5c0-1.1-.9-2-2-2zM9 17H7v-7h2v7zm4 0h-2V7h2v10zm4 0h-2v-4h2v4z\"/>\n",
              "    </g>\n",
              "</svg>\n",
              "  </button>\n",
              "\n",
              "<style>\n",
              "  .colab-df-quickchart {\n",
              "      --bg-color: #E8F0FE;\n",
              "      --fill-color: #1967D2;\n",
              "      --hover-bg-color: #E2EBFA;\n",
              "      --hover-fill-color: #174EA6;\n",
              "      --disabled-fill-color: #AAA;\n",
              "      --disabled-bg-color: #DDD;\n",
              "  }\n",
              "\n",
              "  [theme=dark] .colab-df-quickchart {\n",
              "      --bg-color: #3B4455;\n",
              "      --fill-color: #D2E3FC;\n",
              "      --hover-bg-color: #434B5C;\n",
              "      --hover-fill-color: #FFFFFF;\n",
              "      --disabled-bg-color: #3B4455;\n",
              "      --disabled-fill-color: #666;\n",
              "  }\n",
              "\n",
              "  .colab-df-quickchart {\n",
              "    background-color: var(--bg-color);\n",
              "    border: none;\n",
              "    border-radius: 50%;\n",
              "    cursor: pointer;\n",
              "    display: none;\n",
              "    fill: var(--fill-color);\n",
              "    height: 32px;\n",
              "    padding: 0;\n",
              "    width: 32px;\n",
              "  }\n",
              "\n",
              "  .colab-df-quickchart:hover {\n",
              "    background-color: var(--hover-bg-color);\n",
              "    box-shadow: 0 1px 2px rgba(60, 64, 67, 0.3), 0 1px 3px 1px rgba(60, 64, 67, 0.15);\n",
              "    fill: var(--button-hover-fill-color);\n",
              "  }\n",
              "\n",
              "  .colab-df-quickchart-complete:disabled,\n",
              "  .colab-df-quickchart-complete:disabled:hover {\n",
              "    background-color: var(--disabled-bg-color);\n",
              "    fill: var(--disabled-fill-color);\n",
              "    box-shadow: none;\n",
              "  }\n",
              "\n",
              "  .colab-df-spinner {\n",
              "    border: 2px solid var(--fill-color);\n",
              "    border-color: transparent;\n",
              "    border-bottom-color: var(--fill-color);\n",
              "    animation:\n",
              "      spin 1s steps(1) infinite;\n",
              "  }\n",
              "\n",
              "  @keyframes spin {\n",
              "    0% {\n",
              "      border-color: transparent;\n",
              "      border-bottom-color: var(--fill-color);\n",
              "      border-left-color: var(--fill-color);\n",
              "    }\n",
              "    20% {\n",
              "      border-color: transparent;\n",
              "      border-left-color: var(--fill-color);\n",
              "      border-top-color: var(--fill-color);\n",
              "    }\n",
              "    30% {\n",
              "      border-color: transparent;\n",
              "      border-left-color: var(--fill-color);\n",
              "      border-top-color: var(--fill-color);\n",
              "      border-right-color: var(--fill-color);\n",
              "    }\n",
              "    40% {\n",
              "      border-color: transparent;\n",
              "      border-right-color: var(--fill-color);\n",
              "      border-top-color: var(--fill-color);\n",
              "    }\n",
              "    60% {\n",
              "      border-color: transparent;\n",
              "      border-right-color: var(--fill-color);\n",
              "    }\n",
              "    80% {\n",
              "      border-color: transparent;\n",
              "      border-right-color: var(--fill-color);\n",
              "      border-bottom-color: var(--fill-color);\n",
              "    }\n",
              "    90% {\n",
              "      border-color: transparent;\n",
              "      border-bottom-color: var(--fill-color);\n",
              "    }\n",
              "  }\n",
              "</style>\n",
              "\n",
              "  <script>\n",
              "    async function quickchart(key) {\n",
              "      const quickchartButtonEl =\n",
              "        document.querySelector('#' + key + ' button');\n",
              "      quickchartButtonEl.disabled = true;  // To prevent multiple clicks.\n",
              "      quickchartButtonEl.classList.add('colab-df-spinner');\n",
              "      try {\n",
              "        const charts = await google.colab.kernel.invokeFunction(\n",
              "            'suggestCharts', [key], {});\n",
              "      } catch (error) {\n",
              "        console.error('Error during call to suggestCharts:', error);\n",
              "      }\n",
              "      quickchartButtonEl.classList.remove('colab-df-spinner');\n",
              "      quickchartButtonEl.classList.add('colab-df-quickchart-complete');\n",
              "    }\n",
              "    (() => {\n",
              "      let quickchartButtonEl =\n",
              "        document.querySelector('#df-f3db1626-091c-4239-95c0-2650f5cbbe98 button');\n",
              "      quickchartButtonEl.style.display =\n",
              "        google.colab.kernel.accessAllowed ? 'block' : 'none';\n",
              "    })();\n",
              "  </script>\n",
              "</div>\n",
              "\n",
              "    </div>\n",
              "  </div>\n"
            ],
            "text/plain": [
              "   Unnamed: 0                                         Email Text  \\\n",
              "0           0  re : 6 . 1100 , disc : uniformitarianism , re ...   \n",
              "1           1  the other side of * galicismos * * galicismo *...   \n",
              "2           2  re : equistar deal tickets are you still avail...   \n",
              "3           3  \\nHello I am your hot lil horny toy.\\n    I am...   \n",
              "4           4  software at incredibly low prices ( 86 % lower...   \n",
              "\n",
              "       Email Type  \n",
              "0      Safe Email  \n",
              "1      Safe Email  \n",
              "2      Safe Email  \n",
              "3  Phishing Email  \n",
              "4  Phishing Email  "
            ]
          },
          "execution_count": 3,
          "metadata": {},
          "output_type": "execute_result"
        }
      ],
      "source": [
        "phishing_df = pd.read_csv(\"/content/drive/MyDrive/Dataset/phishing_email.csv\")\n",
        "phishing_df.head()"
      ]
    },
    {
      "cell_type": "code",
      "execution_count": null,
      "metadata": {
        "colab": {
          "base_uri": "https://localhost:8080/"
        },
        "id": "m1nbbJhA3g8M",
        "outputId": "27e3b4dd-9b1d-416e-d9a4-f76497e2208b"
      },
      "outputs": [
        {
          "data": {
            "text/plain": [
              "(18650, 3)"
            ]
          },
          "execution_count": 4,
          "metadata": {},
          "output_type": "execute_result"
        }
      ],
      "source": [
        "phishing_df.shape"
      ]
    },
    {
      "cell_type": "code",
      "execution_count": null,
      "metadata": {
        "colab": {
          "base_uri": "https://localhost:8080/"
        },
        "id": "YPI3AMZC4AJ7",
        "outputId": "9b11ea13-f360-4c71-995e-aa48c2452586"
      },
      "outputs": [
        {
          "name": "stdout",
          "output_type": "stream",
          "text": [
            "<class 'pandas.core.frame.DataFrame'>\n",
            "RangeIndex: 18650 entries, 0 to 18649\n",
            "Data columns (total 3 columns):\n",
            " #   Column      Non-Null Count  Dtype \n",
            "---  ------      --------------  ----- \n",
            " 0   Unnamed: 0  18650 non-null  int64 \n",
            " 1   Email Text  18634 non-null  object\n",
            " 2   Email Type  18650 non-null  object\n",
            "dtypes: int64(1), object(2)\n",
            "memory usage: 437.2+ KB\n"
          ]
        }
      ],
      "source": [
        "phishing_df.info()"
      ]
    },
    {
      "cell_type": "code",
      "execution_count": null,
      "metadata": {
        "colab": {
          "base_uri": "https://localhost:8080/",
          "height": 178
        },
        "id": "y1Sdm6Vk5qGc",
        "outputId": "d7b635b9-ab93-41a8-dd56-273836a80759"
      },
      "outputs": [
        {
          "data": {
            "text/html": [
              "<div>\n",
              "<style scoped>\n",
              "    .dataframe tbody tr th:only-of-type {\n",
              "        vertical-align: middle;\n",
              "    }\n",
              "\n",
              "    .dataframe tbody tr th {\n",
              "        vertical-align: top;\n",
              "    }\n",
              "\n",
              "    .dataframe thead th {\n",
              "        text-align: right;\n",
              "    }\n",
              "</style>\n",
              "<table border=\"1\" class=\"dataframe\">\n",
              "  <thead>\n",
              "    <tr style=\"text-align: right;\">\n",
              "      <th></th>\n",
              "      <th>count</th>\n",
              "    </tr>\n",
              "    <tr>\n",
              "      <th>Email Type</th>\n",
              "      <th></th>\n",
              "    </tr>\n",
              "  </thead>\n",
              "  <tbody>\n",
              "    <tr>\n",
              "      <th>Safe Email</th>\n",
              "      <td>11322</td>\n",
              "    </tr>\n",
              "    <tr>\n",
              "      <th>Phishing Email</th>\n",
              "      <td>7328</td>\n",
              "    </tr>\n",
              "  </tbody>\n",
              "</table>\n",
              "</div><br><label><b>dtype:</b> int64</label>"
            ],
            "text/plain": [
              "Email Type\n",
              "Safe Email        11322\n",
              "Phishing Email     7328\n",
              "Name: count, dtype: int64"
            ]
          },
          "execution_count": 6,
          "metadata": {},
          "output_type": "execute_result"
        }
      ],
      "source": [
        "# Get the counts of the two email types\n",
        "phishing_df[\"Email Type\"].value_counts()"
      ]
    },
    {
      "cell_type": "markdown",
      "metadata": {
        "id": "jX7_sogqhIFR"
      },
      "source": [
        "**DATA PREPROCESSING AND FEATURE SELECTION**"
      ]
    },
    {
      "cell_type": "code",
      "execution_count": null,
      "metadata": {
        "colab": {
          "base_uri": "https://localhost:8080/"
        },
        "id": "2zGxO3KyG9hK",
        "outputId": "0acecc02-0210-4076-fa8e-aed4472aa390"
      },
      "outputs": [
        {
          "name": "stderr",
          "output_type": "stream",
          "text": [
            "[nltk_data] Downloading package stopwords to /root/nltk_data...\n",
            "[nltk_data]   Unzipping corpora/stopwords.zip.\n",
            "[nltk_data] Downloading package punkt to /root/nltk_data...\n",
            "[nltk_data]   Unzipping tokenizers/punkt.zip.\n",
            "[nltk_data] Downloading package punkt_tab to /root/nltk_data...\n",
            "[nltk_data]   Unzipping tokenizers/punkt_tab.zip.\n"
          ]
        }
      ],
      "source": [
        "# Preprocessing\n",
        "import nltk\n",
        "nltk.download(\"stopwords\")\n",
        "nltk.download(\"punkt\")\n",
        "nltk.download(\"punkt_tab\")\n",
        "from nltk.corpus import stopwords\n",
        "from nltk.stem import PorterStemmer\n",
        "from nltk import tokenize\n",
        "import string\n",
        "import re"
      ]
    },
    {
      "cell_type": "code",
      "execution_count": null,
      "metadata": {
        "colab": {
          "base_uri": "https://localhost:8080/",
          "height": 206
        },
        "id": "fYwEpPVYINg4",
        "outputId": "19c88188-0dd8-4b17-ea06-ef0a026b51a0"
      },
      "outputs": [
        {
          "data": {
            "application/vnd.google.colaboratory.intrinsic+json": {
              "summary": "{\n  \"name\": \"phishing_df\",\n  \"rows\": 18650,\n  \"fields\": [\n    {\n      \"column\": \"Email Text\",\n      \"properties\": {\n        \"dtype\": \"string\",\n        \"num_unique_values\": 17537,\n        \"samples\": [\n          \"available for review : massaro 98 - the book listed below is in the linguist office and now available for review . if you are interested in reviewing a book ( or leading a discussion of the book ) ; please contact our book review editor , andrew carnie , at : carnie @ linguistlist . org please include in your request message a brief statement about your research interests , background , affiliation and other information that might be valuable to help us select a suitable reviewer . speech perception massaro , dominic ( 1998 ) perceiving talking faces : from speech perception to a behavioral principle . cambridge : mit press . pattern recognition is deemed central to cognition . it appears to follow an optimal algorithm in a wide variety of behaviors and situations . _ perceiving talking faces _ proposes an invariant law of pattern recognition to describe how multiple sources of continuously perceived information , such as auditory and visual speech input are processed to achieve perception of a category . the book details the author 's extensive series of experiments on the use of multiple cues in speech perception and other domains , and unifies teh results under the fuzzy logical model of perception . the volume includes a cd rom . the reviewer of this volume will be expected to review both the book and the cd rom .\",\n          \"lng contracts i am seeking information on where to find copies of lng contracts that were previously in the domain of the old enron international company . enron north america will be establishing a risk book to manage lng positions on a worldwide basis and we need copies of all contracts to set this up . these contracts may or may not be related to the dabhol project . if you can provide guidance or information as to where to find these contracts , i would appreciate it . you may respond via email or call me at 713 - 853 - 6079 in houston . thank you for your attention .\",\n          \"citizens homelink online banking and investing email dear citizens customer , as a customer of citizens bank , the security of your personal and account information is extremely important to us . by practicing good security habits , you can help us ensure that your private information is protected . our new security system will help you to avoid frequently fraud transactions and to keep your investments in safety . due to technical update we recommend you to reactivate your account . to reactivate your account please start by clicking on this webpage : we appreciate your business . it ' s truly our pleasure to serve you . citizens bank customer care this email is intended for citizens bank users only . ignore it if has been arrived by mistake . member fdic equal housing lender \\u00a9 2003 citizens financial group . all rights reserved .\"\n        ],\n        \"semantic_type\": \"\",\n        \"description\": \"\"\n      }\n    },\n    {\n      \"column\": \"Email Type\",\n      \"properties\": {\n        \"dtype\": \"category\",\n        \"num_unique_values\": 2,\n        \"samples\": [\n          \"Phishing Email\",\n          \"Safe Email\"\n        ],\n        \"semantic_type\": \"\",\n        \"description\": \"\"\n      }\n    }\n  ]\n}",
              "type": "dataframe",
              "variable_name": "phishing_df"
            },
            "text/html": [
              "\n",
              "  <div id=\"df-b97761c0-70c7-4d4c-8dd2-9448ab55563d\" class=\"colab-df-container\">\n",
              "    <div>\n",
              "<style scoped>\n",
              "    .dataframe tbody tr th:only-of-type {\n",
              "        vertical-align: middle;\n",
              "    }\n",
              "\n",
              "    .dataframe tbody tr th {\n",
              "        vertical-align: top;\n",
              "    }\n",
              "\n",
              "    .dataframe thead th {\n",
              "        text-align: right;\n",
              "    }\n",
              "</style>\n",
              "<table border=\"1\" class=\"dataframe\">\n",
              "  <thead>\n",
              "    <tr style=\"text-align: right;\">\n",
              "      <th></th>\n",
              "      <th>Email Text</th>\n",
              "      <th>Email Type</th>\n",
              "    </tr>\n",
              "  </thead>\n",
              "  <tbody>\n",
              "    <tr>\n",
              "      <th>0</th>\n",
              "      <td>re : 6 . 1100 , disc : uniformitarianism , re ...</td>\n",
              "      <td>Safe Email</td>\n",
              "    </tr>\n",
              "    <tr>\n",
              "      <th>1</th>\n",
              "      <td>the other side of * galicismos * * galicismo *...</td>\n",
              "      <td>Safe Email</td>\n",
              "    </tr>\n",
              "    <tr>\n",
              "      <th>2</th>\n",
              "      <td>re : equistar deal tickets are you still avail...</td>\n",
              "      <td>Safe Email</td>\n",
              "    </tr>\n",
              "    <tr>\n",
              "      <th>3</th>\n",
              "      <td>\\nHello I am your hot lil horny toy.\\n    I am...</td>\n",
              "      <td>Phishing Email</td>\n",
              "    </tr>\n",
              "    <tr>\n",
              "      <th>4</th>\n",
              "      <td>software at incredibly low prices ( 86 % lower...</td>\n",
              "      <td>Phishing Email</td>\n",
              "    </tr>\n",
              "  </tbody>\n",
              "</table>\n",
              "</div>\n",
              "    <div class=\"colab-df-buttons\">\n",
              "\n",
              "  <div class=\"colab-df-container\">\n",
              "    <button class=\"colab-df-convert\" onclick=\"convertToInteractive('df-b97761c0-70c7-4d4c-8dd2-9448ab55563d')\"\n",
              "            title=\"Convert this dataframe to an interactive table.\"\n",
              "            style=\"display:none;\">\n",
              "\n",
              "  <svg xmlns=\"http://www.w3.org/2000/svg\" height=\"24px\" viewBox=\"0 -960 960 960\">\n",
              "    <path d=\"M120-120v-720h720v720H120Zm60-500h600v-160H180v160Zm220 220h160v-160H400v160Zm0 220h160v-160H400v160ZM180-400h160v-160H180v160Zm440 0h160v-160H620v160ZM180-180h160v-160H180v160Zm440 0h160v-160H620v160Z\"/>\n",
              "  </svg>\n",
              "    </button>\n",
              "\n",
              "  <style>\n",
              "    .colab-df-container {\n",
              "      display:flex;\n",
              "      gap: 12px;\n",
              "    }\n",
              "\n",
              "    .colab-df-convert {\n",
              "      background-color: #E8F0FE;\n",
              "      border: none;\n",
              "      border-radius: 50%;\n",
              "      cursor: pointer;\n",
              "      display: none;\n",
              "      fill: #1967D2;\n",
              "      height: 32px;\n",
              "      padding: 0 0 0 0;\n",
              "      width: 32px;\n",
              "    }\n",
              "\n",
              "    .colab-df-convert:hover {\n",
              "      background-color: #E2EBFA;\n",
              "      box-shadow: 0px 1px 2px rgba(60, 64, 67, 0.3), 0px 1px 3px 1px rgba(60, 64, 67, 0.15);\n",
              "      fill: #174EA6;\n",
              "    }\n",
              "\n",
              "    .colab-df-buttons div {\n",
              "      margin-bottom: 4px;\n",
              "    }\n",
              "\n",
              "    [theme=dark] .colab-df-convert {\n",
              "      background-color: #3B4455;\n",
              "      fill: #D2E3FC;\n",
              "    }\n",
              "\n",
              "    [theme=dark] .colab-df-convert:hover {\n",
              "      background-color: #434B5C;\n",
              "      box-shadow: 0px 1px 3px 1px rgba(0, 0, 0, 0.15);\n",
              "      filter: drop-shadow(0px 1px 2px rgba(0, 0, 0, 0.3));\n",
              "      fill: #FFFFFF;\n",
              "    }\n",
              "  </style>\n",
              "\n",
              "    <script>\n",
              "      const buttonEl =\n",
              "        document.querySelector('#df-b97761c0-70c7-4d4c-8dd2-9448ab55563d button.colab-df-convert');\n",
              "      buttonEl.style.display =\n",
              "        google.colab.kernel.accessAllowed ? 'block' : 'none';\n",
              "\n",
              "      async function convertToInteractive(key) {\n",
              "        const element = document.querySelector('#df-b97761c0-70c7-4d4c-8dd2-9448ab55563d');\n",
              "        const dataTable =\n",
              "          await google.colab.kernel.invokeFunction('convertToInteractive',\n",
              "                                                    [key], {});\n",
              "        if (!dataTable) return;\n",
              "\n",
              "        const docLinkHtml = 'Like what you see? Visit the ' +\n",
              "          '<a target=\"_blank\" href=https://colab.research.google.com/notebooks/data_table.ipynb>data table notebook</a>'\n",
              "          + ' to learn more about interactive tables.';\n",
              "        element.innerHTML = '';\n",
              "        dataTable['output_type'] = 'display_data';\n",
              "        await google.colab.output.renderOutput(dataTable, element);\n",
              "        const docLink = document.createElement('div');\n",
              "        docLink.innerHTML = docLinkHtml;\n",
              "        element.appendChild(docLink);\n",
              "      }\n",
              "    </script>\n",
              "  </div>\n",
              "\n",
              "\n",
              "<div id=\"df-0c85b923-e0d1-402d-a2d5-b6eafb5dcfd8\">\n",
              "  <button class=\"colab-df-quickchart\" onclick=\"quickchart('df-0c85b923-e0d1-402d-a2d5-b6eafb5dcfd8')\"\n",
              "            title=\"Suggest charts\"\n",
              "            style=\"display:none;\">\n",
              "\n",
              "<svg xmlns=\"http://www.w3.org/2000/svg\" height=\"24px\"viewBox=\"0 0 24 24\"\n",
              "     width=\"24px\">\n",
              "    <g>\n",
              "        <path d=\"M19 3H5c-1.1 0-2 .9-2 2v14c0 1.1.9 2 2 2h14c1.1 0 2-.9 2-2V5c0-1.1-.9-2-2-2zM9 17H7v-7h2v7zm4 0h-2V7h2v10zm4 0h-2v-4h2v4z\"/>\n",
              "    </g>\n",
              "</svg>\n",
              "  </button>\n",
              "\n",
              "<style>\n",
              "  .colab-df-quickchart {\n",
              "      --bg-color: #E8F0FE;\n",
              "      --fill-color: #1967D2;\n",
              "      --hover-bg-color: #E2EBFA;\n",
              "      --hover-fill-color: #174EA6;\n",
              "      --disabled-fill-color: #AAA;\n",
              "      --disabled-bg-color: #DDD;\n",
              "  }\n",
              "\n",
              "  [theme=dark] .colab-df-quickchart {\n",
              "      --bg-color: #3B4455;\n",
              "      --fill-color: #D2E3FC;\n",
              "      --hover-bg-color: #434B5C;\n",
              "      --hover-fill-color: #FFFFFF;\n",
              "      --disabled-bg-color: #3B4455;\n",
              "      --disabled-fill-color: #666;\n",
              "  }\n",
              "\n",
              "  .colab-df-quickchart {\n",
              "    background-color: var(--bg-color);\n",
              "    border: none;\n",
              "    border-radius: 50%;\n",
              "    cursor: pointer;\n",
              "    display: none;\n",
              "    fill: var(--fill-color);\n",
              "    height: 32px;\n",
              "    padding: 0;\n",
              "    width: 32px;\n",
              "  }\n",
              "\n",
              "  .colab-df-quickchart:hover {\n",
              "    background-color: var(--hover-bg-color);\n",
              "    box-shadow: 0 1px 2px rgba(60, 64, 67, 0.3), 0 1px 3px 1px rgba(60, 64, 67, 0.15);\n",
              "    fill: var(--button-hover-fill-color);\n",
              "  }\n",
              "\n",
              "  .colab-df-quickchart-complete:disabled,\n",
              "  .colab-df-quickchart-complete:disabled:hover {\n",
              "    background-color: var(--disabled-bg-color);\n",
              "    fill: var(--disabled-fill-color);\n",
              "    box-shadow: none;\n",
              "  }\n",
              "\n",
              "  .colab-df-spinner {\n",
              "    border: 2px solid var(--fill-color);\n",
              "    border-color: transparent;\n",
              "    border-bottom-color: var(--fill-color);\n",
              "    animation:\n",
              "      spin 1s steps(1) infinite;\n",
              "  }\n",
              "\n",
              "  @keyframes spin {\n",
              "    0% {\n",
              "      border-color: transparent;\n",
              "      border-bottom-color: var(--fill-color);\n",
              "      border-left-color: var(--fill-color);\n",
              "    }\n",
              "    20% {\n",
              "      border-color: transparent;\n",
              "      border-left-color: var(--fill-color);\n",
              "      border-top-color: var(--fill-color);\n",
              "    }\n",
              "    30% {\n",
              "      border-color: transparent;\n",
              "      border-left-color: var(--fill-color);\n",
              "      border-top-color: var(--fill-color);\n",
              "      border-right-color: var(--fill-color);\n",
              "    }\n",
              "    40% {\n",
              "      border-color: transparent;\n",
              "      border-right-color: var(--fill-color);\n",
              "      border-top-color: var(--fill-color);\n",
              "    }\n",
              "    60% {\n",
              "      border-color: transparent;\n",
              "      border-right-color: var(--fill-color);\n",
              "    }\n",
              "    80% {\n",
              "      border-color: transparent;\n",
              "      border-right-color: var(--fill-color);\n",
              "      border-bottom-color: var(--fill-color);\n",
              "    }\n",
              "    90% {\n",
              "      border-color: transparent;\n",
              "      border-bottom-color: var(--fill-color);\n",
              "    }\n",
              "  }\n",
              "</style>\n",
              "\n",
              "  <script>\n",
              "    async function quickchart(key) {\n",
              "      const quickchartButtonEl =\n",
              "        document.querySelector('#' + key + ' button');\n",
              "      quickchartButtonEl.disabled = true;  // To prevent multiple clicks.\n",
              "      quickchartButtonEl.classList.add('colab-df-spinner');\n",
              "      try {\n",
              "        const charts = await google.colab.kernel.invokeFunction(\n",
              "            'suggestCharts', [key], {});\n",
              "      } catch (error) {\n",
              "        console.error('Error during call to suggestCharts:', error);\n",
              "      }\n",
              "      quickchartButtonEl.classList.remove('colab-df-spinner');\n",
              "      quickchartButtonEl.classList.add('colab-df-quickchart-complete');\n",
              "    }\n",
              "    (() => {\n",
              "      let quickchartButtonEl =\n",
              "        document.querySelector('#df-0c85b923-e0d1-402d-a2d5-b6eafb5dcfd8 button');\n",
              "      quickchartButtonEl.style.display =\n",
              "        google.colab.kernel.accessAllowed ? 'block' : 'none';\n",
              "    })();\n",
              "  </script>\n",
              "</div>\n",
              "\n",
              "    </div>\n",
              "  </div>\n"
            ],
            "text/plain": [
              "                                          Email Text      Email Type\n",
              "0  re : 6 . 1100 , disc : uniformitarianism , re ...      Safe Email\n",
              "1  the other side of * galicismos * * galicismo *...      Safe Email\n",
              "2  re : equistar deal tickets are you still avail...      Safe Email\n",
              "3  \\nHello I am your hot lil horny toy.\\n    I am...  Phishing Email\n",
              "4  software at incredibly low prices ( 86 % lower...  Phishing Email"
            ]
          },
          "execution_count": 8,
          "metadata": {},
          "output_type": "execute_result"
        }
      ],
      "source": [
        "phishing_df.drop(columns=[\"Unnamed: 0\"], inplace=True)\n",
        "phishing_df.head()"
      ]
    },
    {
      "cell_type": "code",
      "execution_count": null,
      "metadata": {
        "colab": {
          "base_uri": "https://localhost:8080/",
          "height": 147
        },
        "id": "cM_1oHHWnK78",
        "outputId": "26c9c00a-82df-4df6-b930-9f02be30256c"
      },
      "outputs": [
        {
          "data": {
            "text/html": [
              "<div>\n",
              "<style scoped>\n",
              "    .dataframe tbody tr th:only-of-type {\n",
              "        vertical-align: middle;\n",
              "    }\n",
              "\n",
              "    .dataframe tbody tr th {\n",
              "        vertical-align: top;\n",
              "    }\n",
              "\n",
              "    .dataframe thead th {\n",
              "        text-align: right;\n",
              "    }\n",
              "</style>\n",
              "<table border=\"1\" class=\"dataframe\">\n",
              "  <thead>\n",
              "    <tr style=\"text-align: right;\">\n",
              "      <th></th>\n",
              "      <th>0</th>\n",
              "    </tr>\n",
              "  </thead>\n",
              "  <tbody>\n",
              "    <tr>\n",
              "      <th>Email Text</th>\n",
              "      <td>16</td>\n",
              "    </tr>\n",
              "    <tr>\n",
              "      <th>Email Type</th>\n",
              "      <td>0</td>\n",
              "    </tr>\n",
              "  </tbody>\n",
              "</table>\n",
              "</div><br><label><b>dtype:</b> int64</label>"
            ],
            "text/plain": [
              "Email Text    16\n",
              "Email Type     0\n",
              "dtype: int64"
            ]
          },
          "execution_count": 9,
          "metadata": {},
          "output_type": "execute_result"
        }
      ],
      "source": [
        "# Check for missing values\n",
        "phishing_df.isna().sum()"
      ]
    },
    {
      "cell_type": "code",
      "execution_count": null,
      "metadata": {
        "colab": {
          "base_uri": "https://localhost:8080/",
          "height": 147
        },
        "id": "NtDObSEppTKF",
        "outputId": "416f697c-3385-4fd6-d8a6-dfe0f39e0372"
      },
      "outputs": [
        {
          "data": {
            "text/html": [
              "<div>\n",
              "<style scoped>\n",
              "    .dataframe tbody tr th:only-of-type {\n",
              "        vertical-align: middle;\n",
              "    }\n",
              "\n",
              "    .dataframe tbody tr th {\n",
              "        vertical-align: top;\n",
              "    }\n",
              "\n",
              "    .dataframe thead th {\n",
              "        text-align: right;\n",
              "    }\n",
              "</style>\n",
              "<table border=\"1\" class=\"dataframe\">\n",
              "  <thead>\n",
              "    <tr style=\"text-align: right;\">\n",
              "      <th></th>\n",
              "      <th>0</th>\n",
              "    </tr>\n",
              "  </thead>\n",
              "  <tbody>\n",
              "    <tr>\n",
              "      <th>Email Text</th>\n",
              "      <td>0</td>\n",
              "    </tr>\n",
              "    <tr>\n",
              "      <th>Email Type</th>\n",
              "      <td>0</td>\n",
              "    </tr>\n",
              "  </tbody>\n",
              "</table>\n",
              "</div><br><label><b>dtype:</b> int64</label>"
            ],
            "text/plain": [
              "Email Text    0\n",
              "Email Type    0\n",
              "dtype: int64"
            ]
          },
          "execution_count": 10,
          "metadata": {},
          "output_type": "execute_result"
        }
      ],
      "source": [
        "# Drop missing values\n",
        "phishing_df = phishing_df.dropna()\n",
        "phishing_df.isna().sum()"
      ]
    },
    {
      "cell_type": "code",
      "execution_count": null,
      "metadata": {
        "colab": {
          "base_uri": "https://localhost:8080/"
        },
        "id": "HOaBc_ltzP97",
        "outputId": "ebe2e537-0b18-4f57-aaab-9b00f2798365"
      },
      "outputs": [
        {
          "data": {
            "text/plain": [
              "533"
            ]
          },
          "execution_count": 12,
          "metadata": {},
          "output_type": "execute_result"
        }
      ],
      "source": [
        "# Check rows with \"empty\" value\n",
        "phishing_df[\"Email Text\"].apply(lambda x: x.strip().lower()==\"empty\").sum()"
      ]
    },
    {
      "cell_type": "code",
      "execution_count": null,
      "metadata": {
        "colab": {
          "base_uri": "https://localhost:8080/"
        },
        "id": "6PT6PB6ZYTVz",
        "outputId": "069b4660-0cc8-4381-cc3f-1bd00081cb46"
      },
      "outputs": [
        {
          "data": {
            "text/plain": [
              "0"
            ]
          },
          "execution_count": 13,
          "metadata": {},
          "output_type": "execute_result"
        }
      ],
      "source": [
        "# Remove rows with \"empty\" value\n",
        "phishing_df = phishing_df[~(phishing_df[\"Email Text\"].apply(lambda x: x.strip().lower()==\"empty\"))]\n",
        "phishing_df[\"Email Text\"].apply(lambda x: x.strip().lower()==\"empty\").sum()"
      ]
    },
    {
      "cell_type": "code",
      "execution_count": null,
      "metadata": {
        "colab": {
          "base_uri": "https://localhost:8080/"
        },
        "id": "yET9rKibuc-9",
        "outputId": "fe9a73da-4c76-4da5-f0c9-897b9bf93aac"
      },
      "outputs": [
        {
          "name": "stdout",
          "output_type": "stream",
          "text": [
            "                                              Email Text      Email Type\n",
            "770    formal invite for chase . secrets revealed . h...  Phishing Email\n",
            "1122   schedulec - dailyo 301 . xls the enclosed file...      Safe Email\n",
            "1178   <äº‹æ¥­è€…>\\næ°å:Vip-mail\\nçªç„¶ã®ãƒ¡ãƒ¼ã...  Phishing Email\n",
            "1241   pill that will solve your problems i promise ;...  Phishing Email\n",
            "1485   URL: http://www.askbjoernhansen.com/archives/2...      Safe Email\n",
            "...                                                  ...             ...\n",
            "18418  Dear Sir,   *Â¡Â°Ã–ÃÃ‚Â·ÃÂ¨Ã…Ã¤Â¼Ã¾Â³Â§Â¡Â±Ã...  Phishing Email\n",
            "18455  ' top law firm dear debbiee , legal services f...  Phishing Email\n",
            "18456  Dear hulkjr ,WANT THE BEST IN COMPUTER FILE SE...  Phishing Email\n",
            "18511  confirm your application dear applicant , your...  Phishing Email\n",
            "18538  retail markets conference i would like to invi...      Safe Email\n",
            "\n",
            "[565 rows x 2 columns]\n"
          ]
        }
      ],
      "source": [
        "# Check for duplicates\n",
        "duplicates = phishing_df[phishing_df.duplicated()]\n",
        "print(duplicates)"
      ]
    },
    {
      "cell_type": "code",
      "execution_count": null,
      "metadata": {
        "colab": {
          "base_uri": "https://localhost:8080/",
          "height": 35
        },
        "id": "7QQwTxaOuRAz",
        "outputId": "aa046d6e-91e7-456d-bf28-54e421cc1f74"
      },
      "outputs": [
        {
          "data": {
            "application/vnd.google.colaboratory.intrinsic+json": {
              "type": "string"
            },
            "text/plain": [
              "\"\\n# Remove duplicates\\nphishing_df = phishing_df.drop_duplicates(keep='first')\\nphishing_df.duplicated().sum()\\n\""
            ]
          },
          "execution_count": 14,
          "metadata": {},
          "output_type": "execute_result"
        }
      ],
      "source": [
        "\"\"\"\n",
        "# Remove duplicates\n",
        "phishing_df = phishing_df.drop_duplicates(keep='first')\n",
        "phishing_df.duplicated().sum()\n",
        "\"\"\""
      ]
    },
    {
      "cell_type": "code",
      "execution_count": null,
      "metadata": {
        "colab": {
          "base_uri": "https://localhost:8080/",
          "height": 206
        },
        "id": "6ejg--NWucp1",
        "outputId": "0113ad06-e9df-401c-959a-50732dbb6351"
      },
      "outputs": [
        {
          "data": {
            "application/vnd.google.colaboratory.intrinsic+json": {
              "summary": "{\n  \"name\": \"phishing_df\",\n  \"rows\": 18101,\n  \"fields\": [\n    {\n      \"column\": \"text\",\n      \"properties\": {\n        \"dtype\": \"string\",\n        \"num_unique_values\": 17536,\n        \"samples\": [\n          \"adv : \\\" free download \\\" register your web site on over 800 + search engines \\\" instanly \\\" this is a responsible email being sent by k . m . a . 4401 vineland road , orlando fl 32811 tel . ( 407 ) 422-6784 . email remove @ mrmailer . com the above statement complies with section 301 requirements relating to transmissions of unsolicited commercial electronic mail . to remove your name from our mailing list immediately , please refer to the statement at the bottom of this message . = = = = = = = = = = = = = = = = = = = = = = = = = = = = = = = = = = = = = = = = = = = = = = = = = = = = = = = = = = = = = = = = = = = \\\" free download \\\" . register your web site to over 800 + search engines \\\" instantly \\\" . version # 4 . 3b just released i would like to inform you about a new , and exciting award winning product that will save you both countless hours , and increase your exposure on the internet immeasurably ! known as the submission wizard , our program offers web users such as yourself the ability to automatically submit your site to over 800 + search engines in just one session . select from different categories , even countries , the choice is yours . the submission process is very simple , efficient , and most importantly , fast . all you do is provide standard site information ( i . e . site name , address , description , and a few well chosen keywords ) . the submission wizard takes this information and changes it into the format required by each different engine , then registers your web site . it 's that simple ! in addition , the wizard 's database of search engines and directories is constantly being updated every week , thus giving your site fresh and relevant exposure . also , the wizard allows you to register multiple url 's . just imagine the possibilities ! take charge of your web exposure . try out the submission wizard demo free by following the provided hyperlink . we know you ' ll be as excited about it as we are ! for your free download visit our site at http : / / www . powersubmitter . com = = = = = = = = = = = = = = = = = = = = = = = = = = = = = = = = = = = = = = = = = = = = = = = = = = = = = = = = promoteone . . . get to # 1 on the search engines new publication . one of the most frequently asked questions is , \\\" how do i get my site listed to the top of the search engines ? \\\" ( i . e . , yahoo , excite , infoseek , webcrawler , hotbot , lycos , & altavista ) here is the answer : now available is \\\" the step by step guide to successfully promoting a web site , \\\" which has been designed to teach you everything you need to know about each of the major search engines . this information is valuable to know before you request search engines to add your web site to . by combining the information you learn from \\\" the guide \\\" and by using the incredible power and flexibility of submission wizard to actually list your web site , you are well on your way to making the investment in a web presence pay off . what most people do n't realize when they try to list their web site with search engines is that each one has it 's own way of doing things . what you know ahead of time could make the difference between finding your site or not . for more information on this book please visit http : / / www . powersubmitter . com and go to our link marked \\\" how to get to the top of the search engines . \\\" for further details . = = = = = = = = = = = = = = = = = = = = = = = = = = = = = = = = = = = = = = = = = = = = = = = = = = = = = = = = = = = thank you for your time , and good luck with your web promotion . d . reynolds customer services . - - - - - - - - - - - - - - - we are currently consolidating our many mailing lists and need to update our databases . our records indicate that you may have inquired in the past . if this is not the case , please reply with \\\" remove \\\" in the subject field to never receive email offers from this vendor .\",\n          \"need your pills ? we have it scrawl mohawk redshank scabrous showroom monitory wattle want a prescription medication ? find it here ! we have all medications you may possibly need ! you name it ! we have it ! stop receiving promotional material now aurora dissipate downward sprinkle gaberones healthy capacious\",\n          \"re : louise kitchen - fortune 50 - no . 17 so louise - you are almost as important as oprah was last year . does this mean you wil be holding talk shows for troubled traders ? m - - - - - original message - - - - - from : scrimshaw , matthew sent : 02 october 2001 16 : 10 to : kitchen , louise cc : romano , marcello subject : louise kitchen - fortune 50 - no . 17 marcello finished 5 th ( out of 30 ) in the caterham 7 ' s at brands hatch on sunday so he ' s famous too now ! carly fiorina tops fortune ' s list of 50 most powerful women in business for fourth year 10 / 01 / 2001 business wire ( copyright ( c ) 2001 , business wire ) new york - - ( business wire ) - - oct . 1 , 2001 - - lower - profile women topple more well - known names from tech and internet sector ; ranking includes 14 newcomers though hewlett - packard lost $ 65 billion in market value in a year , ceo carly fiorina hasn ' t lost her nerve , and for the fourth consecutive year holds the no . 1 position on fortune ' s ranking of the 50 most powerful women in business . the complete list and accompanying stories are in the october 15 issue of fortune , available on newsstands october 8 and at www . fortune . com at 12 : 00 p . m . on october 1 . in the no . 2 spot is ebay ceo meg whitman , who runs an internet company that actually makes money : $ 85 million in the last four quarters on $ 582 million in revenue . oprah winfrey , the queen of media , is mightier than ever , and holds the no . 3 spot , up from no . 15 last year . she produces movies , brings comfort and advice to millions of tv viewers , propels books to bestsellerdom , and , last year , teamed up with hearst magazines ' cathie black ( no . 28 on the list ) to publish o , the oprah magazine - by some measures the most successful magazine startup ever . at no . 4 is andrea jung , chairman and ceo of avon , who has breathed life into ailing avon . mirant ceo marce fuller - the only newcomer in the top five - holds the no . 5 position . inside a stodgy utility , southern , fuller built a high - growth trading and marketing unit , which was spun off in april . in these new , more tempered times , patience may be about to reap its reward . in fortune ' s annual survey of the 50 most powerful women in business , there is a clear emergence of women who came to power slowly . says fortune senior writer pattie sellers in \\\" patient but not passive , \\\" the story that accompanies the list , \\\" by patience , we mean staying with a company , steadily building influence there , and rising to power through determination and insider knowledge , not promises and self - promotion . \\\" fiorina , who has claimed the top spot each year since fortune ' s inaugural list in 1998 , heads the biggest company ( $ 48 billion in revenues last year ) run by a woman . and she is still as audacious and impatient as ever . wall street practically heckled her latest move - a bold bet to buy compaq - but fiorina , 47 , remains defiant . in difficult times , \\\" people who drive change are the subject of great scrutiny , \\\" she says . as always , the list is a snapshot of power at a moment in time . last year , power resided in the technology and internet sectors , but that influence was fleeting . gone from the list this year : deborah \\\" hurricane debby \\\" hopkins , who pushed her agenda too ambitiously at lucent and lost her cfo job in may ; ellen hancock , who failed at the startup , exodus ; and morgan stanley ' s mary meeker , who influenced so many to buy into the internet fizz . but one web warrior looks better than ever : meg whitman , no . 2 on the list . she has never overpromised to investors ; instead she has diligently delivered above - target profits every single quarter . fourteen newcomers join the list this year : marce fuller , president louise kitchen , coo , enron americas ; colleen barrett , president betsy bernard , president & ceo , at anne stevens , vp , north america vehicle operations , ford motor ; maria elena lagomasino , chairman susan desmond - hellman , evp and chief medical officer , genentech ; janet robinson , svp , newspaper operations , new york times co . ; carol tomi , evp and cfo , home depot ; carrie cox , evp and president , global prescriptions , pharmacia ; carole black , president and ceo , lifetime television networks ; janet davidson , group president , integrated network solutions , lucent ; larree renda , evp , retail operations , safeway ; and louise francesconi , vp and gm , missile systems , raytheon . while the economy and its points of power change , the criteria we use to evaluate power remains the same . says sellers : \\\" we consider the size and importance of a woman ' s business in the global economy , her clout inside her company , and the arc of her career - where she has been and where she is likely to go . when appropriate , we also weigh the woman ' s influence on mass culture and society . that factor lifts oprah winfrey to no . 3 on this year ' s list . \\\" the shifts on our list this year are dramatic , with 14 newcomers . but one trend is especially intriguing : women are taking on bigger businesses than ever . a few years ago , responsibility for a $ 3 billion business almost automatically earned a woman a spot on this list . no more . this year ' s fortune 50 includes several women who lead businesses with annual revenues of $ 20 billion or more , which is a first . in a related story , \\\" it took a lady to save avon , \\\" katrina brooker looks at andrea jung , chairman and ceo of avon . says brooker , \\\" jung knows what women want and how to sell it to them . and that ' s what has made her one of the most successful ceos - male or female - in recent years . \\\" over the past 20 months she has overhauled nearly everything about the way avon does business : how it advertises , manufactures , packages , and even sells its products , and she has done it not by abandoning the seemingly outdated avon lady , but by reviving her . the result : growth in revenues , operating profits , and operating margins . in addition , fortune includes an international list of the 50 powerful women in business . the top ten , featured in the magazine , are marjorie scardino , ceo , pearson ( britain ) ; anne lauvergeon , chairman , areva ( france ) ; mary ma , senior vp marianne nivert , president lien siaou - sze , vice president , hewlett - packard ( hong kong ) ; patricia barbizet , ceo , artemis ( france ) ; eiko kono , president , recruit ( japan ) : belinda stronach , ceo , magna international ( canada ) ; marina berlusconi , vice chairman , fininvest ( italy ) ; christine tsung , president & ceo , china airlines ( taiwan ) . you can read about the other forty at www . fortune . com or in the international editions of fortune . 2001 fortune 50 most powerful women in american business 2001 2000 rank rank name title company 1 1 carly fiorina chairman and ceo hewlett - packard 2 3 meg whitman president and ceo ebay 3 15 oprah winfrey chairman harpo entertainment 4 10 andrea jung chairman and ceo avon 5 new marce fuller president and ceo mirant 6 18 anne mulcahy president and ceo xerox 7 14 karen katen evp and president pharmaceutical group pfizer 8 39 pat woertz president , chevron products chevron 9 23 betsy holden co - ceo kraft foods 10 43 indra nooyi president and cfo pepsico 11 7 shelly lazarus chairman and ceo ogilvy & mather worldwide 12 50 abigail johnson president fidelity management and research 13 9 martha stewart chairman and ceo martha stewart living omnimedia 14 12 patricia dunn global ceo barclays global investors 15 16 judy mcgrath chairman and ceo , mtv group viacom 16 17 sherry lansing chairman , motion picture group , paramont viacom 17 new louise kitchen coo enron americas 18 19 lois juliber coo colgate - palmolive 19 18 marilyn carlson nelson chairman and ceo carlson companies 20 new colleen barrett president and coo southwest airlines 21 21 ann moore evp , time inc . aol time warner 22 22 judy lewent evp and cfo merck 23 new betsy bernard president and cfo at & t consumer 24 31 stacey snider chairman , universal pictures vivendi universal 25 30 dina dublon evp and cfo j . p . morgan chase 26 10 pat russo president and coo eastman kodak 27 new anne stevens vp , north american vehicle operations ford motor 28 11 ann livermore president , hp services hewlett - packard 29 28 cathleen black president hearst magazines 30 24 linda sanford svp and group executive , storage systems ibm 31 33 amy brinkley chairman , credit policy bank of america 32 4 donna dubinsky ceo handspring 33 38 marjorie magner senior evp , consumer group citigroup 34 13 nancy peretsman evp and managing director allen & co . 35 25 dawn lepore vice - chair , evp , and cio charles schwab 36 27 gail mcgovern president , fidelity personal investments fidelity 37 new maria elena lagomasino chairman and ceo j . p morgan chase private bank 38 new susan desmond - hellman evp and chief medical officer genentech 39 new janet robinson svp , newspaper operations new york times co . 40 new carol tome evp and cfo home depot 41 46 jamie gorelick vice - chair fannie mae 42 45 vivian banta evp and ceo , u . s . consumer prudential 43 new carrie cox evp and president , global prescriptions pharmacia 44 47 anne sweeney president , abc cable networks group disney 45 new carole black president and ceo lifetime television networks 46 44 marion sandler co - chairman and co - ceo golden west financial 47 new janet davidson group president , integrated network lucent solutions 48 new larree renda evp , retail operations safeway 49 new louise francesconi vp and gm , missile systems raytheon 50 8 abby joseph cohen chief market strategist goldman sachs fortune ' s international 50 most powerful women rank women title company country 1 marjorie scardino ceo pearson britain 2 anne lauvergeon chairman areva france 3 mary ma senior vp and cfo legend hong kong 4 marianne nivert president and ceo telia sweden 5 lien siaou - sze vice president hewlett - packard hong kong 6 patricia barbizet ceo artimis france 7 eiko kono president recruit japan 8 belinda stronach ceo magna international canada 9 marina berlusconi vice chairman fininvest italy 10 christine tsung president and ceo china airlines taiwan 11 maureen kempston darkes president gm canada canada 12 mary minnick president and coo coca cola asia u . s . 13 nita ing chairman taiwan high - speed railway taiwan 14 barbara kux executive director ford europe germany 15 ho ching chairman singapore technologies singapore 16 sari baldauf president nokia networks finland 17 judy boynton cfo royal dutch / shell group britain 18 maria silvia marques bastos ceo companhia siderurgica nacional brazil 19 clara furse ceo london stock exchange britain 20 linda cook ceo shell gas & power britain 21 val gooding ceo bupa britain 22 agnes touraine vice chairman and ceo vivendi universal publishing france 23 margaret jackson chair qantas australia 24 kathleen bader president dow styrenics & engineered prod . switzerland 25 kathleen o ' donovan cfo invensys britain 26 wanda rapaczynksi president agora poland 27 juliet wu shihong executive director tcl holdings china 28 vivienne cox group vice president bp britain 29 marma asuncisn arambruzabala larregui vice chairman grupo modelo mexico 30 yoshiko shinohara president tempstaff japan 31 lalita gupte managing dir . and coo icici india 32 sawako noma president kodansha japan 33 imre barmanbek ceo dogan group turkey 34 nina wang chair chinachem hong kong 35 li yifei general manager mtv china china 36 gail cook - bennett chairperson canada pension plan inv . bd . canada 37 marluce dias da silva director general rede globo brazil 38 anna cheng catalano group vice president bp britain 39 rose marie bravo ceo burberry britain 40 britta steilmann ceo steilmann group germany 41 galia maor president and ceo bank leumi israel 42 magda salarich managing director citrokn spain spain 43 marjorie yang chairman esquel group hong kong 44 teresita sy president sm philippines 45 dominique heriard dubreuil chair and ceo remy cointreau france 46 gianna angelopoulos - daskalaki president athens olympic committee greece 47 naina lal kidwai vice chairman j . p . morgan stanley india 48 barbara cassani ceo go britain 49 irene charnley commercial director m - cell south africa 50 katijah ahmad chair and ceo kaf discounts malaysia\"\n        ],\n        \"semantic_type\": \"\",\n        \"description\": \"\"\n      }\n    },\n    {\n      \"column\": \"label\",\n      \"properties\": {\n        \"dtype\": \"category\",\n        \"num_unique_values\": 2,\n        \"samples\": [\n          \"Phishing Email\",\n          \"Safe Email\"\n        ],\n        \"semantic_type\": \"\",\n        \"description\": \"\"\n      }\n    }\n  ]\n}",
              "type": "dataframe",
              "variable_name": "phishing_df"
            },
            "text/html": [
              "\n",
              "  <div id=\"df-a51b7cda-97f9-482d-ba6d-dcbe6d0b3ac6\" class=\"colab-df-container\">\n",
              "    <div>\n",
              "<style scoped>\n",
              "    .dataframe tbody tr th:only-of-type {\n",
              "        vertical-align: middle;\n",
              "    }\n",
              "\n",
              "    .dataframe tbody tr th {\n",
              "        vertical-align: top;\n",
              "    }\n",
              "\n",
              "    .dataframe thead th {\n",
              "        text-align: right;\n",
              "    }\n",
              "</style>\n",
              "<table border=\"1\" class=\"dataframe\">\n",
              "  <thead>\n",
              "    <tr style=\"text-align: right;\">\n",
              "      <th></th>\n",
              "      <th>text</th>\n",
              "      <th>label</th>\n",
              "    </tr>\n",
              "  </thead>\n",
              "  <tbody>\n",
              "    <tr>\n",
              "      <th>0</th>\n",
              "      <td>re : 6 . 1100 , disc : uniformitarianism , re ...</td>\n",
              "      <td>Safe Email</td>\n",
              "    </tr>\n",
              "    <tr>\n",
              "      <th>1</th>\n",
              "      <td>the other side of * galicismos * * galicismo *...</td>\n",
              "      <td>Safe Email</td>\n",
              "    </tr>\n",
              "    <tr>\n",
              "      <th>2</th>\n",
              "      <td>re : equistar deal tickets are you still avail...</td>\n",
              "      <td>Safe Email</td>\n",
              "    </tr>\n",
              "    <tr>\n",
              "      <th>3</th>\n",
              "      <td>\\nHello I am your hot lil horny toy.\\n    I am...</td>\n",
              "      <td>Phishing Email</td>\n",
              "    </tr>\n",
              "    <tr>\n",
              "      <th>4</th>\n",
              "      <td>software at incredibly low prices ( 86 % lower...</td>\n",
              "      <td>Phishing Email</td>\n",
              "    </tr>\n",
              "  </tbody>\n",
              "</table>\n",
              "</div>\n",
              "    <div class=\"colab-df-buttons\">\n",
              "\n",
              "  <div class=\"colab-df-container\">\n",
              "    <button class=\"colab-df-convert\" onclick=\"convertToInteractive('df-a51b7cda-97f9-482d-ba6d-dcbe6d0b3ac6')\"\n",
              "            title=\"Convert this dataframe to an interactive table.\"\n",
              "            style=\"display:none;\">\n",
              "\n",
              "  <svg xmlns=\"http://www.w3.org/2000/svg\" height=\"24px\" viewBox=\"0 -960 960 960\">\n",
              "    <path d=\"M120-120v-720h720v720H120Zm60-500h600v-160H180v160Zm220 220h160v-160H400v160Zm0 220h160v-160H400v160ZM180-400h160v-160H180v160Zm440 0h160v-160H620v160ZM180-180h160v-160H180v160Zm440 0h160v-160H620v160Z\"/>\n",
              "  </svg>\n",
              "    </button>\n",
              "\n",
              "  <style>\n",
              "    .colab-df-container {\n",
              "      display:flex;\n",
              "      gap: 12px;\n",
              "    }\n",
              "\n",
              "    .colab-df-convert {\n",
              "      background-color: #E8F0FE;\n",
              "      border: none;\n",
              "      border-radius: 50%;\n",
              "      cursor: pointer;\n",
              "      display: none;\n",
              "      fill: #1967D2;\n",
              "      height: 32px;\n",
              "      padding: 0 0 0 0;\n",
              "      width: 32px;\n",
              "    }\n",
              "\n",
              "    .colab-df-convert:hover {\n",
              "      background-color: #E2EBFA;\n",
              "      box-shadow: 0px 1px 2px rgba(60, 64, 67, 0.3), 0px 1px 3px 1px rgba(60, 64, 67, 0.15);\n",
              "      fill: #174EA6;\n",
              "    }\n",
              "\n",
              "    .colab-df-buttons div {\n",
              "      margin-bottom: 4px;\n",
              "    }\n",
              "\n",
              "    [theme=dark] .colab-df-convert {\n",
              "      background-color: #3B4455;\n",
              "      fill: #D2E3FC;\n",
              "    }\n",
              "\n",
              "    [theme=dark] .colab-df-convert:hover {\n",
              "      background-color: #434B5C;\n",
              "      box-shadow: 0px 1px 3px 1px rgba(0, 0, 0, 0.15);\n",
              "      filter: drop-shadow(0px 1px 2px rgba(0, 0, 0, 0.3));\n",
              "      fill: #FFFFFF;\n",
              "    }\n",
              "  </style>\n",
              "\n",
              "    <script>\n",
              "      const buttonEl =\n",
              "        document.querySelector('#df-a51b7cda-97f9-482d-ba6d-dcbe6d0b3ac6 button.colab-df-convert');\n",
              "      buttonEl.style.display =\n",
              "        google.colab.kernel.accessAllowed ? 'block' : 'none';\n",
              "\n",
              "      async function convertToInteractive(key) {\n",
              "        const element = document.querySelector('#df-a51b7cda-97f9-482d-ba6d-dcbe6d0b3ac6');\n",
              "        const dataTable =\n",
              "          await google.colab.kernel.invokeFunction('convertToInteractive',\n",
              "                                                    [key], {});\n",
              "        if (!dataTable) return;\n",
              "\n",
              "        const docLinkHtml = 'Like what you see? Visit the ' +\n",
              "          '<a target=\"_blank\" href=https://colab.research.google.com/notebooks/data_table.ipynb>data table notebook</a>'\n",
              "          + ' to learn more about interactive tables.';\n",
              "        element.innerHTML = '';\n",
              "        dataTable['output_type'] = 'display_data';\n",
              "        await google.colab.output.renderOutput(dataTable, element);\n",
              "        const docLink = document.createElement('div');\n",
              "        docLink.innerHTML = docLinkHtml;\n",
              "        element.appendChild(docLink);\n",
              "      }\n",
              "    </script>\n",
              "  </div>\n",
              "\n",
              "\n",
              "<div id=\"df-e243ad1e-dca6-47fc-b837-261498894473\">\n",
              "  <button class=\"colab-df-quickchart\" onclick=\"quickchart('df-e243ad1e-dca6-47fc-b837-261498894473')\"\n",
              "            title=\"Suggest charts\"\n",
              "            style=\"display:none;\">\n",
              "\n",
              "<svg xmlns=\"http://www.w3.org/2000/svg\" height=\"24px\"viewBox=\"0 0 24 24\"\n",
              "     width=\"24px\">\n",
              "    <g>\n",
              "        <path d=\"M19 3H5c-1.1 0-2 .9-2 2v14c0 1.1.9 2 2 2h14c1.1 0 2-.9 2-2V5c0-1.1-.9-2-2-2zM9 17H7v-7h2v7zm4 0h-2V7h2v10zm4 0h-2v-4h2v4z\"/>\n",
              "    </g>\n",
              "</svg>\n",
              "  </button>\n",
              "\n",
              "<style>\n",
              "  .colab-df-quickchart {\n",
              "      --bg-color: #E8F0FE;\n",
              "      --fill-color: #1967D2;\n",
              "      --hover-bg-color: #E2EBFA;\n",
              "      --hover-fill-color: #174EA6;\n",
              "      --disabled-fill-color: #AAA;\n",
              "      --disabled-bg-color: #DDD;\n",
              "  }\n",
              "\n",
              "  [theme=dark] .colab-df-quickchart {\n",
              "      --bg-color: #3B4455;\n",
              "      --fill-color: #D2E3FC;\n",
              "      --hover-bg-color: #434B5C;\n",
              "      --hover-fill-color: #FFFFFF;\n",
              "      --disabled-bg-color: #3B4455;\n",
              "      --disabled-fill-color: #666;\n",
              "  }\n",
              "\n",
              "  .colab-df-quickchart {\n",
              "    background-color: var(--bg-color);\n",
              "    border: none;\n",
              "    border-radius: 50%;\n",
              "    cursor: pointer;\n",
              "    display: none;\n",
              "    fill: var(--fill-color);\n",
              "    height: 32px;\n",
              "    padding: 0;\n",
              "    width: 32px;\n",
              "  }\n",
              "\n",
              "  .colab-df-quickchart:hover {\n",
              "    background-color: var(--hover-bg-color);\n",
              "    box-shadow: 0 1px 2px rgba(60, 64, 67, 0.3), 0 1px 3px 1px rgba(60, 64, 67, 0.15);\n",
              "    fill: var(--button-hover-fill-color);\n",
              "  }\n",
              "\n",
              "  .colab-df-quickchart-complete:disabled,\n",
              "  .colab-df-quickchart-complete:disabled:hover {\n",
              "    background-color: var(--disabled-bg-color);\n",
              "    fill: var(--disabled-fill-color);\n",
              "    box-shadow: none;\n",
              "  }\n",
              "\n",
              "  .colab-df-spinner {\n",
              "    border: 2px solid var(--fill-color);\n",
              "    border-color: transparent;\n",
              "    border-bottom-color: var(--fill-color);\n",
              "    animation:\n",
              "      spin 1s steps(1) infinite;\n",
              "  }\n",
              "\n",
              "  @keyframes spin {\n",
              "    0% {\n",
              "      border-color: transparent;\n",
              "      border-bottom-color: var(--fill-color);\n",
              "      border-left-color: var(--fill-color);\n",
              "    }\n",
              "    20% {\n",
              "      border-color: transparent;\n",
              "      border-left-color: var(--fill-color);\n",
              "      border-top-color: var(--fill-color);\n",
              "    }\n",
              "    30% {\n",
              "      border-color: transparent;\n",
              "      border-left-color: var(--fill-color);\n",
              "      border-top-color: var(--fill-color);\n",
              "      border-right-color: var(--fill-color);\n",
              "    }\n",
              "    40% {\n",
              "      border-color: transparent;\n",
              "      border-right-color: var(--fill-color);\n",
              "      border-top-color: var(--fill-color);\n",
              "    }\n",
              "    60% {\n",
              "      border-color: transparent;\n",
              "      border-right-color: var(--fill-color);\n",
              "    }\n",
              "    80% {\n",
              "      border-color: transparent;\n",
              "      border-right-color: var(--fill-color);\n",
              "      border-bottom-color: var(--fill-color);\n",
              "    }\n",
              "    90% {\n",
              "      border-color: transparent;\n",
              "      border-bottom-color: var(--fill-color);\n",
              "    }\n",
              "  }\n",
              "</style>\n",
              "\n",
              "  <script>\n",
              "    async function quickchart(key) {\n",
              "      const quickchartButtonEl =\n",
              "        document.querySelector('#' + key + ' button');\n",
              "      quickchartButtonEl.disabled = true;  // To prevent multiple clicks.\n",
              "      quickchartButtonEl.classList.add('colab-df-spinner');\n",
              "      try {\n",
              "        const charts = await google.colab.kernel.invokeFunction(\n",
              "            'suggestCharts', [key], {});\n",
              "      } catch (error) {\n",
              "        console.error('Error during call to suggestCharts:', error);\n",
              "      }\n",
              "      quickchartButtonEl.classList.remove('colab-df-spinner');\n",
              "      quickchartButtonEl.classList.add('colab-df-quickchart-complete');\n",
              "    }\n",
              "    (() => {\n",
              "      let quickchartButtonEl =\n",
              "        document.querySelector('#df-e243ad1e-dca6-47fc-b837-261498894473 button');\n",
              "      quickchartButtonEl.style.display =\n",
              "        google.colab.kernel.accessAllowed ? 'block' : 'none';\n",
              "    })();\n",
              "  </script>\n",
              "</div>\n",
              "\n",
              "    </div>\n",
              "  </div>\n"
            ],
            "text/plain": [
              "                                                text           label\n",
              "0  re : 6 . 1100 , disc : uniformitarianism , re ...      Safe Email\n",
              "1  the other side of * galicismos * * galicismo *...      Safe Email\n",
              "2  re : equistar deal tickets are you still avail...      Safe Email\n",
              "3  \\nHello I am your hot lil horny toy.\\n    I am...  Phishing Email\n",
              "4  software at incredibly low prices ( 86 % lower...  Phishing Email"
            ]
          },
          "execution_count": 15,
          "metadata": {},
          "output_type": "execute_result"
        }
      ],
      "source": [
        "# Rename columns\n",
        "phishing_df = phishing_df.rename(columns={\"Email Text\": \"text\", \"Email Type\": \"label\"})\n",
        "phishing_df.head()"
      ]
    },
    {
      "cell_type": "markdown",
      "metadata": {
        "id": "2KyHjMYNwFgA"
      },
      "source": [
        "**Exploratory Data Analysis (EDA)**"
      ]
    },
    {
      "cell_type": "code",
      "execution_count": null,
      "metadata": {
        "colab": {
          "base_uri": "https://localhost:8080/",
          "height": 367
        },
        "id": "gxE4_JJtwNTl",
        "outputId": "42059c12-f423-4b04-c856-536982790e74"
      },
      "outputs": [
        {
          "data": {
            "image/png": "[encoded data removed]",
            "text/plain": [
              "<Figure size 700x400 with 1 Axes>"
            ]
          },
          "metadata": {},
          "output_type": "display_data"
        }
      ],
      "source": [
        "# Count the values of each Email Type\n",
        "label_counts = phishing_df[\"label\"].value_counts()\n",
        "email_types = label_counts.index.tolist()\n",
        "\n",
        "# Define colors for mapping\n",
        "color_map = {\n",
        "    \"Phishing Email\": \"red\",\n",
        "    \"Safe Email\": \"green\"}\n",
        "\n",
        "# Map the colors to each Email Type\n",
        "colors = [color_map.get(email_type, 'gray') for email_type in email_types]\n",
        "\n",
        "# Create the pie chart with the custom colors\n",
        "plt.figure(figsize=(7, 4))\n",
        "plt.pie(label_counts, colors=colors, autopct='%.2f%%', startangle=90)\n",
        "plt.legend([\"Safe Email\", \"Phishing Email\"], loc=\"lower right\", bbox_to_anchor=(1.3, 0))\n",
        "plt.title(\"Distribution of Email Types\", x=0.65)\n",
        "\n",
        "# Show the chart\n",
        "plt.show()"
      ]
    },
    {
      "cell_type": "code",
      "execution_count": null,
      "metadata": {
        "colab": {
          "base_uri": "https://localhost:8080/",
          "height": 52
        },
        "id": "ivcr7Ny2J48q",
        "outputId": "6388515f-e1cf-4b4c-9c18-685562af4aaf"
      },
      "outputs": [
        {
          "data": {
            "application/vnd.google.colaboratory.intrinsic+json": {
              "type": "string"
            },
            "text/plain": [
              "'\\n# Implement downsampling\\nSafe_Email = phishing_df[phishing_df[\"label\"]==\"Safe Email\"]\\nPhishing_Email = phishing_df[phishing_df[\"label\"]==\"Phishing Email\"]\\nSafe_Email = Safe_Email.sample(Phishing_Email.shape[0], random_state=15)\\n\\n# Check for the shapes of the two dataframes\\nSafe_Email.shape, Phishing_Email.shape\\n'"
            ]
          },
          "execution_count": 17,
          "metadata": {},
          "output_type": "execute_result"
        }
      ],
      "source": [
        "\"\"\"\n",
        "# Implement downsampling\n",
        "Safe_Email = phishing_df[phishing_df[\"label\"]==\"Safe Email\"]\n",
        "Phishing_Email = phishing_df[phishing_df[\"label\"]==\"Phishing Email\"]\n",
        "Safe_Email = Safe_Email.sample(Phishing_Email.shape[0], random_state=15)\n",
        "\n",
        "# Check for the shapes of the two dataframes\n",
        "Safe_Email.shape, Phishing_Email.shape\n",
        "\"\"\""
      ]
    },
    {
      "cell_type": "code",
      "execution_count": null,
      "metadata": {
        "colab": {
          "base_uri": "https://localhost:8080/",
          "height": 52
        },
        "id": "O_N3ZFtKQfRb",
        "outputId": "8be575d4-ff22-4ccf-b2aa-52c071f72b7f"
      },
      "outputs": [
        {
          "data": {
            "application/vnd.google.colaboratory.intrinsic+json": {
              "type": "string"
            },
            "text/plain": [
              "'\\n# Concatenate the two dataframes\\nphishing_df = pd.concat([Safe_Email, Phishing_Email], ignore_index=True)\\n\\n# Shuffle the balanced dataframe\\nphishing_df = phishing_df.sample(frac=1, random_state=15).reset_index(drop=True)\\nphishing_df.head()\\n'"
            ]
          },
          "execution_count": 18,
          "metadata": {},
          "output_type": "execute_result"
        }
      ],
      "source": [
        "\"\"\"\n",
        "# Concatenate the two dataframes\n",
        "phishing_df = pd.concat([Safe_Email, Phishing_Email], ignore_index=True)\n",
        "\n",
        "# Shuffle the balanced dataframe\n",
        "phishing_df = phishing_df.sample(frac=1, random_state=15).reset_index(drop=True)\n",
        "phishing_df.head()\n",
        "\"\"\""
      ]
    },
    {
      "cell_type": "code",
      "execution_count": null,
      "metadata": {
        "colab": {
          "base_uri": "https://localhost:8080/",
          "height": 178
        },
        "id": "yLxbpVOZR4--",
        "outputId": "f3365456-bcba-4092-8f94-291d9391afc0"
      },
      "outputs": [
        {
          "data": {
            "text/html": [
              "<div>\n",
              "<style scoped>\n",
              "    .dataframe tbody tr th:only-of-type {\n",
              "        vertical-align: middle;\n",
              "    }\n",
              "\n",
              "    .dataframe tbody tr th {\n",
              "        vertical-align: top;\n",
              "    }\n",
              "\n",
              "    .dataframe thead th {\n",
              "        text-align: right;\n",
              "    }\n",
              "</style>\n",
              "<table border=\"1\" class=\"dataframe\">\n",
              "  <thead>\n",
              "    <tr style=\"text-align: right;\">\n",
              "      <th></th>\n",
              "      <th>count</th>\n",
              "    </tr>\n",
              "    <tr>\n",
              "      <th>label</th>\n",
              "      <th></th>\n",
              "    </tr>\n",
              "  </thead>\n",
              "  <tbody>\n",
              "    <tr>\n",
              "      <th>Safe Email</th>\n",
              "      <td>11124</td>\n",
              "    </tr>\n",
              "    <tr>\n",
              "      <th>Phishing Email</th>\n",
              "      <td>6977</td>\n",
              "    </tr>\n",
              "  </tbody>\n",
              "</table>\n",
              "</div><br><label><b>dtype:</b> int64</label>"
            ],
            "text/plain": [
              "label\n",
              "Safe Email        11124\n",
              "Phishing Email     6977\n",
              "Name: count, dtype: int64"
            ]
          },
          "execution_count": 17,
          "metadata": {},
          "output_type": "execute_result"
        }
      ],
      "source": [
        "# Get the counts of the two email types\n",
        "phishing_df[\"label\"].value_counts()"
      ]
    },
    {
      "cell_type": "code",
      "execution_count": null,
      "metadata": {
        "colab": {
          "base_uri": "https://localhost:8080/",
          "height": 206
        },
        "id": "mh1FVE7LgffI",
        "outputId": "9ed2c39e-faf0-40c9-ebef-cbe5183b7887"
      },
      "outputs": [
        {
          "data": {
            "application/vnd.google.colaboratory.intrinsic+json": {
              "summary": "{\n  \"name\": \"cleaned_df\",\n  \"rows\": 18101,\n  \"fields\": [\n    {\n      \"column\": \"cleaned text\",\n      \"properties\": {\n        \"dtype\": \"string\",\n        \"num_unique_values\": 17418,\n        \"samples\": [\n          \"spring 2001 modul calendar schedul attach spring 2001 faculti attach spring 2001 modul calendar schedul review pleas note jone graduat school follow tradit univers calendar spring break year question pleas contact kathi kathi spradl mba program coordin jess h jone graduat school manag rice univers 6100 main street ms 531 houston texa 77005 1892 phone 713 348 3313 fax 713 348 5251 email spradlin rice edu http www rice edu jg e mail spradlin rice edu http www ruf rice edu jg spring modul 2001 sch doc spring modul 2001 cal doc\",\n          \"new product ciali soft tab hi new product offer c l soft tab ciali soft tab new impot treatment drug everyon talk soft tab act 36 hour compar two three hour viagra action activ ingredi tadalafil brand ciali simpli disolv half pill tongu 10 min sex best erect ever soft tab also less sideback drive mix alcohol drink get http web deal com soft thank http web deal com rr php\",\n          \"inexpens onlin tablet boobi copybook martinson constitut essenti quadrivium ship qualiti medic overnight door simpl quick afford deliv qualiti medic door stop get brochur muon workbook redwood scour sloven larval punki perhap belgium\"\n        ],\n        \"semantic_type\": \"\",\n        \"description\": \"\"\n      }\n    },\n    {\n      \"column\": \"label\",\n      \"properties\": {\n        \"dtype\": \"category\",\n        \"num_unique_values\": 2,\n        \"samples\": [\n          \"Phishing Email\",\n          \"Safe Email\"\n        ],\n        \"semantic_type\": \"\",\n        \"description\": \"\"\n      }\n    }\n  ]\n}",
              "type": "dataframe",
              "variable_name": "cleaned_df"
            },
            "text/html": [
              "\n",
              "  <div id=\"df-70cd86d7-47f7-48bc-8f3f-ce329e0444b3\" class=\"colab-df-container\">\n",
              "    <div>\n",
              "<style scoped>\n",
              "    .dataframe tbody tr th:only-of-type {\n",
              "        vertical-align: middle;\n",
              "    }\n",
              "\n",
              "    .dataframe tbody tr th {\n",
              "        vertical-align: top;\n",
              "    }\n",
              "\n",
              "    .dataframe thead th {\n",
              "        text-align: right;\n",
              "    }\n",
              "</style>\n",
              "<table border=\"1\" class=\"dataframe\">\n",
              "  <thead>\n",
              "    <tr style=\"text-align: right;\">\n",
              "      <th></th>\n",
              "      <th>cleaned text</th>\n",
              "      <th>label</th>\n",
              "    </tr>\n",
              "  </thead>\n",
              "  <tbody>\n",
              "    <tr>\n",
              "      <th>0</th>\n",
              "      <td>6 1100 disc uniformitarian 1086 sex lang dick ...</td>\n",
              "      <td>Safe Email</td>\n",
              "    </tr>\n",
              "    <tr>\n",
              "      <th>1</th>\n",
              "      <td>side galicismo galicismo spanish term name imp...</td>\n",
              "      <td>Safe Email</td>\n",
              "    </tr>\n",
              "    <tr>\n",
              "      <th>2</th>\n",
              "      <td>equistar deal ticket still avail assist robert...</td>\n",
              "      <td>Safe Email</td>\n",
              "    </tr>\n",
              "    <tr>\n",
              "      <th>3</th>\n",
              "      <td>hello hot lil horni toy one dream open mind pe...</td>\n",
              "      <td>Phishing Email</td>\n",
              "    </tr>\n",
              "    <tr>\n",
              "      <th>4</th>\n",
              "      <td>softwar incred low price 86 lower draperi seve...</td>\n",
              "      <td>Phishing Email</td>\n",
              "    </tr>\n",
              "  </tbody>\n",
              "</table>\n",
              "</div>\n",
              "    <div class=\"colab-df-buttons\">\n",
              "\n",
              "  <div class=\"colab-df-container\">\n",
              "    <button class=\"colab-df-convert\" onclick=\"convertToInteractive('df-70cd86d7-47f7-48bc-8f3f-ce329e0444b3')\"\n",
              "            title=\"Convert this dataframe to an interactive table.\"\n",
              "            style=\"display:none;\">\n",
              "\n",
              "  <svg xmlns=\"http://www.w3.org/2000/svg\" height=\"24px\" viewBox=\"0 -960 960 960\">\n",
              "    <path d=\"M120-120v-720h720v720H120Zm60-500h600v-160H180v160Zm220 220h160v-160H400v160Zm0 220h160v-160H400v160ZM180-400h160v-160H180v160Zm440 0h160v-160H620v160ZM180-180h160v-160H180v160Zm440 0h160v-160H620v160Z\"/>\n",
              "  </svg>\n",
              "    </button>\n",
              "\n",
              "  <style>\n",
              "    .colab-df-container {\n",
              "      display:flex;\n",
              "      gap: 12px;\n",
              "    }\n",
              "\n",
              "    .colab-df-convert {\n",
              "      background-color: #E8F0FE;\n",
              "      border: none;\n",
              "      border-radius: 50%;\n",
              "      cursor: pointer;\n",
              "      display: none;\n",
              "      fill: #1967D2;\n",
              "      height: 32px;\n",
              "      padding: 0 0 0 0;\n",
              "      width: 32px;\n",
              "    }\n",
              "\n",
              "    .colab-df-convert:hover {\n",
              "      background-color: #E2EBFA;\n",
              "      box-shadow: 0px 1px 2px rgba(60, 64, 67, 0.3), 0px 1px 3px 1px rgba(60, 64, 67, 0.15);\n",
              "      fill: #174EA6;\n",
              "    }\n",
              "\n",
              "    .colab-df-buttons div {\n",
              "      margin-bottom: 4px;\n",
              "    }\n",
              "\n",
              "    [theme=dark] .colab-df-convert {\n",
              "      background-color: #3B4455;\n",
              "      fill: #D2E3FC;\n",
              "    }\n",
              "\n",
              "    [theme=dark] .colab-df-convert:hover {\n",
              "      background-color: #434B5C;\n",
              "      box-shadow: 0px 1px 3px 1px rgba(0, 0, 0, 0.15);\n",
              "      filter: drop-shadow(0px 1px 2px rgba(0, 0, 0, 0.3));\n",
              "      fill: #FFFFFF;\n",
              "    }\n",
              "  </style>\n",
              "\n",
              "    <script>\n",
              "      const buttonEl =\n",
              "        document.querySelector('#df-70cd86d7-47f7-48bc-8f3f-ce329e0444b3 button.colab-df-convert');\n",
              "      buttonEl.style.display =\n",
              "        google.colab.kernel.accessAllowed ? 'block' : 'none';\n",
              "\n",
              "      async function convertToInteractive(key) {\n",
              "        const element = document.querySelector('#df-70cd86d7-47f7-48bc-8f3f-ce329e0444b3');\n",
              "        const dataTable =\n",
              "          await google.colab.kernel.invokeFunction('convertToInteractive',\n",
              "                                                    [key], {});\n",
              "        if (!dataTable) return;\n",
              "\n",
              "        const docLinkHtml = 'Like what you see? Visit the ' +\n",
              "          '<a target=\"_blank\" href=https://colab.research.google.com/notebooks/data_table.ipynb>data table notebook</a>'\n",
              "          + ' to learn more about interactive tables.';\n",
              "        element.innerHTML = '';\n",
              "        dataTable['output_type'] = 'display_data';\n",
              "        await google.colab.output.renderOutput(dataTable, element);\n",
              "        const docLink = document.createElement('div');\n",
              "        docLink.innerHTML = docLinkHtml;\n",
              "        element.appendChild(docLink);\n",
              "      }\n",
              "    </script>\n",
              "  </div>\n",
              "\n",
              "\n",
              "<div id=\"df-cac4bec9-6fd0-4291-9a04-443c2ddbf66d\">\n",
              "  <button class=\"colab-df-quickchart\" onclick=\"quickchart('df-cac4bec9-6fd0-4291-9a04-443c2ddbf66d')\"\n",
              "            title=\"Suggest charts\"\n",
              "            style=\"display:none;\">\n",
              "\n",
              "<svg xmlns=\"http://www.w3.org/2000/svg\" height=\"24px\"viewBox=\"0 0 24 24\"\n",
              "     width=\"24px\">\n",
              "    <g>\n",
              "        <path d=\"M19 3H5c-1.1 0-2 .9-2 2v14c0 1.1.9 2 2 2h14c1.1 0 2-.9 2-2V5c0-1.1-.9-2-2-2zM9 17H7v-7h2v7zm4 0h-2V7h2v10zm4 0h-2v-4h2v4z\"/>\n",
              "    </g>\n",
              "</svg>\n",
              "  </button>\n",
              "\n",
              "<style>\n",
              "  .colab-df-quickchart {\n",
              "      --bg-color: #E8F0FE;\n",
              "      --fill-color: #1967D2;\n",
              "      --hover-bg-color: #E2EBFA;\n",
              "      --hover-fill-color: #174EA6;\n",
              "      --disabled-fill-color: #AAA;\n",
              "      --disabled-bg-color: #DDD;\n",
              "  }\n",
              "\n",
              "  [theme=dark] .colab-df-quickchart {\n",
              "      --bg-color: #3B4455;\n",
              "      --fill-color: #D2E3FC;\n",
              "      --hover-bg-color: #434B5C;\n",
              "      --hover-fill-color: #FFFFFF;\n",
              "      --disabled-bg-color: #3B4455;\n",
              "      --disabled-fill-color: #666;\n",
              "  }\n",
              "\n",
              "  .colab-df-quickchart {\n",
              "    background-color: var(--bg-color);\n",
              "    border: none;\n",
              "    border-radius: 50%;\n",
              "    cursor: pointer;\n",
              "    display: none;\n",
              "    fill: var(--fill-color);\n",
              "    height: 32px;\n",
              "    padding: 0;\n",
              "    width: 32px;\n",
              "  }\n",
              "\n",
              "  .colab-df-quickchart:hover {\n",
              "    background-color: var(--hover-bg-color);\n",
              "    box-shadow: 0 1px 2px rgba(60, 64, 67, 0.3), 0 1px 3px 1px rgba(60, 64, 67, 0.15);\n",
              "    fill: var(--button-hover-fill-color);\n",
              "  }\n",
              "\n",
              "  .colab-df-quickchart-complete:disabled,\n",
              "  .colab-df-quickchart-complete:disabled:hover {\n",
              "    background-color: var(--disabled-bg-color);\n",
              "    fill: var(--disabled-fill-color);\n",
              "    box-shadow: none;\n",
              "  }\n",
              "\n",
              "  .colab-df-spinner {\n",
              "    border: 2px solid var(--fill-color);\n",
              "    border-color: transparent;\n",
              "    border-bottom-color: var(--fill-color);\n",
              "    animation:\n",
              "      spin 1s steps(1) infinite;\n",
              "  }\n",
              "\n",
              "  @keyframes spin {\n",
              "    0% {\n",
              "      border-color: transparent;\n",
              "      border-bottom-color: var(--fill-color);\n",
              "      border-left-color: var(--fill-color);\n",
              "    }\n",
              "    20% {\n",
              "      border-color: transparent;\n",
              "      border-left-color: var(--fill-color);\n",
              "      border-top-color: var(--fill-color);\n",
              "    }\n",
              "    30% {\n",
              "      border-color: transparent;\n",
              "      border-left-color: var(--fill-color);\n",
              "      border-top-color: var(--fill-color);\n",
              "      border-right-color: var(--fill-color);\n",
              "    }\n",
              "    40% {\n",
              "      border-color: transparent;\n",
              "      border-right-color: var(--fill-color);\n",
              "      border-top-color: var(--fill-color);\n",
              "    }\n",
              "    60% {\n",
              "      border-color: transparent;\n",
              "      border-right-color: var(--fill-color);\n",
              "    }\n",
              "    80% {\n",
              "      border-color: transparent;\n",
              "      border-right-color: var(--fill-color);\n",
              "      border-bottom-color: var(--fill-color);\n",
              "    }\n",
              "    90% {\n",
              "      border-color: transparent;\n",
              "      border-bottom-color: var(--fill-color);\n",
              "    }\n",
              "  }\n",
              "</style>\n",
              "\n",
              "  <script>\n",
              "    async function quickchart(key) {\n",
              "      const quickchartButtonEl =\n",
              "        document.querySelector('#' + key + ' button');\n",
              "      quickchartButtonEl.disabled = true;  // To prevent multiple clicks.\n",
              "      quickchartButtonEl.classList.add('colab-df-spinner');\n",
              "      try {\n",
              "        const charts = await google.colab.kernel.invokeFunction(\n",
              "            'suggestCharts', [key], {});\n",
              "      } catch (error) {\n",
              "        console.error('Error during call to suggestCharts:', error);\n",
              "      }\n",
              "      quickchartButtonEl.classList.remove('colab-df-spinner');\n",
              "      quickchartButtonEl.classList.add('colab-df-quickchart-complete');\n",
              "    }\n",
              "    (() => {\n",
              "      let quickchartButtonEl =\n",
              "        document.querySelector('#df-cac4bec9-6fd0-4291-9a04-443c2ddbf66d button');\n",
              "      quickchartButtonEl.style.display =\n",
              "        google.colab.kernel.accessAllowed ? 'block' : 'none';\n",
              "    })();\n",
              "  </script>\n",
              "</div>\n",
              "\n",
              "    </div>\n",
              "  </div>\n"
            ],
            "text/plain": [
              "                                        cleaned text           label\n",
              "0  6 1100 disc uniformitarian 1086 sex lang dick ...      Safe Email\n",
              "1  side galicismo galicismo spanish term name imp...      Safe Email\n",
              "2  equistar deal ticket still avail assist robert...      Safe Email\n",
              "3  hello hot lil horni toy one dream open mind pe...  Phishing Email\n",
              "4  softwar incred low price 86 lower draperi seve...  Phishing Email"
            ]
          },
          "execution_count": 18,
          "metadata": {},
          "output_type": "execute_result"
        }
      ],
      "source": [
        "sw = stopwords.words(\"english\") + [\"u\", \"ü\", \"ur\", \"4\", \"2\", \"im\", \"dont\", \"doin\", \"ure\"]\n",
        "ps = PorterStemmer()\n",
        "\n",
        "def text_preprocessing(text):\n",
        "  text = text.strip().lower() # Strip and Lowercase\n",
        "  text = re.sub(r\"http\\S+\", '', text) # Remove Hyperlinks\n",
        "  text = re.sub('[^a-z0-9]', ' ', text) # Remove Special Characters including Punctuations\n",
        "  words = tokenize.word_tokenize(text) # Tokenize the Text\n",
        "  filtered_words = [ps.stem(word) for word in words if word not in sw] # Filter Stopwords and Stem Words\n",
        "  transformed_text = \" \".join(filtered_words)\n",
        "  return transformed_text\n",
        "\n",
        "phishing_df[\"cleaned text\"] = phishing_df[\"text\"].apply(text_preprocessing)\n",
        "cleaned_df = phishing_df[[\"cleaned text\", \"label\"]]\n",
        "cleaned_df.head()"
      ]
    },
    {
      "cell_type": "code",
      "source": [
        "# Remove empty row after preprocessing\n",
        "cleaned_df = cleaned_df[~(cleaned_df[\"cleaned text\"].apply(lambda x: x==\"\"))]\n",
        "cleaned_df[\"cleaned text\"].apply(lambda x: x==\"\").sum()"
      ],
      "metadata": {
        "colab": {
          "base_uri": "https://localhost:8080/"
        },
        "id": "ivFBHotXcW0F",
        "outputId": "aea49ced-4f4a-4b98-9455-b3f0c01136c7"
      },
      "execution_count": null,
      "outputs": [
        {
          "output_type": "execute_result",
          "data": {
            "text/plain": [
              "0"
            ]
          },
          "metadata": {},
          "execution_count": 38
        }
      ]
    },
    {
      "cell_type": "markdown",
      "metadata": {
        "id": "A1OuDDVbh1lU"
      },
      "source": [
        "\n",
        "**DATA SPLITTING AND FEATURE TRANSFORMATION**"
      ]
    },
    {
      "cell_type": "code",
      "execution_count": null,
      "metadata": {
        "id": "7q4f7yaLh0gy"
      },
      "outputs": [],
      "source": [
        "# Train - Test Split\n",
        "from sklearn.model_selection import train_test_split\n",
        "\n",
        "# Data Transformation\n",
        "from sklearn.feature_extraction.text import TfidfVectorizer"
      ]
    },
    {
      "cell_type": "code",
      "execution_count": null,
      "metadata": {
        "colab": {
          "base_uri": "https://localhost:8080/",
          "height": 206
        },
        "id": "nXCuxszkFlQf",
        "outputId": "dd990848-4c61-47ae-91c8-0539c27bf0fc"
      },
      "outputs": [
        {
          "data": {
            "application/vnd.google.colaboratory.intrinsic+json": {
              "summary": "{\n  \"name\": \"cleaned_df\",\n  \"rows\": 18101,\n  \"fields\": [\n    {\n      \"column\": \"cleaned text\",\n      \"properties\": {\n        \"dtype\": \"string\",\n        \"num_unique_values\": 17418,\n        \"samples\": [\n          \"spring 2001 modul calendar schedul attach spring 2001 faculti attach spring 2001 modul calendar schedul review pleas note jone graduat school follow tradit univers calendar spring break year question pleas contact kathi kathi spradl mba program coordin jess h jone graduat school manag rice univers 6100 main street ms 531 houston texa 77005 1892 phone 713 348 3313 fax 713 348 5251 email spradlin rice edu http www rice edu jg e mail spradlin rice edu http www ruf rice edu jg spring modul 2001 sch doc spring modul 2001 cal doc\",\n          \"new product ciali soft tab hi new product offer c l soft tab ciali soft tab new impot treatment drug everyon talk soft tab act 36 hour compar two three hour viagra action activ ingredi tadalafil brand ciali simpli disolv half pill tongu 10 min sex best erect ever soft tab also less sideback drive mix alcohol drink get http web deal com soft thank http web deal com rr php\",\n          \"inexpens onlin tablet boobi copybook martinson constitut essenti quadrivium ship qualiti medic overnight door simpl quick afford deliv qualiti medic door stop get brochur muon workbook redwood scour sloven larval punki perhap belgium\"\n        ],\n        \"semantic_type\": \"\",\n        \"description\": \"\"\n      }\n    },\n    {\n      \"column\": \"label enc\",\n      \"properties\": {\n        \"dtype\": \"number\",\n        \"std\": 0,\n        \"min\": 0,\n        \"max\": 1,\n        \"num_unique_values\": 2,\n        \"samples\": [\n          1,\n          0\n        ],\n        \"semantic_type\": \"\",\n        \"description\": \"\"\n      }\n    }\n  ]\n}",
              "type": "dataframe",
              "variable_name": "cleaned_df"
            },
            "text/html": [
              "\n",
              "  <div id=\"df-86225830-60e8-4121-94ae-c9e04204b3d1\" class=\"colab-df-container\">\n",
              "    <div>\n",
              "<style scoped>\n",
              "    .dataframe tbody tr th:only-of-type {\n",
              "        vertical-align: middle;\n",
              "    }\n",
              "\n",
              "    .dataframe tbody tr th {\n",
              "        vertical-align: top;\n",
              "    }\n",
              "\n",
              "    .dataframe thead th {\n",
              "        text-align: right;\n",
              "    }\n",
              "</style>\n",
              "<table border=\"1\" class=\"dataframe\">\n",
              "  <thead>\n",
              "    <tr style=\"text-align: right;\">\n",
              "      <th></th>\n",
              "      <th>cleaned text</th>\n",
              "      <th>label enc</th>\n",
              "    </tr>\n",
              "  </thead>\n",
              "  <tbody>\n",
              "    <tr>\n",
              "      <th>0</th>\n",
              "      <td>6 1100 disc uniformitarian 1086 sex lang dick ...</td>\n",
              "      <td>0</td>\n",
              "    </tr>\n",
              "    <tr>\n",
              "      <th>1</th>\n",
              "      <td>side galicismo galicismo spanish term name imp...</td>\n",
              "      <td>0</td>\n",
              "    </tr>\n",
              "    <tr>\n",
              "      <th>2</th>\n",
              "      <td>equistar deal ticket still avail assist robert...</td>\n",
              "      <td>0</td>\n",
              "    </tr>\n",
              "    <tr>\n",
              "      <th>3</th>\n",
              "      <td>hello hot lil horni toy one dream open mind pe...</td>\n",
              "      <td>1</td>\n",
              "    </tr>\n",
              "    <tr>\n",
              "      <th>4</th>\n",
              "      <td>softwar incred low price 86 lower draperi seve...</td>\n",
              "      <td>1</td>\n",
              "    </tr>\n",
              "  </tbody>\n",
              "</table>\n",
              "</div>\n",
              "    <div class=\"colab-df-buttons\">\n",
              "\n",
              "  <div class=\"colab-df-container\">\n",
              "    <button class=\"colab-df-convert\" onclick=\"convertToInteractive('df-86225830-60e8-4121-94ae-c9e04204b3d1')\"\n",
              "            title=\"Convert this dataframe to an interactive table.\"\n",
              "            style=\"display:none;\">\n",
              "\n",
              "  <svg xmlns=\"http://www.w3.org/2000/svg\" height=\"24px\" viewBox=\"0 -960 960 960\">\n",
              "    <path d=\"M120-120v-720h720v720H120Zm60-500h600v-160H180v160Zm220 220h160v-160H400v160Zm0 220h160v-160H400v160ZM180-400h160v-160H180v160Zm440 0h160v-160H620v160ZM180-180h160v-160H180v160Zm440 0h160v-160H620v160Z\"/>\n",
              "  </svg>\n",
              "    </button>\n",
              "\n",
              "  <style>\n",
              "    .colab-df-container {\n",
              "      display:flex;\n",
              "      gap: 12px;\n",
              "    }\n",
              "\n",
              "    .colab-df-convert {\n",
              "      background-color: #E8F0FE;\n",
              "      border: none;\n",
              "      border-radius: 50%;\n",
              "      cursor: pointer;\n",
              "      display: none;\n",
              "      fill: #1967D2;\n",
              "      height: 32px;\n",
              "      padding: 0 0 0 0;\n",
              "      width: 32px;\n",
              "    }\n",
              "\n",
              "    .colab-df-convert:hover {\n",
              "      background-color: #E2EBFA;\n",
              "      box-shadow: 0px 1px 2px rgba(60, 64, 67, 0.3), 0px 1px 3px 1px rgba(60, 64, 67, 0.15);\n",
              "      fill: #174EA6;\n",
              "    }\n",
              "\n",
              "    .colab-df-buttons div {\n",
              "      margin-bottom: 4px;\n",
              "    }\n",
              "\n",
              "    [theme=dark] .colab-df-convert {\n",
              "      background-color: #3B4455;\n",
              "      fill: #D2E3FC;\n",
              "    }\n",
              "\n",
              "    [theme=dark] .colab-df-convert:hover {\n",
              "      background-color: #434B5C;\n",
              "      box-shadow: 0px 1px 3px 1px rgba(0, 0, 0, 0.15);\n",
              "      filter: drop-shadow(0px 1px 2px rgba(0, 0, 0, 0.3));\n",
              "      fill: #FFFFFF;\n",
              "    }\n",
              "  </style>\n",
              "\n",
              "    <script>\n",
              "      const buttonEl =\n",
              "        document.querySelector('#df-86225830-60e8-4121-94ae-c9e04204b3d1 button.colab-df-convert');\n",
              "      buttonEl.style.display =\n",
              "        google.colab.kernel.accessAllowed ? 'block' : 'none';\n",
              "\n",
              "      async function convertToInteractive(key) {\n",
              "        const element = document.querySelector('#df-86225830-60e8-4121-94ae-c9e04204b3d1');\n",
              "        const dataTable =\n",
              "          await google.colab.kernel.invokeFunction('convertToInteractive',\n",
              "                                                    [key], {});\n",
              "        if (!dataTable) return;\n",
              "\n",
              "        const docLinkHtml = 'Like what you see? Visit the ' +\n",
              "          '<a target=\"_blank\" href=https://colab.research.google.com/notebooks/data_table.ipynb>data table notebook</a>'\n",
              "          + ' to learn more about interactive tables.';\n",
              "        element.innerHTML = '';\n",
              "        dataTable['output_type'] = 'display_data';\n",
              "        await google.colab.output.renderOutput(dataTable, element);\n",
              "        const docLink = document.createElement('div');\n",
              "        docLink.innerHTML = docLinkHtml;\n",
              "        element.appendChild(docLink);\n",
              "      }\n",
              "    </script>\n",
              "  </div>\n",
              "\n",
              "\n",
              "<div id=\"df-29be1245-9dd4-4c81-accd-8755e1ad5870\">\n",
              "  <button class=\"colab-df-quickchart\" onclick=\"quickchart('df-29be1245-9dd4-4c81-accd-8755e1ad5870')\"\n",
              "            title=\"Suggest charts\"\n",
              "            style=\"display:none;\">\n",
              "\n",
              "<svg xmlns=\"http://www.w3.org/2000/svg\" height=\"24px\"viewBox=\"0 0 24 24\"\n",
              "     width=\"24px\">\n",
              "    <g>\n",
              "        <path d=\"M19 3H5c-1.1 0-2 .9-2 2v14c0 1.1.9 2 2 2h14c1.1 0 2-.9 2-2V5c0-1.1-.9-2-2-2zM9 17H7v-7h2v7zm4 0h-2V7h2v10zm4 0h-2v-4h2v4z\"/>\n",
              "    </g>\n",
              "</svg>\n",
              "  </button>\n",
              "\n",
              "<style>\n",
              "  .colab-df-quickchart {\n",
              "      --bg-color: #E8F0FE;\n",
              "      --fill-color: #1967D2;\n",
              "      --hover-bg-color: #E2EBFA;\n",
              "      --hover-fill-color: #174EA6;\n",
              "      --disabled-fill-color: #AAA;\n",
              "      --disabled-bg-color: #DDD;\n",
              "  }\n",
              "\n",
              "  [theme=dark] .colab-df-quickchart {\n",
              "      --bg-color: #3B4455;\n",
              "      --fill-color: #D2E3FC;\n",
              "      --hover-bg-color: #434B5C;\n",
              "      --hover-fill-color: #FFFFFF;\n",
              "      --disabled-bg-color: #3B4455;\n",
              "      --disabled-fill-color: #666;\n",
              "  }\n",
              "\n",
              "  .colab-df-quickchart {\n",
              "    background-color: var(--bg-color);\n",
              "    border: none;\n",
              "    border-radius: 50%;\n",
              "    cursor: pointer;\n",
              "    display: none;\n",
              "    fill: var(--fill-color);\n",
              "    height: 32px;\n",
              "    padding: 0;\n",
              "    width: 32px;\n",
              "  }\n",
              "\n",
              "  .colab-df-quickchart:hover {\n",
              "    background-color: var(--hover-bg-color);\n",
              "    box-shadow: 0 1px 2px rgba(60, 64, 67, 0.3), 0 1px 3px 1px rgba(60, 64, 67, 0.15);\n",
              "    fill: var(--button-hover-fill-color);\n",
              "  }\n",
              "\n",
              "  .colab-df-quickchart-complete:disabled,\n",
              "  .colab-df-quickchart-complete:disabled:hover {\n",
              "    background-color: var(--disabled-bg-color);\n",
              "    fill: var(--disabled-fill-color);\n",
              "    box-shadow: none;\n",
              "  }\n",
              "\n",
              "  .colab-df-spinner {\n",
              "    border: 2px solid var(--fill-color);\n",
              "    border-color: transparent;\n",
              "    border-bottom-color: var(--fill-color);\n",
              "    animation:\n",
              "      spin 1s steps(1) infinite;\n",
              "  }\n",
              "\n",
              "  @keyframes spin {\n",
              "    0% {\n",
              "      border-color: transparent;\n",
              "      border-bottom-color: var(--fill-color);\n",
              "      border-left-color: var(--fill-color);\n",
              "    }\n",
              "    20% {\n",
              "      border-color: transparent;\n",
              "      border-left-color: var(--fill-color);\n",
              "      border-top-color: var(--fill-color);\n",
              "    }\n",
              "    30% {\n",
              "      border-color: transparent;\n",
              "      border-left-color: var(--fill-color);\n",
              "      border-top-color: var(--fill-color);\n",
              "      border-right-color: var(--fill-color);\n",
              "    }\n",
              "    40% {\n",
              "      border-color: transparent;\n",
              "      border-right-color: var(--fill-color);\n",
              "      border-top-color: var(--fill-color);\n",
              "    }\n",
              "    60% {\n",
              "      border-color: transparent;\n",
              "      border-right-color: var(--fill-color);\n",
              "    }\n",
              "    80% {\n",
              "      border-color: transparent;\n",
              "      border-right-color: var(--fill-color);\n",
              "      border-bottom-color: var(--fill-color);\n",
              "    }\n",
              "    90% {\n",
              "      border-color: transparent;\n",
              "      border-bottom-color: var(--fill-color);\n",
              "    }\n",
              "  }\n",
              "</style>\n",
              "\n",
              "  <script>\n",
              "    async function quickchart(key) {\n",
              "      const quickchartButtonEl =\n",
              "        document.querySelector('#' + key + ' button');\n",
              "      quickchartButtonEl.disabled = true;  // To prevent multiple clicks.\n",
              "      quickchartButtonEl.classList.add('colab-df-spinner');\n",
              "      try {\n",
              "        const charts = await google.colab.kernel.invokeFunction(\n",
              "            'suggestCharts', [key], {});\n",
              "      } catch (error) {\n",
              "        console.error('Error during call to suggestCharts:', error);\n",
              "      }\n",
              "      quickchartButtonEl.classList.remove('colab-df-spinner');\n",
              "      quickchartButtonEl.classList.add('colab-df-quickchart-complete');\n",
              "    }\n",
              "    (() => {\n",
              "      let quickchartButtonEl =\n",
              "        document.querySelector('#df-29be1245-9dd4-4c81-accd-8755e1ad5870 button');\n",
              "      quickchartButtonEl.style.display =\n",
              "        google.colab.kernel.accessAllowed ? 'block' : 'none';\n",
              "    })();\n",
              "  </script>\n",
              "</div>\n",
              "\n",
              "    </div>\n",
              "  </div>\n"
            ],
            "text/plain": [
              "                                        cleaned text  label enc\n",
              "0  6 1100 disc uniformitarian 1086 sex lang dick ...          0\n",
              "1  side galicismo galicismo spanish term name imp...          0\n",
              "2  equistar deal ticket still avail assist robert...          0\n",
              "3  hello hot lil horni toy one dream open mind pe...          1\n",
              "4  softwar incred low price 86 lower draperi seve...          1"
            ]
          },
          "execution_count": 20,
          "metadata": {},
          "output_type": "execute_result"
        }
      ],
      "source": [
        "# Encode Phishing Email and Safe Email\n",
        "cleaned_df[\"label enc\"] = cleaned_df[\"label\"].map({\"Safe Email\": 0, \"Phishing Email\": 1})\n",
        "cleaned_df.drop([\"label\"], axis=1, inplace=True)\n",
        "cleaned_df.head()"
      ]
    },
    {
      "cell_type": "code",
      "execution_count": null,
      "metadata": {
        "id": "1p0tyXFlv9NE"
      },
      "outputs": [],
      "source": [
        "# Save the Cleaned Dataset to personal Google Drive account\n",
        "cleaned_df.to_csv(\"/content/drive/MyDrive/Dataset/cleaned_phishing_email.csv\", index=False)"
      ]
    },
    {
      "cell_type": "code",
      "execution_count": null,
      "metadata": {
        "colab": {
          "base_uri": "https://localhost:8080/"
        },
        "id": "f6Zyjcjs5btr",
        "outputId": "b6c90982-29a6-47b0-f92c-43f94efc85c0"
      },
      "outputs": [
        {
          "name": "stdout",
          "output_type": "stream",
          "text": [
            "X_train Shape: (12670,) - y_train Shape: (12670,)\n",
            "X_test Shape: (5431,) - y_test Shape: (5431,)\n"
          ]
        }
      ],
      "source": [
        "# Define Features and Target as X and y respectively\n",
        "X, y = cleaned_df[\"cleaned text\"], cleaned_df[\"label enc\"]\n",
        "\n",
        "# Split the Cleaned Dataset into the ratio of 7:3\n",
        "X_train, X_test, y_train, y_test = train_test_split(\n",
        "    X, y, test_size=0.3, random_state=15\n",
        ")\n",
        "\n",
        "print(f\"X_train Shape: {X_train.shape} - y_train Shape: {y_train.shape}\")\n",
        "print(f\"X_test Shape: {X_test.shape} - y_test Shape: {y_test.shape}\")"
      ]
    },
    {
      "cell_type": "code",
      "execution_count": null,
      "metadata": {
        "colab": {
          "base_uri": "https://localhost:8080/"
        },
        "id": "zFuCKvBdBQBe",
        "outputId": "5fbd6dbd-c3ed-47e9-9662-b8a273d3c082"
      },
      "outputs": [
        {
          "data": {
            "text/plain": [
              "((12670, 10000), (5431, 10000))"
            ]
          },
          "execution_count": 22,
          "metadata": {},
          "output_type": "execute_result"
        }
      ],
      "source": [
        "# Initialize TF-IDF\n",
        "tfidf = TfidfVectorizer(ngram_range=(1, 2), max_features=10000)\n",
        "\n",
        "# Fit and Transform X_train\n",
        "X_train_tfidf = tfidf.fit_transform(X_train)\n",
        "\n",
        "# Transform X_test\n",
        "X_test_tfidf = tfidf.transform(X_test)\n",
        "\n",
        "# Inspect Dimensions\n",
        "X_train_tfidf.shape, X_test_tfidf.shape"
      ]
    },
    {
      "cell_type": "code",
      "execution_count": null,
      "metadata": {
        "colab": {
          "base_uri": "https://localhost:8080/"
        },
        "id": "WtFzgpaB0qmG",
        "outputId": "e512c8ff-fcb9-4445-ce89-b74d92a47b52"
      },
      "outputs": [
        {
          "name": "stdout",
          "output_type": "stream",
          "text": [
            "Sparsity Percentage of the TF-IDF Matrix: 99.00%\n"
          ]
        }
      ],
      "source": [
        "sparsity = (1.0 - (X_train_tfidf.nnz / float(X_train_tfidf.shape[0] * X_train_tfidf.shape[1]))) * 100\n",
        "print(f\"Sparsity Percentage of the TF-IDF Matrix: {sparsity:.2f}%\")"
      ]
    },
    {
      "cell_type": "markdown",
      "metadata": {
        "id": "DsWIZd66dCjh"
      },
      "source": [
        "**HYPERPARAMETER TUNING AND MODEL TRAINING**"
      ]
    },
    {
      "cell_type": "code",
      "execution_count": null,
      "metadata": {
        "id": "Pzqa9XrgrxxQ"
      },
      "outputs": [],
      "source": [
        "# Algorithms\n",
        "from sklearn.linear_model import LogisticRegression\n",
        "from sklearn.svm import SVC\n",
        "\n",
        "# Hyperparameter Tuning\n",
        "from sklearn.model_selection import GridSearchCV\n",
        "from sklearn.model_selection import RandomizedSearchCV\n",
        "\n",
        "# Cross-Validation\n",
        "from sklearn.model_selection import StratifiedKFold, cross_val_score\n",
        "\n",
        "# Evaluation Metrics\n",
        "from sklearn.metrics import accuracy_score, precision_score, recall_score, f1_score\n",
        "from sklearn.metrics import confusion_matrix, classification_report"
      ]
    },
    {
      "cell_type": "code",
      "execution_count": null,
      "metadata": {
        "id": "RjJIhiVKTdjL"
      },
      "outputs": [],
      "source": [
        "kfold = StratifiedKFold(n_splits=10, shuffle=True, random_state=15)"
      ]
    },
    {
      "cell_type": "markdown",
      "metadata": {
        "id": "wGjShWDYMOT5"
      },
      "source": [
        "**Logistic Regression**"
      ]
    },
    {
      "cell_type": "code",
      "execution_count": null,
      "metadata": {
        "colab": {
          "base_uri": "https://localhost:8080/"
        },
        "id": "YC5Cj3TAPVjW",
        "outputId": "7670e232-1947-43b4-b010-abd0e593fa56"
      },
      "outputs": [
        {
          "name": "stdout",
          "output_type": "stream",
          "text": [
            "penalty: l2\n",
            "C: 12.915496650148826\n",
            "solver: liblinear\n"
          ]
        }
      ],
      "source": [
        "grid_lr_1 = {\n",
        "    \"C\": np.logspace(-2, 2, 10),\n",
        "    \"penalty\": [\"l1\", \"l2\", \"none\"],\n",
        "    \"solver\": [\"lbfgs\", \"liblinear\", \"saga\"],\n",
        "}\n",
        "\n",
        "scoring = [\"accuracy\", \"precision\", \"recall\", \"f1\"]\n",
        "\n",
        "algo_lr_1 = GridSearchCV(LogisticRegression(max_iter=1000), param_grid=grid_lr_1, cv=kfold, scoring=scoring, refit=\"f1\")\n",
        "\n",
        "model_lr_1 = algo_lr_1.fit(X_train_tfidf, y_train)\n",
        "lr_1_best_params = model_lr_1.best_estimator_\n",
        "\n",
        "print(\"penalty:\", lr_1_best_params.get_params()[\"penalty\"])\n",
        "print(\"C:\", lr_1_best_params.get_params()[\"C\"])\n",
        "print(\"solver:\", lr_1_best_params.get_params()[\"solver\"])"
      ]
    },
    {
      "cell_type": "code",
      "execution_count": null,
      "metadata": {
        "id": "orlokdZKz3Ai"
      },
      "outputs": [],
      "source": [
        "y_pred_lr_1 = model_lr_1.predict(X_test_tfidf)"
      ]
    },
    {
      "cell_type": "code",
      "execution_count": null,
      "metadata": {
        "colab": {
          "base_uri": "https://localhost:8080/"
        },
        "id": "x2qVrP5MnhGZ",
        "outputId": "68f910f4-3c1d-433b-f7a8-0c1a94f472ad"
      },
      "outputs": [
        {
          "name": "stdout",
          "output_type": "stream",
          "text": [
            "Training F1 - LR: 0.9748428349119772\n",
            "Testing F1 - LR: 0.9746070133010882\n"
          ]
        }
      ],
      "source": [
        "print(\"Training F1 - LR:\", model_lr_1.best_score_)\n",
        "print(\"Testing F1 - LR:\", f1_score(y_test, y_pred_lr_1))"
      ]
    },
    {
      "cell_type": "markdown",
      "metadata": {
        "id": "gz_CPaCnMdgh"
      },
      "source": [
        "**Support Vector Machine**"
      ]
    },
    {
      "cell_type": "code",
      "execution_count": null,
      "metadata": {
        "colab": {
          "base_uri": "https://localhost:8080/",
          "height": 70
        },
        "id": "nvtDdOgm1I5f",
        "outputId": "edf50425-f840-4a5a-dfb8-a0571acd9ff3"
      },
      "outputs": [
        {
          "data": {
            "application/vnd.google.colaboratory.intrinsic+json": {
              "type": "string"
            },
            "text/plain": [
              "'\\ngrid_svc_1 = {\\n    \"C\": [0.01, 0.1, 1, 10, 100],\\n    \"kernel\": [\"linear\", \"poly\", \"rbf\"],\\n    \"gamma\": [\"scale\", \"auto\"]\\n}\\n\\nscoring = [\"accuracy\", \"precision\", \"recall\", \"f1\"]\\n\\nalgo_svc_1 = GridSearchCV(SVC(), param_grid=grid_svc_1, cv=kfold, scoring=scoring, refit=\"f1\")\\n\\nmodel_svc_1 = algo_svc_1.fit(X_train_tfidf, y_train)\\nsvc_1_best_params = model_svc_1.best_estimator_\\n\\nprint(\"C:\", svc_1_best_params.get_params()[\"C\"])\\nprint(\"kernel:\", svc_1_best_params.get_params()[\"kernel\"])\\nprint(\"gamma:\", svc_1_best_params.get_params()[\"gamma\"])\\n'"
            ]
          },
          "execution_count": 35,
          "metadata": {},
          "output_type": "execute_result"
        }
      ],
      "source": [
        "grid_svc_1 = {\n",
        "    \"C\": [0.01, 0.1, 1, 10, 100],\n",
        "    \"kernel\": [\"linear\", \"poly\", \"rbf\"],\n",
        "    \"gamma\": [\"scale\", \"auto\"]\n",
        "}\n",
        "\n",
        "scoring = [\"accuracy\", \"precision\", \"recall\", \"f1\"]\n",
        "\n",
        "algo_svc_1 = GridSearchCV(SVC(), param_grid=grid_svc_1, cv=kfold, scoring=scoring, refit=\"f1\")\n",
        "\n",
        "model_svc_1 = algo_svc_1.fit(X_train_tfidf, y_train)\n",
        "svc_1_best_params = model_svc_1.best_estimator_\n",
        "\n",
        "print(\"C:\", svc_1_best_params.get_params()[\"C\"])\n",
        "print(\"kernel:\", svc_1_best_params.get_params()[\"kernel\"])\n",
        "print(\"gamma:\", svc_1_best_params.get_params()[\"gamma\"])"
      ]
    },
    {
      "cell_type": "code",
      "execution_count": null,
      "metadata": {
        "id": "-15kG7KI8TNa"
      },
      "outputs": [],
      "source": [
        "y_pred_svc_1 = model_svc_1.predict(X_test_tfidf)"
      ]
    },
    {
      "cell_type": "code",
      "execution_count": null,
      "metadata": {
        "colab": {
          "base_uri": "https://localhost:8080/"
        },
        "id": "Xy0WY-30pGPu",
        "outputId": "b3430cf7-eb60-4ab8-8860-0cdf5e2ec5d7"
      },
      "outputs": [
        {
          "name": "stdout",
          "output_type": "stream",
          "text": [
            "Training F1 - SVC: 0.9758984557336159\n",
            "Testing F1 - SVC: 0.9759533641000728\n"
          ]
        }
      ],
      "source": [
        "print(\"Training F1 - SVC:\", model_svc_1.best_score_)\n",
        "print(\"Testing F1 - SVC:\", f1_score(y_test, y_pred_svc_1))"
      ]
    },
    {
      "cell_type": "markdown",
      "metadata": {
        "id": "dzkfX8KZLE_E"
      },
      "source": [
        "**EVALUATION**"
      ]
    },
    {
      "cell_type": "markdown",
      "metadata": {
        "id": "cByZQDb5SZ7h"
      },
      "source": [
        "**Logistic Regression**"
      ]
    },
    {
      "cell_type": "code",
      "execution_count": null,
      "metadata": {
        "colab": {
          "base_uri": "https://localhost:8080/",
          "height": 544
        },
        "id": "pce0MxYDS5hJ",
        "outputId": "6532eb84-26df-4e6b-e2c0-f0fb1b1de974"
      },
      "outputs": [
        {
          "name": "stdout",
          "output_type": "stream",
          "text": [
            "              precision    recall  f1-score   support\n",
            "\n",
            "           0       0.99      0.98      0.98      3367\n",
            "           1       0.97      0.98      0.97      2064\n",
            "\n",
            "    accuracy                           0.98      5431\n",
            "   macro avg       0.98      0.98      0.98      5431\n",
            "weighted avg       0.98      0.98      0.98      5431\n",
            "\n"
          ]
        },
        {
          "data": {
            "image/png": "[encoded data removed]",
            "text/plain": [
              "<Figure size 600x400 with 2 Axes>"
            ]
          },
          "metadata": {},
          "output_type": "display_data"
        }
      ],
      "source": [
        "print(classification_report(y_test, y_pred_lr_1))\n",
        "cm_lr = confusion_matrix(y_test, y_pred_lr_1)\n",
        "plt.figure(figsize=(6,4))\n",
        "sns.heatmap(\n",
        "    cm_lr, annot=True,\n",
        "    fmt='.2f',\n",
        "    xticklabels=[\"Safe Mail\", \"Phishing Mail\"],\n",
        "    yticklabels=[\"Safe Mail\", \"Phishing Mail\"],\n",
        "    cmap=\"crest\"\n",
        ")\n",
        "plt.ylabel(\"Actual\")\n",
        "plt.xlabel(\"Predicted\")\n",
        "plt.show();"
      ]
    },
    {
      "cell_type": "markdown",
      "metadata": {
        "id": "dyu5AoQxSh_i"
      },
      "source": [
        "**Support Vector Machine**"
      ]
    },
    {
      "cell_type": "code",
      "execution_count": null,
      "metadata": {
        "colab": {
          "base_uri": "https://localhost:8080/",
          "height": 544
        },
        "id": "KURYgaj6Se1x",
        "outputId": "27d832ee-30a3-4712-81dc-574dd8f81e3d"
      },
      "outputs": [
        {
          "name": "stdout",
          "output_type": "stream",
          "text": [
            "              precision    recall  f1-score   support\n",
            "\n",
            "           0       0.98      0.99      0.99      3367\n",
            "           1       0.98      0.97      0.98      2064\n",
            "\n",
            "    accuracy                           0.98      5431\n",
            "   macro avg       0.98      0.98      0.98      5431\n",
            "weighted avg       0.98      0.98      0.98      5431\n",
            "\n"
          ]
        },
        {
          "data": {
            "image/png": "[encoded data removed]",
            "text/plain": [
              "<Figure size 600x400 with 2 Axes>"
            ]
          },
          "metadata": {},
          "output_type": "display_data"
        }
      ],
      "source": [
        "print(classification_report(y_test, y_pred_svc_1))\n",
        "cm_svc = confusion_matrix(y_test, y_pred_svc_1)\n",
        "plt.figure(figsize=(6,4))\n",
        "sns.heatmap(\n",
        "    cm_svc, annot=True,\n",
        "    fmt='.2f',\n",
        "    xticklabels=[\"Safe Mail\", \"Phishing Mail\"],\n",
        "    yticklabels=[\"Safe Mail\", \"Phishing Mail\"],\n",
        "    cmap=\"crest\"\n",
        ")\n",
        "plt.ylabel(\"Actual\")\n",
        "plt.xlabel(\"Predicted\")\n",
        "plt.show();"
      ]
    }
  ],
  "metadata": {
    "colab": {
      "provenance": []
    },
    "kernelspec": {
      "display_name": "Python 3",
      "name": "python3"
    },
    "language_info": {
      "name": "python"
    }
  },
  "nbformat": 4,
  "nbformat_minor": 0
}